{
  "cells": [
    {
      "cell_type": "markdown",
      "metadata": {
        "id": "view-in-github",
        "colab_type": "text"
      },
      "source": [
        "<a href=\"https://colab.research.google.com/github/otavio-hbf/Ecossystems-with-limiting-resources/blob/main/(Original)_P2.ipynb\" target=\"_parent\"><img src=\"https://colab.research.google.com/assets/colab-badge.svg\" alt=\"Open In Colab\"/></a>"
      ]
    },
    {
      "cell_type": "markdown",
      "metadata": {
        "id": "C6bJcNgggkRl"
      },
      "source": [
        "#**Ecossistemas com competição por um recurso limitante**\n",
        "\n",
        "Autores:\n",
        "\n",
        "* Luís Felipe Oliveira\n",
        "\n",
        "* Otávio Henrique Francisco\n",
        "\n",
        "* Pedro Nascimento Coêlho\n",
        "\n",
        "* Thiago Ramalho Magalhães\n"
      ]
    },
    {
      "cell_type": "markdown",
      "metadata": {
        "id": "JKt8k7A_zNoJ"
      },
      "source": [
        "# **I) Resumo**"
      ]
    },
    {
      "cell_type": "markdown",
      "metadata": {
        "id": "8Fa85jt4zTYL"
      },
      "source": [
        "Este trabalho tem como objetivo explorar a dinâmica populacional presente em espécies que vivenciam uma competição interespecífica por recursos, cuja disponibilidade varia temporalmente devido ao seu consumo e à influência de *inputs* externos (que podem ser entradas sazonais ou constantes). Serão utilizados para este propósito modelos matemáticos (como o desenvolvimento de Equações Diferenciais Ordinárias) para obtenção dos resultados esperados. Em especial, será abordado o modelo de competição proposto por Lluc Briganti Wiprachtiger em seu artigo \"The effects of seasonality on competition for a limiting resource\", que admite variação temporal da variável que representa os recursos naturais pelos quais ambas as espécies competem.\n",
        "\n",
        "Ao longo do trabalho, será mostrado como as variações dos parâmetros influenciam na modelagem dos gráficos e como as espécies vão se comportar em diferentes cenários, evidenciando quais as condições necessárias ou para o equilíbrio entre as espécies, ou para a extinção, ou para a prevalência de uma espécie sobre a outra."
      ]
    },
    {
      "cell_type": "markdown",
      "metadata": {
        "id": "1s3w5UIbzY0H"
      },
      "source": [
        "# **II) Introdução e Objetivos**"
      ]
    },
    {
      "cell_type": "markdown",
      "metadata": {
        "id": "hVOJ_FgnznhF"
      },
      "source": [
        "Relações ecológicas são interações que ocorrem entre seres vivos. Elas podem ocorrer tanto entre indivíduos de uma mesma espécie, quanto entre indivíduos de espécies diferentes, podendo ser harmônicas, na qual ambos indivíduos se beneficiam, ou desarmônicas, quando há prejuizo para, pelo menos, um dos envolvidos.\n",
        "\n",
        "Nesse contexto, vale ressaltar uma relação ecológica essencial para a manutenção do meio ambiente: a competição entre espécies. A competição é um fenômeno natural comum, onde duas ou mais espécies disputam os mesmos recursos, como água, comida e território. Quando esses recursos são limitados, a competição pode se tornar intensa e levar à instabilidade na dinâmica populacional das espécies envolvidas, podendo acarretar a extinção de uma das espécies comprometidas.\n",
        "\n",
        "Neste cenário, modelos matemáticos de Equações Diferenciais Ordinárias podem ser ferramentas poderosas para entender e prever como as populações das espécies interagem e evoluem ao longo do tempo. O modelo de Lluc Briganti Wiprachtiger utilizado nesta análise leva em consideração fatores como taxas de nascimento, mortalidade e tempo de obtenção do recurso pelas espécies envolvidas.\n",
        "\n",
        "Porém, o maior diferencial deste modelo é a possibilidade de se admitir uma função para modelar inserção natural do recurso dentro do ecossistema, permitindo que esta variável seja alterada não apenas devido ao consumo, mas também em decorrência de entradas externas. Esta característica é crucial pois contribui para uma maior equivalência entre a representação matemática e os sistemas ecológicos reais, visto que ao contrário da grande maioria dos modelos, o de Lluc Briganti Wiprachtiger pode simular a influência da sazonalidade na disponibilização do recurso disputado.\n",
        "\n",
        "Será mostrado que esta inclusão de fatores sazonais enriquece bastante a descrição analítica, concedendo-a uma maior estabilidade e contornando o princípio da exclusão competitiva, que é uma preposição da ecologia que afirma, para ambientes isolados, a impossibilidade da coexistência entre duas espécies vivendo em constante competição pelo mesmo nutriente limitado. Esta regra se mostra presente também em grande parte das aproximações matemáticas que representam competição intra-específica, no entanto, graças ao input de recurso presente na representação de Lluc Briganti Wiprachtiger, esta aproximação é capaz de superar este destino e se aproximar de sistemas reais, onde se observa coexistência apesar da disputa.\n",
        "\n",
        "Contudo, apesar deste grande protagonismo da entrada de recurso, é conveniente que a análise foque primeiramente em investigar como os parâmetros mais simples da fórmula de Lluc Briganti Wiprachtiger (como taxa de reprodução, taxa de mortalidade e tempo de obtenção do recurso) são capazes de afetar a dinâmica populacional entre as espécies ao longo do período estudado. Certas configurações destes indicadores permitem que o sistema alcançe um estado chamado de \"meta-estabilidade\", onde há coexistencia entre espécies por um tempo considerável, e o princípio da exclusão competitiva é amenizado sem a necessidade de levar em consideração agentes sazonais.\n",
        "\n",
        "Espera-se que, ao final do trabalho, seja obtida uma compreensão mais profunda da dinâmica populacional de espécies competidoras em ambientes naturais, e também de como esses sistemas se comportam diante de uma entrada constante ou periódica de recurso. Ademais, busca-se compreender o papel desta entrada e dos demais parâmetros na garantia da estabilidade do ambiente."
      ]
    },
    {
      "cell_type": "markdown",
      "metadata": {
        "id": "Ilgs-j5MV7h-"
      },
      "source": [
        "# **III) Mapa Mental**"
      ]
    },
    {
      "cell_type": "markdown",
      "metadata": {
        "id": "wcZERjlmY7GB"
      },
      "source": [
        "https://coggle.it/diagram/ZAkIBQdbg_zeVIjS/t/formula/25334aa285d89c6feeda847ac61b6503be14746355bffe0c1d6d7e3e120ac60d"
      ]
    },
    {
      "cell_type": "markdown",
      "metadata": {
        "id": "TvDrl81Gz6-7"
      },
      "source": [
        "# **IV) Modelo**\n"
      ]
    },
    {
      "cell_type": "markdown",
      "metadata": {
        "id": "ydKoiuKRX9kD"
      },
      "source": [
        "### O modelo abaixo foi proposto por Lluc Briganti Wiprachtiger em seu artigo \"The effects of seasonality on competition for a limiting resource\" com a intenção de descrever com maior profundidade a dinâmica entre duas espécies competindo por um recurso que varia tanto com o consumo quanto por alteração natural (representada pela entrada f(t)). Esta proposta foi feita em oposição à maioria dos modelos de competição, onde o recurso varia somente com o consumo."
      ]
    },
    {
      "cell_type": "markdown",
      "metadata": {
        "id": "FaefOXknO3cY"
      },
      "source": [
        "### $I. \\dfrac{dA_1}{dt} = \\dfrac{a_1b_1RA_1}{1 + a_1h_1R} - μ_1A_1$ ,##\n",
        "### $II.\\dfrac{dA_2}{dt} = \\dfrac{a_2b_2RA_2}{1 + a_2h_2R} - μ_2A_2$ ,##\n",
        "### $III.\\dfrac{dR}{dt} = f(t) - jR - \\dfrac{a_1RA_1}{1 + a_1h_1R} - \\dfrac{a_2RA_2}{1 + a_2h_2R}$\n"
      ]
    },
    {
      "cell_type": "markdown",
      "metadata": {
        "id": "PmfpmYIwQKdB"
      },
      "source": [
        "| Variável   | Significado                              |unidade|\n",
        "|------------|--------------------------------------------|--------|\n",
        "|$A_i $|Densidade populacional da espécie i               |    g   |\n",
        "|$R   $|Densidade de Recursos                             |    g   |\n",
        "|$t   $|Tempo                                             |    s   |\n",
        "|$a_i $|Taxa em que a espécie i se reproduz               |  1/gs  |\n",
        "|$b_i $|Coeficiente de conversão de nutriente para biomassa da espécie i|não há|\n",
        "|$h_i $|Tempo de obtenção do recurso pela espécie i       |    s   |\n",
        "|$μ_i $|Taxa de Mortalidade da espécie i                  |  1/s   |\n",
        "|$f(t)$|Entrada de nutriente                              |   g/s  |\n",
        "|$j $  |Taxa de esgotamento dos nutrientes                |   1/s  |"
      ]
    },
    {
      "cell_type": "markdown",
      "metadata": {
        "id": "JndcuXdDIkBc"
      },
      "source": [
        "* A densidade populacional, denotada por $A_1$ e $A_2$, tipicamente se \n",
        "refere a uma grandeza ecológica que descreve a quantidade de indivíduos da espécie por unidade de área. No entanto, dentro do modelo de Lluc Briganti Wiprachtiger, esta grandeza assume um significado diferente, que é evidenciado pelo uso de \"gramas\" como unidade ao invés de um padrão que expresse indivíduos por área ou massa por área. Nesse contexto, densidade populacional está transmitindo a massa somada de indivíduos da mesma espécie ocupando uma área previamente definida e comum às duas populações. Nas simulações feitas neste trabalho, não serão usados dados reais para valorizar este parâmetro. Porém, em um eventual uso desta representação matemática para modelar um ecossistema real, a densidade populacional poderia ser estimada com alguns métodos convencionais da ecologia para aproximação de populações de espécie, como marcação e recaptura, estimativa estatística por habitat ou técnicas de detecção de som.\n"
      ]
    },
    {
      "cell_type": "markdown",
      "metadata": {
        "id": "XvMBuX8ZSyJ1"
      },
      "source": [
        "* A densidade de recurso, denotada por $R$ segue um significado similar à densidade populacional, sendo representada pela unidade de massa \"grama\" e expressando a disponibilidade do recurso através da massa total dentro de uma área predeterminada ao invés de explicitamente transmitir uma densidade (massa por área). Pode ser estimado na natureza através da coleta de amostra (se o ecossistema for aquático, uma amostra da água pode informar a concentração do recurso, por exemplo), técnicas de mapeamento e em alguns casos técnicas de análise de imagem (especialmente útil quando o recurso é um tipo de vegetação)."
      ]
    },
    {
      "cell_type": "markdown",
      "metadata": {
        "id": "edUjJwMwV8Vz"
      },
      "source": [
        "* A variável tempo $t$ é a variável independente convencional, sobre a qual é realizada a operação de derivada em $A_1$, $A_2$ e $R$. Em testes reais, a unidade \"segundo\" poderia ser alterada para outra medida mais conveniente, contanto que os coeficientes $a_i$, $h_i$, $μ_i$ e $j$, assim como a função $f(t)$ passem pela mesma adaptação de unidade de tempo."
      ]
    },
    {
      "cell_type": "markdown",
      "source": [
        "* As taxas de reprodução $a_i$ e de mortalidade $μ_i$ são ambas grandezas que expressam um ritmo de variação da densidade populacional de suas respectivas espécies em função da configuração atual desta mesma população. São mais complexas de medir empiricamente por conta desta necessidade de se conhecer o tamanho atual da população e as condições que podem afetar o acasalamento e a mortandade. Ainda assim, é possível estimar a taxa de reprodução a partir de estudos que envolvam contagem de ovos (no caso de animais ovíparos), ninhos, filhotes e também análise hormonal. Já a taxa de mortalidade pode necessitar de um monitoramento mais direto, envolvendo coleta de carcaças, marcação e recaptura, além de estudo demográfico. Porém, para serem estimadas com alto grau de confiança ambas as medidas exigem uma considerável análise estatística, incluindo a coleta e estudo de dados durante um período prolongado de tempo, já que esses dois parâmetros apresentam um significado prático um pouco mais abstrato do que os citados anteriormente."
      ],
      "metadata": {
        "id": "LqXhNP9wC90m"
      }
    },
    {
      "cell_type": "markdown",
      "source": [
        "* A taxa de esgotamento do recurso $j$ segue uma lógica parecida à das taxas de reprodução e mortalidade, podendo ser estimada por meio de metodologias similares às da taxa de mortalidade e também exigindo uma análise mais substancial do que os parâmetros anteriores. Fisicamente simboliza o decaimento natural do recurso que não é causado pelo consumo."
      ],
      "metadata": {
        "id": "8_LTU9IoDDsM"
      }
    },
    {
      "cell_type": "markdown",
      "source": [
        "* O coeficiente de conversão de nutriente para biomassa $b_i$ e o tempo de obtenção do recurso $h_i$ estão entre as grandezas mais abstratas, possuindo significado quase puramente matemático. Por conta disso, algumas maneiras viáveis de estimá-los passam por modelagem matemática. No contexto do sistema de ODEs de Lluc Briganti Wiprachtiger, pode ser vantajoso testar diferentes configurações destes dois parâmetros, mantendo as valorações que resultam em uma maior aproximação entre o comportamento do modelo e os dados obtidos da observação real do ecossistema tratado. O coeficiente $b_i$ está ligado à proporção necessária do nutriente que precisa ser consumida para se gerar biomassa, possibilitando a perpetuação da espécie via reprodução, enquanto que o tempo de obtenção do recurso $h_i$ está relacionado ao ritmo com o qual a espécie consegue nutrir-se do recurso conforme ele vai sendo disponibilizado."
      ],
      "metadata": {
        "id": "W04eLUawDE_E"
      }
    },
    {
      "cell_type": "markdown",
      "source": [
        "* A entrada de recurso $f(t)$ é o componente chave deste modelo, possibilitando a admissão de um estímulo externo que provoque variações na disponibilidade do recurso independentemente do valor atual de $R$. Este fator é responsável por eliminar a característica de isolamento do ecossistema modelado, e por isso é capaz de superar o princípio da exclusão competitiva. A entrada $f(t)$ pode assumir a forma de qualquer função, porém, serão consideradas apenas funções que assumam **valores maiores ou iguais a zero**, já que, por $f(t)$ não estar sendo multiplicado por um $R$ na fórmula de $dR/dt$, valores negativos de $f(t)$ causariam um rápido esgotamento do recurso, o que não é de interesse do projeto atual que busca explorar as condições para equilíbrio entre espécies. É válido também reiterar que $f(t)$ não será tratado neste trabalho como um dado a ser extraído empiricamente de ecossistemas reais. Ao invés disso, deseja-se estudar o comportamento do modelo diante de diferentes escolhas de função."
      ],
      "metadata": {
        "id": "2ekft0QADIHW"
      }
    },
    {
      "cell_type": "markdown",
      "source": [
        "Na análise que será feita na sessão \"Códigos de Modelo\", **NÃO** foram utilizados quaisquer dados reais obtidos a partir das técnicas mencionadas ou adquiridos de alguma base de dados prévia. Ao invés disso, para facilitar a compreensão dos comportamentos estudados, todos os parâmetros foram ajustados manualmente após diversos testes, de forma que foram escolhidos aqueles valores que mais contribuíram para a visualização clara dos gráficos plotados. É oportuno destacar também que para manter a correspondência entre o modelo e os sistemas biológicos que ele representa, será evitado ao máximo configurações de parâmetros que resultem em qualquer momento em valores negativos para $A_1$, $A_2$ ou $R$. A razão para isto se deve ao fato de que, apesar de negatividade ser matematicamente possível para essas medidas, não há real significado que torne esses valores válidos do ponto de vista ecológico. O mesmo pode ser dito da escolha das demais variáveis, que pela forma como o modelo foi estruturado esperam apenas medidas positivas, perdendo seu significado biológico quando recebem quantias negativas."
      ],
      "metadata": {
        "id": "qgPYFyplDT-O"
      }
    },
    {
      "cell_type": "markdown",
      "metadata": {
        "id": "Jz5JleXfs74f"
      },
      "source": [
        "Define-se também $C_1$, $D_1$, $C_2$ e $D_2$ tais que:\n",
        "\n",
        "$C_i = \\dfrac{a_ib_i}{μ_i}$\n",
        "\n",
        "$D_i = -a_ih_i$\n",
        "\n",
        "Essas variáveis, além de facilitarem a efetuação dos cálculos que serão realizados a seguir, também possuem uma interpretação importante: a soma $C_i+D_i$ pode ser entendida como a **aptidão** de sobrevivência de cada espécie $i$. "
      ]
    },
    {
      "cell_type": "markdown",
      "metadata": {
        "id": "OXPV9QRpUo-p"
      },
      "source": [
        "##**Deduções Analíticas**"
      ]
    },
    {
      "cell_type": "markdown",
      "metadata": {
        "id": "LM0VVdFvvprq"
      },
      "source": [
        "###Análise dos Pontos Estacionários"
      ]
    },
    {
      "cell_type": "markdown",
      "metadata": {
        "id": "n5bAKvCGTqil"
      },
      "source": [
        "\n",
        "Em um sistema de equações diferencias com esse perfil, sua resolução analítica é inviável, ou demasiadamente custosa, e a representação gráfica completa exigiria a construção de curvas em 4 dimensões. Dessa forma, é mais interessante e prático, a princípio, investigar o comportamento do sistema a partir de pontos estacionários, uma vez que próximo a tais pontos é possível linearizar as curvas e prever seu crescimento."
      ]
    },
    {
      "cell_type": "markdown",
      "metadata": {
        "id": "jaKr-yL8FsV-"
      },
      "source": [
        "####Determinação dos pontos"
      ]
    },
    {
      "cell_type": "markdown",
      "metadata": {
        "id": "om4GW2peeShW"
      },
      "source": [
        "Avaliando os pontos estacionários das curvas de $A_1$, $A_2$ e $R$, deve-se respeitar as seguintes equações:\n",
        "\n",
        "$I. A_1\\mu_1(\\dfrac{C_1}{1/R - D_1} - 1) = 0$ ,\n",
        "\n",
        "$II. A_2\\mu_2(\\dfrac{C_2}{1/R - D_2} - 1) = 0$ ,\n",
        "\n",
        "$III. f(t) - jR - \\dfrac{a_1A_1}{1/R - D_1} - \\dfrac{a_2A_2}{1/R - D_2} = 0$\n",
        "\n",
        "Resolvendo o sistema, nota-se uma condição que gera duas situações possíveis de pontos estacionários: a relação entre $C_1+D_1$ e $C_2+D_2$.\n",
        "\n",
        "Sendo $S = (S_{A_1},S_{A_2},S_R)$ um ponto estacionário cujas coordenadas representam valores para as curvas $A_1$, $A_2$ e $R$, respectivamente, tem-se que:\n",
        "\n",
        "* Se $(C_1+D_1) \\ne (C_2+D_2) $:\n",
        "\n",
        "  $S_1 = \\left(\\dfrac{C_1}{a_1}(f(t) - \\dfrac{j}{C_1+D_1}),0,\\dfrac{1}{C_1+D_1}\\right)$\n",
        "  \n",
        "  $S_2 = \\left(0,\\dfrac{C_2}{a_2}(f(t) - \\dfrac{j}{C_2+D_2}),\\dfrac{1}{C_2+D_2}\\right)$\n",
        "\n",
        "  $S_3 = \\left(0, 0, \\dfrac{f(t)}{j}\\right)$\n",
        "\n",
        "* Se $(C_1+D_1) = (C_2+D_2) = C + D$:\n",
        "\n",
        "  $S_4 = \\left(A_1, (f(t)-\\dfrac{j}{C+D}-\\dfrac{a_1A_1}{C_1})\\dfrac{C_2}{a_2}, \\dfrac{1}{C+D}\\right)$"
      ]
    },
    {
      "cell_type": "markdown",
      "source": [
        "Observa-se que os pontos $S_1$, $S_2$ e $S_3$ não garantem uma **coexistência** entre as espécies, visto que a estabilidade ocorre quando pelo menos uma delas entra em extinção (valor da densidade populacional igual a zero).\n",
        "\n",
        "O último caso é chamado de \"meta-estabilidade\" e não se trata exatamente de um \"ponto único\", como é possível observar pela presença de $A_1$ como variável livre, expressa nesse caso como a densidade da espécie 1. Ele representa uma situação em que basta haver a igualdade da expressão $(C_1+D_1) = (C_2+D_2)$ para haver um estado estacionário no qual não necessariamente uma das espécies precisa estar extinta. Ou seja, é possível haver coexistência entre as espécies se elas **possuírem a mesma aptidão**.\n",
        "\n",
        "Como será visto, porém, a estabilidade, se ocorrer, não será \"completa\"."
      ],
      "metadata": {
        "id": "PKjn5m2Am4Jb"
      }
    },
    {
      "cell_type": "markdown",
      "source": [
        "####Avaliação dos pontos"
      ],
      "metadata": {
        "id": "znr8ZAI5rUwE"
      }
    },
    {
      "cell_type": "markdown",
      "metadata": {
        "id": "PQ8bcHG1spkM"
      },
      "source": [
        "Para avaliar se tais pontos são estáveis ou instáveis, recorre-se ao uso de autovalores, soluções do polinômio característico que exprimem os expoentes das funções exponenciais que resolvem o sistema de equações diferenciais homogêneas próximas aos pontos estacionários:\n",
        "\n",
        "\n",
        "$\\begin{pmatrix}\n",
        "\\dfrac{d(A_1-S_{A_1})}{dt}\\\\\n",
        "\\dfrac{d(A_2-S_{A_2})}{dt}\\\\\n",
        "\\dfrac{d(R-S_R)}{dt}\\\\\n",
        "\\end{pmatrix}\n",
        "= J_S\\cdot \\begin{pmatrix}\n",
        "A_1-S_{A_1}\\\\\n",
        "A_2-S_{A_2}\\\\\n",
        "R-S_R\\\\\n",
        "\\end{pmatrix}$\n",
        "\n",
        "Em que $J_S$ é o jacobiano para um ponto estacionário $S$."
      ]
    },
    {
      "cell_type": "markdown",
      "source": [
        "* Para o ponto estacionário $S_1$, o seu Jacobiano será:\n",
        "\n",
        "$\\begin{pmatrix}\n",
        "0 & 0 & ((C_1+D_1)^2\\cdot f(t)-j(C_1+D_1))\\dfrac{b_1}{C_1}\\\\\n",
        "0 & \\mu_2(\\dfrac{(C_2+D_2)-(C_1+D_1)}{C_1+D_1-D_2}) & 0\\\\\n",
        "-\\dfrac{\\mu_1}{b_1}&\\dfrac{-a_2}{C_1+D_1-D_2} & (j\\cdot D_1-(C_1+D_1)^2\\cdot f(t))\\dfrac{1}{C_1}\\\\\n",
        "\\end{pmatrix} =\n",
        "\\begin{pmatrix}\n",
        "0 & 0 & J_{1,3}\\\\\n",
        "0 & J_{2,2} & 0\\\\\n",
        "J_{3,1} & J_{3,2} & J_{3,3}\\\\\n",
        "\\end{pmatrix}$\n",
        "\n",
        "Logo, seu polinômio característico deve respeitar a equação:\n",
        "\n",
        "$ (J_{2,2}-λ) \\cdot \\begin{vmatrix}\n",
        "-\\lambda & J_{1,3}\\\\\n",
        "J_{3,1} & J_{3,3}-\\lambda\\\\\n",
        "\\end{vmatrix} = 0$\n",
        "\n",
        "Cuja resolução fornece os seguintes autovalores:\n",
        "\n",
        "$\\lambda_1 = J_{2,2}$\n",
        "\n",
        "$\\lambda_2 = \\dfrac{J_{3,3}}{2}+\\sqrt{\\dfrac{J_{3,3}^2}{4}+J_{1,3}\\cdot J_{3,1}}$\n",
        "\n",
        "$\\lambda_3 = \\dfrac{J_{3,3}}{2}-\\sqrt{\\dfrac{J_{3,3}^2}{4}+J_{1,3}\\cdot J_{3,1}}$"
      ],
      "metadata": {
        "id": "ExWBYrBwguUX"
      }
    },
    {
      "cell_type": "markdown",
      "source": [
        "* Para o ponto estacionário $S_2$ o procedimento é análogo ao caso anterior:\n",
        "\n",
        "$\\begin{pmatrix}\n",
        "\\mu_1(\\dfrac{(C_1+D_1)-(C_2+D_2)}{C_2+D_2-D_1}) & 0 & 0 \\\\\n",
        "0 & 0 & ((C_2+D_2)^2\\cdot f(t)-j(C_2+D_2))\\dfrac{b_2}{C_2}\\\\\n",
        "\\dfrac{-a_1}{C_2+D_2-D_1}&-\\dfrac{\\mu_2}{b_2} & (-(C_2+D_2)^2\\cdot f(t)-jD_2)\\dfrac{1}{C_2}\\\\\n",
        "\\end{pmatrix} =\n",
        "\\begin{pmatrix}\n",
        "J_{1,1} & 0 & 0\\\\\n",
        "0 & 0 & J_{2,3}\\\\\n",
        "J_{3,1} & J_{3,2} & J_{3,3}\\\\\n",
        "\\end{pmatrix}$\n",
        "\n",
        "Logo, seu polinômio característico deve respeitar a equação:\n",
        "\n",
        "$ (J_{1,1}-λ) \\cdot \\begin{vmatrix}\n",
        "-\\lambda & J_{2,3}\\\\\n",
        "J_{3,2} & J_{3,3}-\\lambda\\\\\n",
        "\\end{vmatrix} = 0$\n",
        "\n",
        "Cuja resolução fornece os seguintes autovalores:\n",
        "\n",
        "$\\lambda_1 = J_{1,1}$\n",
        "\n",
        "$\\lambda_2 = \\dfrac{J_{3,3}}{2}+\\sqrt{\\dfrac{J_{3,3}^2}{4}+J_{2,3}\\cdot J_{3,2}}$\n",
        "\n",
        "$\\lambda_3 = \\dfrac{J_{3,3}}{2}-\\sqrt{\\dfrac{J_{3,3}^2}{4}+J_{2,3}\\cdot J_{3,2}}$"
      ],
      "metadata": {
        "id": "np9SciukgzVG"
      }
    },
    {
      "cell_type": "markdown",
      "source": [
        "* Para o ponto estacionário $S_3$ o Jacobiano será:\n",
        "\n",
        "$\\begin{pmatrix}\n",
        "\\mu_1\\cdot (\\dfrac{C_1}{j/f(t)-D_1}-1) & 0 & 0\\\\\n",
        "0 & \\mu_2(\\dfrac{C_2}{j/f(t)-D_2}-1) & 0\\\\\n",
        "\\dfrac{a_1}{j/f(t)-D_1}&\\dfrac{a_2}{j/f(t)-D_2}&-j\\\\\n",
        "\\end{pmatrix} =\n",
        "\\begin{pmatrix}\n",
        "J_{1,1} & 0 & 0\\\\\n",
        "0 & J_{2,2} & 0\\\\\n",
        "J_{3,1} & J_{3,2} & J_{3,3}\\\\\n",
        "\\end{pmatrix}$\n",
        "\n",
        "Logo, seu polinômio característico deve respeitar a equação:\n",
        "\n",
        "$ (J_{1,1}-λ) \\cdot \\begin{vmatrix}\n",
        "J_{2,2}-\\lambda & 0\\\\\n",
        "J_{3,2} & J_{3,3}-\\lambda\\\\\n",
        "\\end{vmatrix} = 0$\n",
        "\n",
        "Cuja resolução fornece os seguintes autovalores:\n",
        "\n",
        "$\\lambda_1 = J_{1,1}$\n",
        "\n",
        "$\\lambda_2 = J_{2,2}$\n",
        "\n",
        "$\\lambda_3 = J_{3,3}$"
      ],
      "metadata": {
        "id": "dImswn-Hg3De"
      }
    },
    {
      "cell_type": "markdown",
      "source": [
        "* Para o ponto estacionário $S_4$ o Jacobiano será:\n",
        "\n",
        "$\\begin{pmatrix}\n",
        "0 & 0 & \\dfrac{\\mu_1}{C_1}\\cdot(C+D)^2\\cdot A_1\\\\\n",
        "0 & 0 & \\dfrac{b_2}{C_2}\\cdot (C+D)^2\\cdot (f(t)-\\dfrac{j}{C+D}-\\dfrac{a_1A_1}{C_1})\\\\\n",
        "-\\dfrac{a_1}{C_1}&-\\dfrac{a_2}{C_2}&(C+D)^2\\cdot(\\dfrac{j}{C+D}-f(t)+\\dfrac{a_1A_1}{C_1^2}\\cdot(C_1-C_2))\\\\\n",
        "\\end{pmatrix} =\n",
        "\\begin{pmatrix}\n",
        "0 & 0 & J_{1,3}\\\\\n",
        "0 & 0 & J_{2,3}\\\\\n",
        "J_{3,1} & J_{3,2} & J_{3,3}\\\\\n",
        "\\end{pmatrix}$\n",
        "\n",
        "Logo, seu polinômio característico deve respeitar a equação:\n",
        "\n",
        "$\\begin{vmatrix}\n",
        "-\\lambda & 0 & J_{1,3}\\\\\n",
        "0 & -\\lambda & J_{2,3}\\\\\n",
        "J_{3,1} & J_{3,2} & J_{3,3}-\\lambda\\\\\n",
        "\\end{vmatrix} = 0 →\n",
        "\\lambda\\cdot(\\lambda\\cdot(\\lambda-J_{3,3})-J_{1,3}\\cdot J_{3,1}-J_{2,3}\\cdot J_{3,2}) = 0$\n",
        "\n",
        "Cuja resolução fornece os seguintes autovalores:\n",
        "\n",
        "$\\lambda_1 = 0$\n",
        "\n",
        "$\\lambda_2 = \\dfrac{J_{3,3}}{2}+\\sqrt{\\dfrac{J_{3,3}^2}{4}+J_{1,3}\\cdot J_{3,1}+J_{2,3}\\cdot J_{3,2}}$\n",
        "\n",
        "$\\lambda_3 = \\dfrac{J_{3,3}}{2}-\\sqrt{\\dfrac{J_{3,3}^2}{4}+J_{1,3}\\cdot J_{3,1}+J_{2,3}\\cdot J_{3,2}}$"
      ],
      "metadata": {
        "id": "kr6g-eNxg_Vu"
      }
    },
    {
      "cell_type": "markdown",
      "metadata": {
        "id": "NlkxqRDrJ3YZ"
      },
      "source": [
        "####Estabilidade dos pontos"
      ]
    },
    {
      "cell_type": "markdown",
      "source": [
        "A estabilidade só pode ocorrer apenas se as partes reais de cada autovalor forem todas não positivas. Se forem todas negativas a estabilidade é garantida, mas se houver valores nulos a estabilidade tem uma caraterística diferente, como será explicado."
      ],
      "metadata": {
        "id": "aKIHcbo_iChH"
      }
    },
    {
      "cell_type": "markdown",
      "source": [
        "Em relação ao ponto estacionário $S_1$, para que todos os autovalores sejam negativos, é necessário que:\n",
        "*   $J_{2,2} < 0$\n",
        "*   $J_{3,3} < 0 $  (soma das raízes)\n",
        "*   $-J_{1,3}\\cdot J_{3,1} > 0$  (produto das raízes)\n",
        "\n",
        "Portanto:\n",
        "*   $\\dfrac{1}{C_1+D_1-D_2}<\\dfrac{1}{C_2}$\n",
        "*   $ j\\cdot D_1 < (C_1+D_1)^2\\cdot f(t)$\n",
        "*   $(C_1+D_1)\\cdot (f(t) \\cdot (C_1+D_1) - j) > 0$\n",
        "\n"
      ],
      "metadata": {
        "id": "cyykKnDjupbG"
      }
    },
    {
      "cell_type": "markdown",
      "source": [
        "Em relação ao ponto estacionário $S_2$, para que todos os autovalores sejam negativos, é necessário que:\n",
        "*   $J_{1,1} < 0$\n",
        "*   $J_{3,3} < 0 $  (soma das raízes)\n",
        "*   $-J_{2,3}\\cdot J_{3,2} > 0$  (produto das raízes)\n",
        "\n",
        "Portanto:\n",
        "\n",
        "*   $\\dfrac{1}{C_2+D_2-D_1}<\\dfrac{1}{C_1}$\n",
        "*   $ j\\cdot D_2 < (C_2+D_2)^2\\cdot f(t)$\n",
        "*   $(C_2+D_2)\\cdot (f(t) \\cdot (C_2+D_2) - j) > 0$"
      ],
      "metadata": {
        "id": "5ioDGU5h6rFc"
      }
    },
    {
      "cell_type": "markdown",
      "source": [
        "Em relação ao ponto estacionário $S_3$, para que todos os autovalores sejam negativos, é necessário que:\n",
        "*   $J_{1,1} < 0$\n",
        "*   $J_{2,2} < 0$\n",
        "*   $J_{3,3} < 0$\n",
        "\n",
        "Portanto:\n",
        "*   $C_1 + D_1 < \\dfrac{j}{f(t)}$\n",
        "*   $C_2 + D_2 < \\dfrac{j}{f(t)}$"
      ],
      "metadata": {
        "id": "xkeJehLQ8AlS"
      }
    },
    {
      "cell_type": "markdown",
      "source": [
        "Em relação ao ponto estacionário $S_4$, para que os demais autovalores sejam negativos (um deles é igual a zero) é necessário que:\n",
        "\n",
        "*   $J_{3,3} < 0 $  (soma das raízes)\n",
        "*   $-J_{1,3}\\cdot J_{3,1}-J_{2,3}\\cdot J_{3,2}> 0$  (produto das raízes)\n",
        "\n",
        "Portanto:\n",
        "*   $ \\dfrac{a_1A_1}{C_1}\\cdot(1-\\dfrac{C_2}{C_1}) < f(t)-\\dfrac{j}{C+D}$\n",
        "*   $ \\dfrac{a_1A_1}{C_1}\\cdot(1-\\dfrac{C_2/\\mu_2}{C_1/\\mu_1}) < f(t)-\\dfrac {j} {C + D}$\n",
        "\n",
        "Como um dos autovalores já é diferente de zero, então o ponto de equilíbrio $S_4$ não pode ser **assintoticamente estável**. Isso significa que, embora variações no sistema próximas ao ponto de equilíbrio ainda permitam um retorno para as proximidades desse ponto, a solução não necessariamente converge novamente para esse ponto de equilíbrio. Dessa forma, a estabilidade não é \"completa\", já que perturbações no sistema nas proximidades do equílibrio são capazes de gerar oscilações em torno desse ponto: as densidades populacionais das duas espécies podem variar, apesar de ainda haver coexistência."
      ],
      "metadata": {
        "id": "TVxNpTYl9YQR"
      }
    },
    {
      "cell_type": "markdown",
      "metadata": {
        "id": "9RDt0lZ-FfAf"
      },
      "source": [
        "#### Comentário acerca do crescimento a partir dos pontos estacionários"
      ]
    },
    {
      "cell_type": "markdown",
      "metadata": {
        "id": "1yovM_LHFqSF"
      },
      "source": [
        "Para avaliar o crescimento das curvas a partir dos pontos estacionários encontra-se os autovetores, cujas componentes multiplicam as funções exponenciais relativas a solução das equações diferenciais homogêneas do sistema próximo aos pontos estacionários.\n",
        "\n",
        "O cálculo de cada autovetor $\\vec{v_i}$ para cada autovalor $\\lambda_i$ de um ponto estacionário provém da sequinte relação:\n",
        "\n",
        "$J\\cdot \\vec{v_i} = \\lambda_i \\cdot \\vec{v_i}$\n",
        "\n",
        "Não serão calculados os valores exatos de cada autovetor devido à complexidade de se obter os valores exatos de todos os autovalores. Porém, existem casos simples interessantes de serem analisados"
      ]
    },
    {
      "cell_type": "markdown",
      "source": [
        "Em $S_1$, o segundo parâmetro do autovetor de $\\lambda_i$ é dado por\n",
        "\n",
        "$J_{2, 2}\\cdot y = \\lambda_i\\cdot y$\n",
        "\n",
        "Dessa forma, o único autovalor que gera um coeficiente não nulo é $\\lambda_1 = J_{2, 2}$. Isso significa que a segunda função, ou seja, $A_2(t)$ possui apenas como solução o parâmetro $c\\cdot e^{J_{2, 2}}$ no ponto $S_1$.\n",
        "\n",
        "Analogamente, $A_1(t)$ tem dependência apenas de $c \\cdot e^{J_{1, 1}}$ em $S_2$, enquanto $A_1(t), A_2(t), A_3(t)$ em $S_3$ têm dependência apenas de $c_1 \\cdot e^{J_{1, 1}}, c_2 \\cdot e^{J_{2, 2}}, c_3 \\cdot e^{J_{3, 3}}$, respectivamente.\n",
        "\n",
        "Consequentemente, são funções cujo crescimento pode ser mais facilmente analisado para aquele ponto estacionário."
      ],
      "metadata": {
        "id": "-Ce0RxrImh4M"
      }
    },
    {
      "cell_type": "markdown",
      "metadata": {
        "id": "K5uAlJtdYCsa"
      },
      "source": [
        "##**Códigos do Modelo**"
      ]
    },
    {
      "cell_type": "code",
      "execution_count": null,
      "metadata": {
        "id": "4QrWXRxxPA76"
      },
      "outputs": [],
      "source": [
        "#importando os pacotes necessários para a modelagem da ODE\n",
        "\n",
        "import numpy as np\n",
        "import matplotlib.pyplot as plt\n",
        "from scipy.integrate import odeint\n",
        "import plotly.express as px\n",
        "import plotly.graph_objects as go\n",
        "import pandas as pd\n"
      ]
    },
    {
      "cell_type": "code",
      "execution_count": null,
      "metadata": {
        "id": "G2mJq506Uqll"
      },
      "outputs": [],
      "source": [
        "#Declarando as variáveis que são usadas no modelo e usando um vetor 'param' (parâmetros) para empacotá-las.\n",
        "#Isso vai auxiliar na modularização do código, com param sendo passado como argumento em algumas funções.\n",
        "\n",
        "A10 = 0; A20= 0; R0= 0; a1= 0;a2= 0; b1= 0; b2= 0; h1= 0; h2= 0; u1= 0; u2= 0; j= 0;\n",
        "param = A10, A20, R0, a1,a2, b1 , b2, h1, h2, u1, u2, j"
      ]
    },
    {
      "cell_type": "code",
      "execution_count": null,
      "metadata": {
        "id": "NG_mJM24HrkL"
      },
      "outputs": [],
      "source": [
        "#Cada uma dessas funções representa uma possibilidade para f(t).\n",
        "#Essas funções são passadas como argumentos em outras funções mais abaixo no código.\n",
        "\n",
        "def func_const(x):\n",
        "  return 10;\n",
        "\n",
        "def func_absurda(x):\n",
        "  return 2000*np.sin(x)\n",
        "\n",
        "def func_sazonal(x):\n",
        "  return (5 + 3*np.sin(2*x))"
      ]
    },
    {
      "cell_type": "code",
      "execution_count": null,
      "metadata": {
        "id": "9vYcZj9dTOQE"
      },
      "outputs": [],
      "source": [
        "#Esse trecho corresponde ao nosso modelo, escrito em forma de código para que\n",
        "#possa, justamente, ser usada pela função que resolve numericamente o problema.\n",
        "\n",
        "def deriv(y, t, setMyFunc, param):\n",
        "  \n",
        "  A10, A20, R0, a1,a2, b1 , b2, h1, h2, u1, u2, j = param #Os valores de param são copiados para as variáveis usadas dentro do escopo da função\n",
        "  ft = setMyFunc(t) #F(t) recebe uma das funções anteriormente definidas e passadas como argumento de deriv\n",
        "  A1, A2, R = y\n",
        "  dA1dt = (a1*b1*R*A1) / (1+a1*h1*R) - u1*A1 #equação I\n",
        "  dA2dt = (a2*b2*R*A2) / (1+a2*h2*R) - u2*A2 #equação II\n",
        "  dRdt = ft - j*R - (a1*R*A1) / (1+a1*h1*R) - (a2*b2*R*A2) / (1+a2*h2*R) #equação III\n",
        "\n",
        "  return dA1dt, dA2dt, dRdt"
      ]
    },
    {
      "cell_type": "code",
      "execution_count": null,
      "metadata": {
        "id": "Wuy4uuoLTOqR"
      },
      "outputs": [],
      "source": [
        "#Essa função serve para configurar alguns parâmetros importantes, bem como para resolver numericamente a equação.\n",
        "\n",
        "def setMyPlot(param, begin, end, interval, setMyFunc):\n",
        "\n",
        "  y0 = param[0], param[1], param[2] #Y0 = A10, A20, R0\n",
        "\n",
        "  #Cria o vetor t para o eixo tempo do gráfico.\n",
        "  #Begin para o início de t, End para o final e Interval determina a quantidade de pontos t, igualmente espaçados dentro do intervalo [begin, end]\n",
        "  t = np.linspace(begin, end, interval)\n",
        "\n",
        "  ret = odeint(deriv, y0, t, args = (setMyFunc, param)) #Solução numérica para o modelo \n",
        "  A1, A2, R = ret.T #Recebendo os valores que aparecerão no gráfico\n",
        "\n",
        "  return A1, A2, R , t"
      ]
    },
    {
      "cell_type": "code",
      "execution_count": null,
      "metadata": {
        "id": "ghaJwAj0UUZF"
      },
      "outputs": [],
      "source": [
        "#Essa função plota o gráfico \n",
        "def plotMyGraph(A1, A2, R, t):\n",
        "  \n",
        "  d = {'a1': A1, 'a2': A2, 'r': R, 't': t} \n",
        "  df = pd.DataFrame(data=d)\n",
        "\n",
        "  fig = px.line(df, x=\"t\", y=['a1','a2','r'], labels={'t':'tempo','value':'densidade' })\n",
        "  fig.update_traces(line=dict(width=3))\n",
        "  fig.show()\n",
        "\n"
      ]
    },
    {
      "cell_type": "code",
      "execution_count": null,
      "metadata": {
        "id": "d5qwv2ErVkz7"
      },
      "outputs": [],
      "source": [
        "#Função para printar a lista de parâmetros. Facilita na visualização na plotagem dos gráficos.\n",
        "\n",
        "def printParam(param):\n",
        "  pnames = 'A10', 'A20', 'R0', 'a1','a2', 'b1' , 'b2', 'h1', 'h2', 'u1', 'u2', 'j'\n",
        "  for i in range(len(pnames)):\n",
        "    if i == (len(pnames) - 1): print(f'{pnames[i]} = {param[i]}', end='')\n",
        "    else: print(f'{pnames[i]} = {param[i]}, ', end='')"
      ]
    },
    {
      "cell_type": "markdown",
      "source": [
        "Coordenadas esperadas dos pontos estacionários, baseadas nos resultados analíticos, **para f(t) constante**"
      ],
      "metadata": {
        "id": "MvvSNH8LvZSc"
      }
    },
    {
      "cell_type": "code",
      "source": [
        "def Si_coord(param, t, setMyFunc, num):\n",
        "  A10, A20, R0, a1, a2, b1 , b2, h1, h2, u1, u2, j = param\n",
        "   \n",
        "  C1 = a1*b1/u1\n",
        "  D1 = -a1*h1\n",
        "  C2 = a2*b2/u2\n",
        "  D2 = -a2*h2\n",
        "  ft = setMyFunc(t) #F(t) recebe uma das funções anteriormente definidas e passadas como argumento\n",
        "\n",
        "  print(\"Condições de estabilidade:\") \n",
        "  if(num == 1):\n",
        "    A1 = C1/a1*(ft-j/(C1+D1))\n",
        "    A2 = 0\n",
        "    R = 1/(C1+D1)\n",
        "    \n",
        "    print(\"1/(C1+D1-D2) = %f < 1/C2 = %f\" %(1/(C1+D1-D2), 1/C2))\n",
        "    print(\"j*D1 = %f < (C1+D1)^2*ft = %f\" %(j*D1, ft*(C1+D1)**2))\n",
        "    print(\"(C1+D1)*(ft*(C1+D1)-j) = %f > 0\\n\" %((C1+D1)*(ft*(C1+D1)-j)))\n",
        "\n",
        "  elif(num == 2):\n",
        "    A1 = 0\n",
        "    A2 = C2/a2*(ft-j/(C2+D2))\n",
        "    R = 1/(C2+D2)\n",
        "\n",
        "    print(\"1/(C2+D2-D1) = %f < 1/C1 = %f\" %(1/(C2+D2-D1), 1/C1))\n",
        "    print(\"j*D2 = %f < (C2+D2)^2*ft = %f\" %(j*D2, ft*(C2+D2)**2))\n",
        "    print(\"(C2+D2)*(ft*(C2+D2)-j) = %f > 0\\n\" %((C2+D2)*(ft*(C2+D2)-j)))\n",
        "\n",
        "  print(\"A1 = %f, A2 = %f, R = %f\" %(A1, A2, R))"
      ],
      "metadata": {
        "id": "5aWR2-met-Si"
      },
      "execution_count": null,
      "outputs": []
    },
    {
      "cell_type": "markdown",
      "source": [
        "No caso da meta-estabilidade, não há como saber o ponto de antemão, porém as aptidões devem ser as mesmas"
      ],
      "metadata": {
        "id": "WUk3ICai0Kdz"
      }
    },
    {
      "cell_type": "code",
      "source": [
        "def meta_est(param):\n",
        "  A10, A20, R0, a1, a2, b1 , b2, h1, h2, u1, u2, j = param\n",
        "   \n",
        "  C1 = a1*b1/u1\n",
        "  D1 = -a1*h1\n",
        "  C2 = a2*b2/u2\n",
        "  D2 = -a2*h2\n",
        "\n",
        "  print(\"C1+D1 = %f, C2+D2 = %f, R = %f\" %(C1+D1, C2+D2, 1/(C1+D1)))"
      ],
      "metadata": {
        "id": "EYgkM_Ac0sXG"
      },
      "execution_count": null,
      "outputs": []
    },
    {
      "cell_type": "markdown",
      "metadata": {
        "id": "sBPhuz83POmP"
      },
      "source": [
        "##**Gráficos:**"
      ]
    },
    {
      "cell_type": "markdown",
      "source": [
        "Os gráficos abaixo ilustram as possíveis interações entre as espécies e o recurso que consomem. Os valores usados não correspondem a dados encontrados em um cenário real, pois para facilidade do entendimento foram escolhidos, empiricamente, valores que permitissem uma visualização mais clara do gráfico. Entretanto, isso não impede que o modelo seja aplicado em um cenário real fazendo uso das metodologias citadas na seção IV. "
      ],
      "metadata": {
        "id": "phsmyFs14btR"
      }
    },
    {
      "cell_type": "markdown",
      "source": [
        "###**F(t) constante**"
      ],
      "metadata": {
        "id": "YQbrHxg3234f"
      }
    },
    {
      "cell_type": "markdown",
      "metadata": {
        "id": "QnCs1EWvQIjt"
      },
      "source": [
        "#### **Situação 1: Equilíbrio** \n"
      ]
    },
    {
      "cell_type": "markdown",
      "metadata": {
        "id": "ANuDD1IxiKes"
      },
      "source": [
        "Nessa situação as populações iniciais, as taxas de reprodução e coeficientes de conversão de nutriente para biomassa das espécies são iguais. É possível perceber que A1 tem a vantagem competitiva nessa situação, porque tem menor taxa de mortalidade e menor tempo de obtenção do recurso. Por causa disso, percebe-se que, no início, A1 tem um pico. Entretanto, percebe-se que a similaridade competitiva entre as duas espécies causa uma situação onde nenhuma das duas espécies é extinta."
      ]
    },
    {
      "cell_type": "code",
      "execution_count": null,
      "metadata": {
        "colab": {
          "base_uri": "https://localhost:8080/",
          "height": 559
        },
        "id": "k79yo-amDnU8",
        "outputId": "f330a233-ba12-40d6-feff-2526d8604d8e"
      },
      "outputs": [
        {
          "output_type": "stream",
          "name": "stdout",
          "text": [
            "A10 = 5, A20 = 5, R0 = 10, a1 = 1, a2 = 1, b1 = 1, b2 = 1, h1 = 0.5, h2 = 2, u1 = 1, u2 = 0.4, j = 1"
          ]
        },
        {
          "output_type": "display_data",
          "data": {
            "text/html": [
              "<html>\n",
              "<head><meta charset=\"utf-8\" /></head>\n",
              "<body>\n",
              "    <div>            <script src=\"https://cdnjs.cloudflare.com/ajax/libs/mathjax/2.7.5/MathJax.js?config=TeX-AMS-MML_SVG\"></script><script type=\"text/javascript\">if (window.MathJax && window.MathJax.Hub && window.MathJax.Hub.Config) {window.MathJax.Hub.Config({SVG: {font: \"STIX-Web\"}});}</script>                <script type=\"text/javascript\">window.PlotlyConfig = {MathJaxConfig: 'local'};</script>\n",
              "        <script src=\"https://cdn.plot.ly/plotly-2.18.2.min.js\"></script>                <div id=\"60015807-90b0-4e4d-a1e0-6c76c3459d8b\" class=\"plotly-graph-div\" style=\"height:525px; width:100%;\"></div>            <script type=\"text/javascript\">                                    window.PLOTLYENV=window.PLOTLYENV || {};                                    if (document.getElementById(\"60015807-90b0-4e4d-a1e0-6c76c3459d8b\")) {                    Plotly.newPlot(                        \"60015807-90b0-4e4d-a1e0-6c76c3459d8b\",                        [{\"hovertemplate\":\"variable=a1<br>tempo=%{x}<br>densidade=%{y}<extra></extra>\",\"legendgroup\":\"a1\",\"line\":{\"color\":\"#636efa\",\"dash\":\"solid\",\"width\":3},\"marker\":{\"symbol\":\"circle\"},\"mode\":\"lines\",\"name\":\"a1\",\"orientation\":\"v\",\"showlegend\":true,\"x\":[0.0,0.20202020202020202,0.40404040404040403,0.6060606060606061,0.8080808080808081,1.0101010101010102,1.2121212121212122,1.4141414141414141,1.6161616161616161,1.8181818181818181,2.0202020202020203,2.2222222222222223,2.4242424242424243,2.6262626262626263,2.8282828282828283,3.0303030303030303,3.2323232323232323,3.4343434343434343,3.6363636363636362,3.8383838383838382,4.040404040404041,4.242424242424242,4.444444444444445,4.646464646464646,4.848484848484849,5.05050505050505,5.252525252525253,5.454545454545454,5.656565656565657,5.858585858585858,6.0606060606060606,6.262626262626262,6.4646464646464645,6.666666666666667,6.8686868686868685,7.070707070707071,7.2727272727272725,7.474747474747475,7.6767676767676765,7.878787878787879,8.080808080808081,8.282828282828282,8.484848484848484,8.686868686868687,8.88888888888889,9.09090909090909,9.292929292929292,9.494949494949495,9.696969696969697,9.8989898989899,10.1010101010101,10.303030303030303,10.505050505050505,10.707070707070708,10.909090909090908,11.11111111111111,11.313131313131313,11.515151515151516,11.717171717171716,11.919191919191919,12.121212121212121,12.323232323232324,12.525252525252524,12.727272727272727,12.929292929292929,13.131313131313131,13.333333333333334,13.535353535353535,13.737373737373737,13.93939393939394,14.141414141414142,14.343434343434343,14.545454545454545,14.747474747474747,14.94949494949495,15.15151515151515,15.353535353535353,15.555555555555555,15.757575757575758,15.959595959595958,16.161616161616163,16.363636363636363,16.565656565656564,16.767676767676768,16.96969696969697,17.171717171717173,17.373737373737374,17.575757575757574,17.77777777777778,17.97979797979798,18.18181818181818,18.383838383838384,18.585858585858585,18.78787878787879,18.98989898989899,19.19191919191919,19.393939393939394,19.595959595959595,19.7979797979798,20.0],\"xaxis\":\"x\",\"y\":[5.0,5.683264497714251,6.359885216496559,6.976291429688303,7.464938311995202,7.766058214728934,7.864148433160248,7.8024341415044685,7.6503605065628575,7.464244186347138,7.276294090967795,7.101230960165772,6.944356372602027,6.806550112449095,6.686800827574554,6.5833919142855635,6.494436353355686,6.418108137001303,6.352734028656409,6.296821572681861,6.249058629392595,6.2083009927815,6.173555745398137,6.143963920689115,6.11878402025846,6.097377001763442,6.079192887468032,6.063758951337203,6.050669359818278,6.039576179744037,6.030181424874174,6.022230224110854,6.015504846892024,6.009819493899198,6.0050158869506705,6.000959125745372,5.997534587951474,5.9946448715253675,5.992207351758097,5.990151895330582,5.988419128172476,5.986958765235681,5.9857282474658575,5.984691706356834,5.983818622320014,5.983083354714665,5.982464242203089,5.981943000738311,5.981504204436002,5.981134854869199,5.980823987191607,5.980562345536985,5.980342158446984,5.980156874266001,5.9800009634344145,5.979869767032116,5.979759371507412,5.979666499279909,5.9795883562999546,5.979522607895473,5.97946729104499,5.979420753780105,5.979381595374242,5.979348664475361,5.979320957415273,5.979297648500914,5.9792780388078315,5.97926153812761,5.979247654410665,5.979235968328235,5.979226147957656,5.979217889887872,5.979210943896477,5.979205097552576,5.979200179573343,5.979196040774853,5.9791925597269,5.979189627527396,5.979187165610565,5.979185097348735,5.979183356766802,5.979181895011406,5.979180663533089,5.979179626737237,5.979178754219376,5.979178018636918,5.979177397318913,5.97917688086558,5.979176443672816,5.979176076489903,5.979175768237647,5.97917550901639,5.979175290172285,5.979175106668531,5.979174951569574,5.979174818739838,5.9791747069130246,5.979174612816611,5.979174525858197,5.979174464394017],\"yaxis\":\"y\",\"type\":\"scatter\"},{\"hovertemplate\":\"variable=a2<br>tempo=%{x}<br>densidade=%{y}<extra></extra>\",\"legendgroup\":\"a2\",\"line\":{\"color\":\"#EF553B\",\"dash\":\"solid\",\"width\":3},\"marker\":{\"symbol\":\"circle\"},\"mode\":\"lines\",\"name\":\"a2\",\"orientation\":\"v\",\"showlegend\":true,\"x\":[0.0,0.20202020202020202,0.40404040404040403,0.6060606060606061,0.8080808080808081,1.0101010101010102,1.2121212121212122,1.4141414141414141,1.6161616161616161,1.8181818181818181,2.0202020202020203,2.2222222222222223,2.4242424242424243,2.6262626262626263,2.8282828282828283,3.0303030303030303,3.2323232323232323,3.4343434343434343,3.6363636363636362,3.8383838383838382,4.040404040404041,4.242424242424242,4.444444444444445,4.646464646464646,4.848484848484849,5.05050505050505,5.252525252525253,5.454545454545454,5.656565656565657,5.858585858585858,6.0606060606060606,6.262626262626262,6.4646464646464645,6.666666666666667,6.8686868686868685,7.070707070707071,7.2727272727272725,7.474747474747475,7.6767676767676765,7.878787878787879,8.080808080808081,8.282828282828282,8.484848484848484,8.686868686868687,8.88888888888889,9.09090909090909,9.292929292929292,9.494949494949495,9.696969696969697,9.8989898989899,10.1010101010101,10.303030303030303,10.505050505050505,10.707070707070708,10.909090909090908,11.11111111111111,11.313131313131313,11.515151515151516,11.717171717171716,11.919191919191919,12.121212121212121,12.323232323232324,12.525252525252524,12.727272727272727,12.929292929292929,13.131313131313131,13.333333333333334,13.535353535353535,13.737373737373737,13.93939393939394,14.141414141414142,14.343434343434343,14.545454545454545,14.747474747474747,14.94949494949495,15.15151515151515,15.353535353535353,15.555555555555555,15.757575757575758,15.959595959595958,16.161616161616163,16.363636363636363,16.565656565656564,16.767676767676768,16.96969696969697,17.171717171717173,17.373737373737374,17.575757575757574,17.77777777777778,17.97979797979798,18.18181818181818,18.383838383838384,18.585858585858585,18.78787878787879,18.98989898989899,19.19191919191919,19.393939393939394,19.595959595959595,19.7979797979798,20.0],\"xaxis\":\"x\",\"y\":[5.0,5.074770541293419,5.143669408178248,5.203690745960957,5.250745199217122,5.280437531600568,5.290557803084843,5.2836752723970015,5.266016356576487,5.243673458784815,5.220574721948633,5.198691543984582,5.178826693766756,5.16119551862718,5.145744107172975,5.132306068832969,5.120676692198502,5.1106471509381,5.102019661219699,5.094613556341944,5.088267032394578,5.0828368685164,5.078197236006531,5.074238152177065,5.070863848641637,5.067991184868155,5.065548166490231,5.063472590368786,5.061710822288065,5.060216710816275,5.058950608231244,5.057878515632401,5.056971325566287,5.056204154259691,5.055555771208087,5.055008059438893,5.054545608230254,5.054155310503618,5.053826039391282,5.053548344371653,5.053314220463157,5.053116885139923,5.052950595867326,5.052810511269728,5.052692511091743,5.052593132859018,5.052509450946416,5.05243899549755,5.0523796824796925,5.052329755614448,5.052287733256038,5.0522523646033815,5.0522225993761065,5.052197552098611,5.052176475403352,5.052158739571756,5.052143815615674,5.0521312604979025,5.052120696534114,5.052111808128715,5.052104329921172,5.0520980385960135,5.052092744798928,5.052088292885155,5.0520845471736795,5.05208139604218,5.052078745005202,5.052076514273933,5.052074637329065,5.052073057482183,5.052071729860922,5.052070613447404,5.052069674414162,5.052068884042737,5.052068219177393,5.05206765964995,5.052067189044226,5.052066792637718,5.052066459809063,5.052066180198927,5.052065944888103,5.052065747272065,5.052065580787385,5.052065440621996,5.052065322665492,5.052065223221411,5.052065139224845,5.052065069405028,5.052065010300523,5.052064960660714,5.052064918987797,5.052064883943427,5.052064854357682,5.052064829549632,5.052064808581655,5.052064790624274,5.052064775506299,5.052064762785315,5.052064751029322,5.05206474271992],\"yaxis\":\"y\",\"type\":\"scatter\"},{\"hovertemplate\":\"variable=r<br>tempo=%{x}<br>densidade=%{y}<extra></extra>\",\"legendgroup\":\"r\",\"line\":{\"color\":\"#00cc96\",\"dash\":\"solid\",\"width\":3},\"marker\":{\"symbol\":\"circle\"},\"mode\":\"lines\",\"name\":\"r\",\"orientation\":\"v\",\"showlegend\":true,\"x\":[0.0,0.20202020202020202,0.40404040404040403,0.6060606060606061,0.8080808080808081,1.0101010101010102,1.2121212121212122,1.4141414141414141,1.6161616161616161,1.8181818181818181,2.0202020202020203,2.2222222222222223,2.4242424242424243,2.6262626262626263,2.8282828282828283,3.0303030303030303,3.2323232323232323,3.4343434343434343,3.6363636363636362,3.8383838383838382,4.040404040404041,4.242424242424242,4.444444444444445,4.646464646464646,4.848484848484849,5.05050505050505,5.252525252525253,5.454545454545454,5.656565656565657,5.858585858585858,6.0606060606060606,6.262626262626262,6.4646464646464645,6.666666666666667,6.8686868686868685,7.070707070707071,7.2727272727272725,7.474747474747475,7.6767676767676765,7.878787878787879,8.080808080808081,8.282828282828282,8.484848484848484,8.686868686868687,8.88888888888889,9.09090909090909,9.292929292929292,9.494949494949495,9.696969696969697,9.8989898989899,10.1010101010101,10.303030303030303,10.505050505050505,10.707070707070708,10.909090909090908,11.11111111111111,11.313131313131313,11.515151515151516,11.717171717171716,11.919191919191919,12.121212121212121,12.323232323232324,12.525252525252524,12.727272727272727,12.929292929292929,13.131313131313131,13.333333333333334,13.535353535353535,13.737373737373737,13.93939393939394,14.141414141414142,14.343434343434343,14.545454545454545,14.747474747474747,14.94949494949495,15.15151515151515,15.353535353535353,15.555555555555555,15.757575757575758,15.959595959595958,16.161616161616163,16.363636363636363,16.565656565656564,16.767676767676768,16.96969696969697,17.171717171717173,17.373737373737374,17.575757575757574,17.77777777777778,17.97979797979798,18.18181818181818,18.383838383838384,18.585858585858585,18.78787878787879,18.98989898989899,19.19191919191919,19.393939393939394,19.595959595959595,19.7979797979798,20.0],\"xaxis\":\"x\",\"y\":[10.0,7.965798170811395,6.185446063328511,4.670570124668717,3.4556840980649506,2.5741399304601904,2.0180873819955143,1.7208622376659994,1.5902606904935022,1.5510729429606815,1.557254126060335,1.5843298845968912,1.6199805886869951,1.6580835725024217,1.6956025727731856,1.7310560626557754,1.763765813733958,1.7934804834288092,1.820180727830368,1.8439743261280952,1.865037451958842,1.883580455465844,1.8998273104958143,1.9140029677613317,1.9263255346718675,1.9370015175502413,1.9462230574587376,1.9541665414879035,1.9609921409086422,1.9668439740112822,1.9718507172361281,1.976126490141467,1.979771899241336,1.982875186937168,1.985513363106939,1.987753391290094,1.9896532926261656,1.9912631481134662,1.9926260124311785,1.9937789052003123,1.9947534925941541,1.9955768472974367,1.996272069617763,1.9968587746969884,1.9973537319758417,1.9977711256326456,1.998123001324172,1.9984195645537959,1.9986694377832526,1.9988799231326557,1.9990571994280502,1.9992064936771134,1.9993321929593362,1.9994380086028172,1.9995270809516508,1.9996020606845037,1.9996651706537891,1.9997182722833176,1.999762959967787,1.9998005676691857,1.9998322135502953,1.9998588393077137,1.9998812457018997,1.9999000906555229,1.9999159473010282,1.9999292877442503,1.9999405116255364,1.9999499564506447,1.999957903665849,1.9999645931567913,1.9999702148635259,1.999974942363288,1.999978918807866,1.9999822657565838,1.9999850812412858,1.9999874506788113,1.99998944360383,1.9999911223444873,1.9999925318881833,1.9999937160806684,1.999994712652082,1.9999955495396864,1.9999962545504064,1.9999968480723331,1.999997347533426,1.9999977686237485,1.9999981243756433,1.9999984201110288,1.9999986704948163,1.9999988807857052,1.9999990573054875,1.9999992056901634,1.9999993308835082,1.999999435822393,1.9999995244972035,1.9999996004390517,1.9999996644008475,1.9999997182801639,1.9999997681027475,1.9999998034680428],\"yaxis\":\"y\",\"type\":\"scatter\"}],                        {\"template\":{\"data\":{\"histogram2dcontour\":[{\"type\":\"histogram2dcontour\",\"colorbar\":{\"outlinewidth\":0,\"ticks\":\"\"},\"colorscale\":[[0.0,\"#0d0887\"],[0.1111111111111111,\"#46039f\"],[0.2222222222222222,\"#7201a8\"],[0.3333333333333333,\"#9c179e\"],[0.4444444444444444,\"#bd3786\"],[0.5555555555555556,\"#d8576b\"],[0.6666666666666666,\"#ed7953\"],[0.7777777777777778,\"#fb9f3a\"],[0.8888888888888888,\"#fdca26\"],[1.0,\"#f0f921\"]]}],\"choropleth\":[{\"type\":\"choropleth\",\"colorbar\":{\"outlinewidth\":0,\"ticks\":\"\"}}],\"histogram2d\":[{\"type\":\"histogram2d\",\"colorbar\":{\"outlinewidth\":0,\"ticks\":\"\"},\"colorscale\":[[0.0,\"#0d0887\"],[0.1111111111111111,\"#46039f\"],[0.2222222222222222,\"#7201a8\"],[0.3333333333333333,\"#9c179e\"],[0.4444444444444444,\"#bd3786\"],[0.5555555555555556,\"#d8576b\"],[0.6666666666666666,\"#ed7953\"],[0.7777777777777778,\"#fb9f3a\"],[0.8888888888888888,\"#fdca26\"],[1.0,\"#f0f921\"]]}],\"heatmap\":[{\"type\":\"heatmap\",\"colorbar\":{\"outlinewidth\":0,\"ticks\":\"\"},\"colorscale\":[[0.0,\"#0d0887\"],[0.1111111111111111,\"#46039f\"],[0.2222222222222222,\"#7201a8\"],[0.3333333333333333,\"#9c179e\"],[0.4444444444444444,\"#bd3786\"],[0.5555555555555556,\"#d8576b\"],[0.6666666666666666,\"#ed7953\"],[0.7777777777777778,\"#fb9f3a\"],[0.8888888888888888,\"#fdca26\"],[1.0,\"#f0f921\"]]}],\"heatmapgl\":[{\"type\":\"heatmapgl\",\"colorbar\":{\"outlinewidth\":0,\"ticks\":\"\"},\"colorscale\":[[0.0,\"#0d0887\"],[0.1111111111111111,\"#46039f\"],[0.2222222222222222,\"#7201a8\"],[0.3333333333333333,\"#9c179e\"],[0.4444444444444444,\"#bd3786\"],[0.5555555555555556,\"#d8576b\"],[0.6666666666666666,\"#ed7953\"],[0.7777777777777778,\"#fb9f3a\"],[0.8888888888888888,\"#fdca26\"],[1.0,\"#f0f921\"]]}],\"contourcarpet\":[{\"type\":\"contourcarpet\",\"colorbar\":{\"outlinewidth\":0,\"ticks\":\"\"}}],\"contour\":[{\"type\":\"contour\",\"colorbar\":{\"outlinewidth\":0,\"ticks\":\"\"},\"colorscale\":[[0.0,\"#0d0887\"],[0.1111111111111111,\"#46039f\"],[0.2222222222222222,\"#7201a8\"],[0.3333333333333333,\"#9c179e\"],[0.4444444444444444,\"#bd3786\"],[0.5555555555555556,\"#d8576b\"],[0.6666666666666666,\"#ed7953\"],[0.7777777777777778,\"#fb9f3a\"],[0.8888888888888888,\"#fdca26\"],[1.0,\"#f0f921\"]]}],\"surface\":[{\"type\":\"surface\",\"colorbar\":{\"outlinewidth\":0,\"ticks\":\"\"},\"colorscale\":[[0.0,\"#0d0887\"],[0.1111111111111111,\"#46039f\"],[0.2222222222222222,\"#7201a8\"],[0.3333333333333333,\"#9c179e\"],[0.4444444444444444,\"#bd3786\"],[0.5555555555555556,\"#d8576b\"],[0.6666666666666666,\"#ed7953\"],[0.7777777777777778,\"#fb9f3a\"],[0.8888888888888888,\"#fdca26\"],[1.0,\"#f0f921\"]]}],\"mesh3d\":[{\"type\":\"mesh3d\",\"colorbar\":{\"outlinewidth\":0,\"ticks\":\"\"}}],\"scatter\":[{\"fillpattern\":{\"fillmode\":\"overlay\",\"size\":10,\"solidity\":0.2},\"type\":\"scatter\"}],\"parcoords\":[{\"type\":\"parcoords\",\"line\":{\"colorbar\":{\"outlinewidth\":0,\"ticks\":\"\"}}}],\"scatterpolargl\":[{\"type\":\"scatterpolargl\",\"marker\":{\"colorbar\":{\"outlinewidth\":0,\"ticks\":\"\"}}}],\"bar\":[{\"error_x\":{\"color\":\"#2a3f5f\"},\"error_y\":{\"color\":\"#2a3f5f\"},\"marker\":{\"line\":{\"color\":\"#E5ECF6\",\"width\":0.5},\"pattern\":{\"fillmode\":\"overlay\",\"size\":10,\"solidity\":0.2}},\"type\":\"bar\"}],\"scattergeo\":[{\"type\":\"scattergeo\",\"marker\":{\"colorbar\":{\"outlinewidth\":0,\"ticks\":\"\"}}}],\"scatterpolar\":[{\"type\":\"scatterpolar\",\"marker\":{\"colorbar\":{\"outlinewidth\":0,\"ticks\":\"\"}}}],\"histogram\":[{\"marker\":{\"pattern\":{\"fillmode\":\"overlay\",\"size\":10,\"solidity\":0.2}},\"type\":\"histogram\"}],\"scattergl\":[{\"type\":\"scattergl\",\"marker\":{\"colorbar\":{\"outlinewidth\":0,\"ticks\":\"\"}}}],\"scatter3d\":[{\"type\":\"scatter3d\",\"line\":{\"colorbar\":{\"outlinewidth\":0,\"ticks\":\"\"}},\"marker\":{\"colorbar\":{\"outlinewidth\":0,\"ticks\":\"\"}}}],\"scattermapbox\":[{\"type\":\"scattermapbox\",\"marker\":{\"colorbar\":{\"outlinewidth\":0,\"ticks\":\"\"}}}],\"scatterternary\":[{\"type\":\"scatterternary\",\"marker\":{\"colorbar\":{\"outlinewidth\":0,\"ticks\":\"\"}}}],\"scattercarpet\":[{\"type\":\"scattercarpet\",\"marker\":{\"colorbar\":{\"outlinewidth\":0,\"ticks\":\"\"}}}],\"carpet\":[{\"aaxis\":{\"endlinecolor\":\"#2a3f5f\",\"gridcolor\":\"white\",\"linecolor\":\"white\",\"minorgridcolor\":\"white\",\"startlinecolor\":\"#2a3f5f\"},\"baxis\":{\"endlinecolor\":\"#2a3f5f\",\"gridcolor\":\"white\",\"linecolor\":\"white\",\"minorgridcolor\":\"white\",\"startlinecolor\":\"#2a3f5f\"},\"type\":\"carpet\"}],\"table\":[{\"cells\":{\"fill\":{\"color\":\"#EBF0F8\"},\"line\":{\"color\":\"white\"}},\"header\":{\"fill\":{\"color\":\"#C8D4E3\"},\"line\":{\"color\":\"white\"}},\"type\":\"table\"}],\"barpolar\":[{\"marker\":{\"line\":{\"color\":\"#E5ECF6\",\"width\":0.5},\"pattern\":{\"fillmode\":\"overlay\",\"size\":10,\"solidity\":0.2}},\"type\":\"barpolar\"}],\"pie\":[{\"automargin\":true,\"type\":\"pie\"}]},\"layout\":{\"autotypenumbers\":\"strict\",\"colorway\":[\"#636efa\",\"#EF553B\",\"#00cc96\",\"#ab63fa\",\"#FFA15A\",\"#19d3f3\",\"#FF6692\",\"#B6E880\",\"#FF97FF\",\"#FECB52\"],\"font\":{\"color\":\"#2a3f5f\"},\"hovermode\":\"closest\",\"hoverlabel\":{\"align\":\"left\"},\"paper_bgcolor\":\"white\",\"plot_bgcolor\":\"#E5ECF6\",\"polar\":{\"bgcolor\":\"#E5ECF6\",\"angularaxis\":{\"gridcolor\":\"white\",\"linecolor\":\"white\",\"ticks\":\"\"},\"radialaxis\":{\"gridcolor\":\"white\",\"linecolor\":\"white\",\"ticks\":\"\"}},\"ternary\":{\"bgcolor\":\"#E5ECF6\",\"aaxis\":{\"gridcolor\":\"white\",\"linecolor\":\"white\",\"ticks\":\"\"},\"baxis\":{\"gridcolor\":\"white\",\"linecolor\":\"white\",\"ticks\":\"\"},\"caxis\":{\"gridcolor\":\"white\",\"linecolor\":\"white\",\"ticks\":\"\"}},\"coloraxis\":{\"colorbar\":{\"outlinewidth\":0,\"ticks\":\"\"}},\"colorscale\":{\"sequential\":[[0.0,\"#0d0887\"],[0.1111111111111111,\"#46039f\"],[0.2222222222222222,\"#7201a8\"],[0.3333333333333333,\"#9c179e\"],[0.4444444444444444,\"#bd3786\"],[0.5555555555555556,\"#d8576b\"],[0.6666666666666666,\"#ed7953\"],[0.7777777777777778,\"#fb9f3a\"],[0.8888888888888888,\"#fdca26\"],[1.0,\"#f0f921\"]],\"sequentialminus\":[[0.0,\"#0d0887\"],[0.1111111111111111,\"#46039f\"],[0.2222222222222222,\"#7201a8\"],[0.3333333333333333,\"#9c179e\"],[0.4444444444444444,\"#bd3786\"],[0.5555555555555556,\"#d8576b\"],[0.6666666666666666,\"#ed7953\"],[0.7777777777777778,\"#fb9f3a\"],[0.8888888888888888,\"#fdca26\"],[1.0,\"#f0f921\"]],\"diverging\":[[0,\"#8e0152\"],[0.1,\"#c51b7d\"],[0.2,\"#de77ae\"],[0.3,\"#f1b6da\"],[0.4,\"#fde0ef\"],[0.5,\"#f7f7f7\"],[0.6,\"#e6f5d0\"],[0.7,\"#b8e186\"],[0.8,\"#7fbc41\"],[0.9,\"#4d9221\"],[1,\"#276419\"]]},\"xaxis\":{\"gridcolor\":\"white\",\"linecolor\":\"white\",\"ticks\":\"\",\"title\":{\"standoff\":15},\"zerolinecolor\":\"white\",\"automargin\":true,\"zerolinewidth\":2},\"yaxis\":{\"gridcolor\":\"white\",\"linecolor\":\"white\",\"ticks\":\"\",\"title\":{\"standoff\":15},\"zerolinecolor\":\"white\",\"automargin\":true,\"zerolinewidth\":2},\"scene\":{\"xaxis\":{\"backgroundcolor\":\"#E5ECF6\",\"gridcolor\":\"white\",\"linecolor\":\"white\",\"showbackground\":true,\"ticks\":\"\",\"zerolinecolor\":\"white\",\"gridwidth\":2},\"yaxis\":{\"backgroundcolor\":\"#E5ECF6\",\"gridcolor\":\"white\",\"linecolor\":\"white\",\"showbackground\":true,\"ticks\":\"\",\"zerolinecolor\":\"white\",\"gridwidth\":2},\"zaxis\":{\"backgroundcolor\":\"#E5ECF6\",\"gridcolor\":\"white\",\"linecolor\":\"white\",\"showbackground\":true,\"ticks\":\"\",\"zerolinecolor\":\"white\",\"gridwidth\":2}},\"shapedefaults\":{\"line\":{\"color\":\"#2a3f5f\"}},\"annotationdefaults\":{\"arrowcolor\":\"#2a3f5f\",\"arrowhead\":0,\"arrowwidth\":1},\"geo\":{\"bgcolor\":\"white\",\"landcolor\":\"#E5ECF6\",\"subunitcolor\":\"white\",\"showland\":true,\"showlakes\":true,\"lakecolor\":\"white\"},\"title\":{\"x\":0.05},\"mapbox\":{\"style\":\"light\"}}},\"xaxis\":{\"anchor\":\"y\",\"domain\":[0.0,1.0],\"title\":{\"text\":\"tempo\"}},\"yaxis\":{\"anchor\":\"x\",\"domain\":[0.0,1.0],\"title\":{\"text\":\"densidade\"}},\"legend\":{\"title\":{\"text\":\"variable\"},\"tracegroupgap\":0},\"margin\":{\"t\":60}},                        {\"responsive\": true}                    ).then(function(){\n",
              "                            \n",
              "var gd = document.getElementById('60015807-90b0-4e4d-a1e0-6c76c3459d8b');\n",
              "var x = new MutationObserver(function (mutations, observer) {{\n",
              "        var display = window.getComputedStyle(gd).display;\n",
              "        if (!display || display === 'none') {{\n",
              "            console.log([gd, 'removed!']);\n",
              "            Plotly.purge(gd);\n",
              "            observer.disconnect();\n",
              "        }}\n",
              "}});\n",
              "\n",
              "// Listen for the removal of the full notebook cells\n",
              "var notebookContainer = gd.closest('#notebook-container');\n",
              "if (notebookContainer) {{\n",
              "    x.observe(notebookContainer, {childList: true});\n",
              "}}\n",
              "\n",
              "// Listen for the clearing of the current output cell\n",
              "var outputEl = gd.closest('.output');\n",
              "if (outputEl) {{\n",
              "    x.observe(outputEl, {childList: true});\n",
              "}}\n",
              "\n",
              "                        })                };                            </script>        </div>\n",
              "</body>\n",
              "</html>"
            ]
          },
          "metadata": {}
        }
      ],
      "source": [
        "param_sit1 = [5, 5, 10, 1, 1, 1, 1, 0.5, 2, 1, 0.4, 1]\n",
        "A1, A2, R, t = setMyPlot(param_sit1, 0, 20, 100, func_const)\n",
        "printParam(param_sit1)\n",
        "plotMyGraph(A1, A2, R, t)"
      ]
    },
    {
      "cell_type": "markdown",
      "source": [
        "De fato a meta-estabilidade é esperada, pois:"
      ],
      "metadata": {
        "id": "BUcauiQQ1PhI"
      }
    },
    {
      "cell_type": "code",
      "source": [
        "meta_est(param_sit1)"
      ],
      "metadata": {
        "colab": {
          "base_uri": "https://localhost:8080/"
        },
        "id": "0H9fGf691X9N",
        "outputId": "c13669ae-e87c-4512-f19a-14bd233583ec"
      },
      "execution_count": null,
      "outputs": [
        {
          "output_type": "stream",
          "name": "stdout",
          "text": [
            "C1+D1 = 0.500000, C2+D2 = 0.500000, R = 2.000000\n"
          ]
        }
      ]
    },
    {
      "cell_type": "markdown",
      "source": [
        "Vale ressaltar que é possível observar mais de um ponto estacionário no gráfico, pois, como foi apresentado, os parâmetros independentes do tempo são insuficientes para definir esses pontos. No entanto, nem todos são estáveis."
      ],
      "metadata": {
        "id": "ONCltT319J0P"
      }
    },
    {
      "cell_type": "markdown",
      "metadata": {
        "id": "enU5edVGUdb3"
      },
      "source": [
        "####**Situação 2: Vantagem competitiva**"
      ]
    },
    {
      "cell_type": "markdown",
      "metadata": {
        "id": "hlFO2deaevKo"
      },
      "source": [
        "a) Nesse caso, o tempo de obtenção do recurso para A2 é muito maior do que A1 e a mortalidade de A1 também é consideravelmente maior que de A2. É possível perceber que essas desvantagens competitivas eventualmente levam à extinção de A1 e ao sucesso e procriação de A2."
      ]
    },
    {
      "cell_type": "code",
      "execution_count": null,
      "metadata": {
        "colab": {
          "base_uri": "https://localhost:8080/",
          "height": 559
        },
        "id": "RFIyBzVISVo0",
        "outputId": "3869c525-70fa-4600-b36f-0ba37941c51d"
      },
      "outputs": [
        {
          "output_type": "stream",
          "name": "stdout",
          "text": [
            "A10 = 5, A20 = 5, R0 = 10, a1 = 1, a2 = 1, b1 = 1, b2 = 1, h1 = 0.6, h2 = 2, u1 = 1, u2 = 0.4, j = 1"
          ]
        },
        {
          "output_type": "display_data",
          "data": {
            "text/html": [
              "<html>\n",
              "<head><meta charset=\"utf-8\" /></head>\n",
              "<body>\n",
              "    <div>            <script src=\"https://cdnjs.cloudflare.com/ajax/libs/mathjax/2.7.5/MathJax.js?config=TeX-AMS-MML_SVG\"></script><script type=\"text/javascript\">if (window.MathJax && window.MathJax.Hub && window.MathJax.Hub.Config) {window.MathJax.Hub.Config({SVG: {font: \"STIX-Web\"}});}</script>                <script type=\"text/javascript\">window.PlotlyConfig = {MathJaxConfig: 'local'};</script>\n",
              "        <script src=\"https://cdn.plot.ly/plotly-2.18.2.min.js\"></script>                <div id=\"347a2f73-9feb-484a-82bc-766aad1859b5\" class=\"plotly-graph-div\" style=\"height:525px; width:100%;\"></div>            <script type=\"text/javascript\">                                    window.PLOTLYENV=window.PLOTLYENV || {};                                    if (document.getElementById(\"347a2f73-9feb-484a-82bc-766aad1859b5\")) {                    Plotly.newPlot(                        \"347a2f73-9feb-484a-82bc-766aad1859b5\",                        [{\"hovertemplate\":\"variable=a1<br>tempo=%{x}<br>densidade=%{y}<extra></extra>\",\"legendgroup\":\"a1\",\"line\":{\"color\":\"#636efa\",\"dash\":\"solid\",\"width\":3},\"marker\":{\"symbol\":\"circle\"},\"mode\":\"lines\",\"name\":\"a1\",\"orientation\":\"v\",\"showlegend\":true,\"x\":[0.0,1.0050251256281406,2.0100502512562812,3.015075376884422,4.0201005025125625,5.025125628140703,6.030150753768844,7.035175879396984,8.040201005025125,9.045226130653266,10.050251256281406,11.055276381909547,12.060301507537687,13.065326633165828,14.070351758793969,15.07537688442211,16.08040201005025,17.08542713567839,18.09045226130653,19.09547738693467,20.100502512562812,21.105527638190953,22.110552763819094,23.115577889447234,24.120603015075375,25.125628140703515,26.130653266331656,27.135678391959797,28.140703517587937,29.145728643216078,30.15075376884422,31.15577889447236,32.1608040201005,33.16582914572864,34.17085427135678,35.175879396984925,36.18090452261306,37.1859296482412,38.19095477386934,39.19597989949749,40.201005025125625,41.20603015075376,42.211055276381906,43.21608040201005,44.22110552763819,45.226130653266324,46.23115577889447,47.23618090452261,48.24120603015075,49.24623115577889,50.25125628140703,51.256281407035175,52.26130653266331,53.26633165829145,54.27135678391959,55.27638190954774,56.281407035175874,57.28643216080401,58.291457286432156,59.2964824120603,60.30150753768844,61.306532663316574,62.31155778894472,63.31658291457286,64.321608040201,65.32663316582914,66.33165829145727,67.33668341708542,68.34170854271356,69.3467336683417,70.35175879396985,71.35678391959799,72.36180904522612,73.36683417085426,74.3718592964824,75.37688442211055,76.38190954773869,77.38693467336682,78.39195979899498,79.39698492462311,80.40201005025125,81.40703517587939,82.41206030150752,83.41708542713567,84.42211055276381,85.42713567839195,86.4321608040201,87.43718592964824,88.44221105527637,89.44723618090451,90.45226130653265,91.4572864321608,92.46231155778894,93.46733668341707,94.47236180904522,95.47738693467336,96.4824120603015,97.48743718592964,98.49246231155777,99.49748743718592,100.50251256281406,101.5075376884422,102.51256281407035,103.51758793969849,104.52261306532662,105.52763819095476,106.5326633165829,107.53768844221105,108.54271356783919,109.54773869346732,110.55276381909547,111.55778894472361,112.56281407035175,113.56783919597989,114.57286432160802,115.57788944723617,116.58291457286431,117.58793969849245,118.5929648241206,119.59798994974874,120.60301507537687,121.60804020100501,122.61306532663315,123.6180904522613,124.62311557788944,125.62814070351757,126.63316582914572,127.63819095477386,128.643216080402,129.64824120603015,130.65326633165827,131.65829145728642,132.66331658291455,133.6683417085427,134.67336683417085,135.67839195979897,136.68341708542712,137.68844221105527,138.6934673366834,139.69849246231155,140.7035175879397,141.70854271356782,142.71356783919597,143.7185929648241,144.72361809045225,145.7286432160804,146.73366834170852,147.73869346733667,148.7437185929648,149.74874371859295,150.7537688442211,151.75879396984922,152.76381909547737,153.76884422110552,154.77386934673365,155.7788944723618,156.78391959798995,157.78894472361807,158.79396984924622,159.79899497487435,160.8040201005025,161.80904522613065,162.81407035175877,163.81909547738692,164.82412060301505,165.8291457286432,166.83417085427135,167.83919597989947,168.84422110552762,169.84924623115577,170.8542713567839,171.85929648241205,172.8643216080402,173.86934673366832,174.87437185929647,175.8793969849246,176.88442211055275,177.8894472361809,178.89447236180902,179.89949748743717,180.9045226130653,181.90954773869345,182.9145728643216,183.91959798994972,184.92462311557787,185.92964824120602,186.93467336683415,187.9396984924623,188.94472361809045,189.94974874371857,190.95477386934672,191.95979899497485,192.964824120603,193.96984924623115,194.97487437185927,195.97989949748742,196.98492462311555,197.9899497487437,198.99497487437185,200.0],\"xaxis\":\"x\",\"y\":[5.0,6.74841738188223,6.710954720677996,6.115048667545204,5.728834612281919,5.508096090722773,5.377756136996292,5.294275498539352,5.234556572521891,5.186630058295301,5.144381450184426,5.1047212675128355,5.066100155773211,5.027743742957477,4.989265161204513,4.950470289041306,4.9112608676834135,4.871586345026456,4.831420025069367,4.79074719235774,4.749559298063915,4.707850910503042,4.665618329856415,4.622858886103507,4.579570507023532,4.5357516155886834,4.491401005477758,4.4465178193322314,4.4011015565025415,4.355152070977748,4.308669578139933,4.2616546752328,4.214108393057374,4.166032167860824,4.117427886933744,4.068297917568083,4.018645112347558,3.968472921126156,3.917785249910095,3.8665866449435464,3.814882273158508,3.7626779206940166,3.7099800706250936,3.656795885004838,3.6031333030817363,3.549001078101004,3.494408731206529,3.4393666491542727,3.383886116212579,3.3279793415134455,3.2716595099026575,3.2149408050849746,3.157838457369722,3.100368801071752,3.0425493256902674,2.9843986829979863,2.925936691176194,2.8671844371823556,2.8081643062557258,2.748899992156546,2.689416567985231,2.629740498254731,2.569899675222099,2.509923415658238,2.44984252328564,2.389689283034232,2.329497496658918,2.2693024791536454,2.2091410469363733,2.1490515306417364,2.089073728997132,2.029248895994021,1.9696197123915187,1.9102302302638083,1.8511258086257738,1.79235306022953,1.733959735329076,1.6759946168308475,1.6185074240465405,1.5615486418725693,1.5051693737721386,1.4494211932801946,1.3943559189786747,1.3400254204087967,1.286481381595495,1.2337750507235912,1.1819569913347499,1.1310768046490125,1.0811828431975676,1.0323219173261589,0.9845389869961745,0.9378768583565243,0.8923758812498644,0.8480736509656129,0.805004720911549,0.7632003191518786,0.7226881047742589,0.683491913991095,0.6456315860543873,0.6091227917043325,0.573976884274213,0.5402008103554035,0.5077970655460294,0.476763694594579,0.4470943275665976,0.4187782737868869,0.3918006509405551,0.36614256101666826,0.34178130670800766,0.3186906436859908,0.2968410621324611,0.2762000921414871,0.25673264178605903,0.2384013338256908,0.22116685740179415,0.20498832220706859,0.18982361038649645,0.17562971942979486,0.16236309165630863,0.1499799305972436,0.13843649021854776,0.12768934824164188,0.11769563871811196,0.10841327428370305,0.09980114247972648,0.09181926897616954,0.08442895122817097,0.07759286834345835,0.07127516923489578,0.06544153833530708,0.06005923944945886,0.0550971398838294,0.05052571783131679,0.04631705590092649,0.04244482119745944,0.038884235135139306,0.035612033767990915,0.03260641989916111,0.02984701278334256,0.02731478884979385,0.024992021404896266,0.022862218278187463,0.02091005831315018,0.019121327808238033,0.017482857367786903,0.01598245905199105,0.014608867174948205,0.013351674669777927,0.012201284122401002,0.011148841261712622,0.010186197202895281,0.009305845463048502,0.008500885059561548,0.007764973349580292,0.007092278302357492,0.006477453478131288,0.0059155821511148185,0.005402163521050435,0.004933063335415111,0.004504496373687753,0.004112994351172266,0.0037553765950749975,0.003428737294004859,0.0031304085061336037,0.002857955797823729,0.0026091462056190696,0.0023819402181339618,0.0021744721059704262,0.001985033457738574,0.0018120664432978687,0.0016541419559572956,0.001509958354574217,0.0013783225694162012,0.001258146417439398,0.001148435241856669,0.0010482790705073726,0.0009568489620161454,0.0008733848110041156,0.0007971950101429612,0.0007276458549299711,0.0006641598060679378,0.0006062096434950014,0.0005533125170501252,0.0005050293696026162,0.00046095678416055197,0.00042072927940594185,0.00038401018624458974,0.00035049497120049624,0.0003199032280534891,0.0002919810883538398,0.00026649494618223005,0.0002432331955153201,0.0002220012187291595,0.00020262308593736278,0.00018493560470674746,0.00016879284019209915,0.0001540587219394914,0.0001406104751166276,0.0001283362784627348,0.00011713284129153568],\"yaxis\":\"y\",\"type\":\"scatter\"},{\"hovertemplate\":\"variable=a2<br>tempo=%{x}<br>densidade=%{y}<extra></extra>\",\"legendgroup\":\"a2\",\"line\":{\"color\":\"#EF553B\",\"dash\":\"solid\",\"width\":3},\"marker\":{\"symbol\":\"circle\"},\"mode\":\"lines\",\"name\":\"a2\",\"orientation\":\"v\",\"showlegend\":true,\"x\":[0.0,1.0050251256281406,2.0100502512562812,3.015075376884422,4.0201005025125625,5.025125628140703,6.030150753768844,7.035175879396984,8.040201005025125,9.045226130653266,10.050251256281406,11.055276381909547,12.060301507537687,13.065326633165828,14.070351758793969,15.07537688442211,16.08040201005025,17.08542713567839,18.09045226130653,19.09547738693467,20.100502512562812,21.105527638190953,22.110552763819094,23.115577889447234,24.120603015075375,25.125628140703515,26.130653266331656,27.135678391959797,28.140703517587937,29.145728643216078,30.15075376884422,31.15577889447236,32.1608040201005,33.16582914572864,34.17085427135678,35.175879396984925,36.18090452261306,37.1859296482412,38.19095477386934,39.19597989949749,40.201005025125625,41.20603015075376,42.211055276381906,43.21608040201005,44.22110552763819,45.226130653266324,46.23115577889447,47.23618090452261,48.24120603015075,49.24623115577889,50.25125628140703,51.256281407035175,52.26130653266331,53.26633165829145,54.27135678391959,55.27638190954774,56.281407035175874,57.28643216080401,58.291457286432156,59.2964824120603,60.30150753768844,61.306532663316574,62.31155778894472,63.31658291457286,64.321608040201,65.32663316582914,66.33165829145727,67.33668341708542,68.34170854271356,69.3467336683417,70.35175879396985,71.35678391959799,72.36180904522612,73.36683417085426,74.3718592964824,75.37688442211055,76.38190954773869,77.38693467336682,78.39195979899498,79.39698492462311,80.40201005025125,81.40703517587939,82.41206030150752,83.41708542713567,84.42211055276381,85.42713567839195,86.4321608040201,87.43718592964824,88.44221105527637,89.44723618090451,90.45226130653265,91.4572864321608,92.46231155778894,93.46733668341707,94.47236180904522,95.47738693467336,96.4824120603015,97.48743718592964,98.49246231155777,99.49748743718592,100.50251256281406,101.5075376884422,102.51256281407035,103.51758793969849,104.52261306532662,105.52763819095476,106.5326633165829,107.53768844221105,108.54271356783919,109.54773869346732,110.55276381909547,111.55778894472361,112.56281407035175,113.56783919597989,114.57286432160802,115.57788944723617,116.58291457286431,117.58793969849245,118.5929648241206,119.59798994974874,120.60301507537687,121.60804020100501,122.61306532663315,123.6180904522613,124.62311557788944,125.62814070351757,126.63316582914572,127.63819095477386,128.643216080402,129.64824120603015,130.65326633165827,131.65829145728642,132.66331658291455,133.6683417085427,134.67336683417085,135.67839195979897,136.68341708542712,137.68844221105527,138.6934673366834,139.69849246231155,140.7035175879397,141.70854271356782,142.71356783919597,143.7185929648241,144.72361809045225,145.7286432160804,146.73366834170852,147.73869346733667,148.7437185929648,149.74874371859295,150.7537688442211,151.75879396984922,152.76381909547737,153.76884422110552,154.77386934673365,155.7788944723618,156.78391959798995,157.78894472361807,158.79396984924622,159.79899497487435,160.8040201005025,161.80904522613065,162.81407035175877,163.81909547738692,164.82412060301505,165.8291457286432,166.83417085427135,167.83919597989947,168.84422110552762,169.84924623115577,170.8542713567839,171.85929648241205,172.8643216080402,173.86934673366832,174.87437185929647,175.8793969849246,176.88442211055275,177.8894472361809,178.89447236180902,179.89949748743717,180.9045226130653,181.90954773869345,182.9145728643216,183.91959798994972,184.92462311557787,185.92964824120602,186.93467336683415,187.9396984924623,188.94472361809045,189.94974874371857,190.95477386934672,191.95979899497485,192.964824120603,193.96984924623115,194.97487437185927,195.97989949748742,196.98492462311555,197.9899497487437,198.99497487437185,200.0],\"xaxis\":\"x\",\"y\":[5.0,5.312536865111082,5.394525616125021,5.392814976618458,5.419676890583686,5.472863826528798,5.5418874837944525,5.620070535638069,5.703682725677253,5.7907222179028315,5.880140698268448,5.971400079184394,6.064229568806418,6.1584962575563145,6.254137708879243,6.35112720875296,6.44945604859005,6.549124505343085,6.650137259277333,6.752501068832318,6.856223501119981,6.961312341416702,7.067775335773738,7.175619865574205,7.284852904040003,7.39548093061719,7.507509861332558,7.620945010807142,7.7357910398804615,7.852051907274104,7.969730827309138,8.088830225976897,8.209351669569863,8.331295829739531,8.454662429078926,8.579450180660276,8.705656739646201,8.833278628624264,8.962311199847461,9.092748532101439,9.224583386109407,9.357807131180069,9.492409630155102,9.628379304931139,9.765702890545857,9.90436531818139,10.044349780427533,10.185637596081481,10.3282081001395,10.472038550426298,10.617104029411708,10.763377371180821,10.910829054637315,11.059427034788657,11.209136652237856,11.359920558199883,11.511738747974439,11.664548221415773,11.818302956559227,11.972953855223794,12.128448550614491,12.284731345900155,12.44174308287791,12.599421153704522,12.757699268149384,12.916507443868007,13.075771865924395,13.235414846395294,13.395354801541089,13.55550615132405,13.71577935844852,13.876080862771317,14.036313085168407,14.196374449926589,14.356159456823715,14.515558707161878,14.67445906589173,14.832743789067223,14.990292648345813,15.146982195640947,15.302686002916149,15.457274888936185,15.610617328494026,15.762579792212465,15.913027186860695,16.061823338354436,16.208831490486133,16.353914874087135,16.496937321770197,16.637763910308756,16.77626166743411,16.91230029132087,17.04575289684763,17.176496787199344,17.30441423574628,17.429393265203284,17.55132842532311,17.670121557298497,17.785682527156062,17.897929890605926,18.006791521994753,18.112205178255916,18.214118984250113,18.31249182627075,18.40729366658188,18.498505723567863,18.58612056034969,18.670142063495017,18.75058530798536,18.82747630990829,18.900851668266746,18.970758127939813,19.037252003710485,19.100398563760486,19.160271329119638,19.216951314393576,19.270526221612375,19.321089604499416,19.3687400124182,19.413580134421853,19.45571594985411,19.495255898226063,19.532310070394928,19.566989454477913,19.59940522438771,19.629668081863883,19.65788764673846,19.684171910699668,19.70862675671631,19.73135554070217,19.752458731951315,19.77203361151872,19.790174028075132,19.806970208193903,19.82250861704594,19.836871863470048,19.85013864637744,19.862383742297073,19.87367800857654,19.884088438141966,19.89367822868487,19.902506871912887,19.910630260495804,19.918100804999792,19.924967572247038,19.93127640848823,19.937070099935344,19.94238849241166,19.94726868437819,19.951745130857795,19.95584982920197,19.959612439012144,19.963060432627493,19.966219222187142,19.96911230558241,19.97176136945815,19.974186442394664,19.976405976509028,19.97843698775945,19.980295137993355,19.981994838132106,19.983549353847494,19.984970859464944,19.98627056276465,19.987458734555172,19.988544818560356,19.989537470511497,19.990444629777546,19.991273583789834,19.992030997342958,19.992722994533793,19.993355168751442,19.993932654386736,19.994460144800396,19.99494193703388,19.995381968100823,19.995783831143434,19.996150824091295,19.996485952947463,19.996791974423413,19.99707140429455,19.997326541645812,19.997559493655967,19.997772178721377,19.997966360187846,19.998143637749447,19.998305485169173,19.99845323724901,19.998588123213313,19.99871125707291,19.99882366410076,19.998926273783134,19.999019941097025,19.99910543954705,19.999183486445126,19.99925472401808,19.99931975079294,19.999379107208455,19.9994332856906,19.999482741049068],\"yaxis\":\"y\",\"type\":\"scatter\"},{\"hovertemplate\":\"variable=r<br>tempo=%{x}<br>densidade=%{y}<extra></extra>\",\"legendgroup\":\"r\",\"line\":{\"color\":\"#00cc96\",\"dash\":\"solid\",\"width\":3},\"marker\":{\"symbol\":\"circle\"},\"mode\":\"lines\",\"name\":\"r\",\"orientation\":\"v\",\"showlegend\":true,\"x\":[0.0,1.0050251256281406,2.0100502512562812,3.015075376884422,4.0201005025125625,5.025125628140703,6.030150753768844,7.035175879396984,8.040201005025125,9.045226130653266,10.050251256281406,11.055276381909547,12.060301507537687,13.065326633165828,14.070351758793969,15.07537688442211,16.08040201005025,17.08542713567839,18.09045226130653,19.09547738693467,20.100502512562812,21.105527638190953,22.110552763819094,23.115577889447234,24.120603015075375,25.125628140703515,26.130653266331656,27.135678391959797,28.140703517587937,29.145728643216078,30.15075376884422,31.15577889447236,32.1608040201005,33.16582914572864,34.17085427135678,35.175879396984925,36.18090452261306,37.1859296482412,38.19095477386934,39.19597989949749,40.201005025125625,41.20603015075376,42.211055276381906,43.21608040201005,44.22110552763819,45.226130653266324,46.23115577889447,47.23618090452261,48.24120603015075,49.24623115577889,50.25125628140703,51.256281407035175,52.26130653266331,53.26633165829145,54.27135678391959,55.27638190954774,56.281407035175874,57.28643216080401,58.291457286432156,59.2964824120603,60.30150753768844,61.306532663316574,62.31155778894472,63.31658291457286,64.321608040201,65.32663316582914,66.33165829145727,67.33668341708542,68.34170854271356,69.3467336683417,70.35175879396985,71.35678391959799,72.36180904522612,73.36683417085426,74.3718592964824,75.37688442211055,76.38190954773869,77.38693467336682,78.39195979899498,79.39698492462311,80.40201005025125,81.40703517587939,82.41206030150752,83.41708542713567,84.42211055276381,85.42713567839195,86.4321608040201,87.43718592964824,88.44221105527637,89.44723618090451,90.45226130653265,91.4572864321608,92.46231155778894,93.46733668341707,94.47236180904522,95.47738693467336,96.4824120603015,97.48743718592964,98.49246231155777,99.49748743718592,100.50251256281406,101.5075376884422,102.51256281407035,103.51758793969849,104.52261306532662,105.52763819095476,106.5326633165829,107.53768844221105,108.54271356783919,109.54773869346732,110.55276381909547,111.55778894472361,112.56281407035175,113.56783919597989,114.57286432160802,115.57788944723617,116.58291457286431,117.58793969849245,118.5929648241206,119.59798994974874,120.60301507537687,121.60804020100501,122.61306532663315,123.6180904522613,124.62311557788944,125.62814070351757,126.63316582914572,127.63819095477386,128.643216080402,129.64824120603015,130.65326633165827,131.65829145728642,132.66331658291455,133.6683417085427,134.67336683417085,135.67839195979897,136.68341708542712,137.68844221105527,138.6934673366834,139.69849246231155,140.7035175879397,141.70854271356782,142.71356783919597,143.7185929648241,144.72361809045225,145.7286432160804,146.73366834170852,147.73869346733667,148.7437185929648,149.74874371859295,150.7537688442211,151.75879396984922,152.76381909547737,153.76884422110552,154.77386934673365,155.7788944723618,156.78391959798995,157.78894472361807,158.79396984924622,159.79899497487435,160.8040201005025,161.80904522613065,162.81407035175877,163.81909547738692,164.82412060301505,165.8291457286432,166.83417085427135,167.83919597989947,168.84422110552762,169.84924623115577,170.8542713567839,171.85929648241205,172.8643216080402,173.86934673366832,174.87437185929647,175.8793969849246,176.88442211055275,177.8894472361809,178.89447236180902,179.89949748743717,180.9045226130653,181.90954773869345,182.9145728643216,183.91959798994972,184.92462311557787,185.92964824120602,186.93467336683415,187.9396984924623,188.94472361809045,189.94974874371857,190.95477386934672,191.95979899497485,192.964824120603,193.96984924623115,194.97487437185927,195.97989949748742,196.98492462311555,197.9899497487437,198.99497487437185,200.0],\"xaxis\":\"x\",\"y\":[10.0,3.5761043226173492,2.0033279313174694,2.047229391536282,2.2090422721264282,2.3207043365137943,2.385568610401124,2.420601564877768,2.438617176607986,2.447451664253656,2.4514898604506725,2.453066802980199,2.4533894453240843,2.4530709293273514,2.452419436678743,2.451589045168373,2.450656498583448,2.4496598808499743,2.448617922213669,2.447539673488169,2.446429284113547,2.4452884886249024,2.44411772933328,2.44291678807951,2.441685130331185,2.440422001529132,2.439126546775922,2.4377978411508776,2.4364348970295366,2.4350366796688263,2.433602116295825,2.4321300951854754,2.43061947957512,2.429069052688421,2.4274775984200567,2.4258438472450825,2.424166497574716,2.422444165195817,2.4206754816376317,2.4188589929746787,2.416993202622163,2.4150765975431914,2.413107612471673,2.4110846109049264,2.4090058928537497,2.406869739567762,2.4046744328631315,2.4024181309640418,2.4000989698580364,2.3977150526351183,2.3952644293574807,2.392745106652646,2.3901550499594895,2.387492192356779,2.38475442454435,2.381939603277312,2.379045549319904,2.3760700702864233,2.3730109598158124,2.369865996162663,2.3666329505079693,2.363309595176484,2.359893720709339,2.3563831333797975,2.3527756828038107,2.3490692668299373,2.3452618497924798,2.3413514755838434,2.337336283862844,2.333214530734512,2.328984610069263,2.324645081751704,2.320194690688273,2.3156323987017458,2.3109574079840316,2.3061691904002855,2.3012675199570274,2.2962525076261397,2.2911246311719307,2.2858847747693343,2.2805342593483076,2.2750748778616616,2.269508928646878,2.263839248235158,2.2580692427354734,2.2522029165813455,2.246244896860437,2.240200454272661,2.2340755161758508,2.2278766775925294,2.221611202776416,2.2152870207961377,2.2089127114671796,2.2024974813677147,2.1960511299102543,2.189584013651218,2.183106986156989,2.1766313455850517,2.1701687424464473,2.163731106881224,2.1573305661939712,2.1509793455804527,2.144689665366158,2.1384736337532906,2.1323431382494356,2.1263097377688367,2.1203845600700832,2.1145782021266895,2.1089006341653174,2.1033611117385713,2.0979681007162125,2.0927292099928523,2.0876511421721275,2.0827396535423386,2.077999527722402,2.0734345638014924,2.069047578238204,2.06484041901022,2.0608139925746753,2.0569682981040924,2.0533024759250975,2.0498148594346306,2.0465030448529733,2.0433639540687443,2.040393900662227,2.037588659912422,2.0349435431450407,2.0324534718299545,2.0301130476614015,2.0279166175408245,2.0258583359274414,2.0239322256184145,2.0221322342539056,2.02045228416457,2.018886316484217,2.0174283312434955,2.016072422894193,2.014812810164272,2.013643863318013,2.01256012361081,2.0115563203644373,2.01062738414458,2.0097684565174947,2.0089748972548542,2.0082422861754825,2.0075664284931642,2.0069433492189335,2.0063692997717872,2.0058407391219975,2.005354345624689,2.0049069936581887,2.0044957598000934,2.0041179073283164,2.0037708820049334,2.003452303637177,2.003159955485363,2.0028917785176796,2.002645859684996,2.002420425700989,2.0022138331593333,2.0020245617130117,2.001851205066301,2.0016924652447625,2.001547143242089,2.001414134435591,2.0012924200702016,2.0011810623686976,2.00107919834031,2.000986033514033,2.0009008386980525,2.000822942512753,2.0007517297218618,2.000686634568334,2.0006271385258865,2.000572765919314,2.000523080155801,2.0004776818950383,2.0004362041841586,2.000398311863607,2.0003636972518946,2.0003320791107635,2.000303200105366,2.0002768241750353,2.000252736087715,2.000230737917963,2.0002106498392225,2.000192306150475,2.0001755565424224,2.0001602625748096,2.0001462986462233,2.000133549132927,2.0001219091021083,2.000111282023381,2.000101580489976,2.0000927234616683,2.0000846382824533,2.000077257277609,2.0000705192886263,2.0000643685636024,2.000058753616055],\"yaxis\":\"y\",\"type\":\"scatter\"}],                        {\"template\":{\"data\":{\"histogram2dcontour\":[{\"type\":\"histogram2dcontour\",\"colorbar\":{\"outlinewidth\":0,\"ticks\":\"\"},\"colorscale\":[[0.0,\"#0d0887\"],[0.1111111111111111,\"#46039f\"],[0.2222222222222222,\"#7201a8\"],[0.3333333333333333,\"#9c179e\"],[0.4444444444444444,\"#bd3786\"],[0.5555555555555556,\"#d8576b\"],[0.6666666666666666,\"#ed7953\"],[0.7777777777777778,\"#fb9f3a\"],[0.8888888888888888,\"#fdca26\"],[1.0,\"#f0f921\"]]}],\"choropleth\":[{\"type\":\"choropleth\",\"colorbar\":{\"outlinewidth\":0,\"ticks\":\"\"}}],\"histogram2d\":[{\"type\":\"histogram2d\",\"colorbar\":{\"outlinewidth\":0,\"ticks\":\"\"},\"colorscale\":[[0.0,\"#0d0887\"],[0.1111111111111111,\"#46039f\"],[0.2222222222222222,\"#7201a8\"],[0.3333333333333333,\"#9c179e\"],[0.4444444444444444,\"#bd3786\"],[0.5555555555555556,\"#d8576b\"],[0.6666666666666666,\"#ed7953\"],[0.7777777777777778,\"#fb9f3a\"],[0.8888888888888888,\"#fdca26\"],[1.0,\"#f0f921\"]]}],\"heatmap\":[{\"type\":\"heatmap\",\"colorbar\":{\"outlinewidth\":0,\"ticks\":\"\"},\"colorscale\":[[0.0,\"#0d0887\"],[0.1111111111111111,\"#46039f\"],[0.2222222222222222,\"#7201a8\"],[0.3333333333333333,\"#9c179e\"],[0.4444444444444444,\"#bd3786\"],[0.5555555555555556,\"#d8576b\"],[0.6666666666666666,\"#ed7953\"],[0.7777777777777778,\"#fb9f3a\"],[0.8888888888888888,\"#fdca26\"],[1.0,\"#f0f921\"]]}],\"heatmapgl\":[{\"type\":\"heatmapgl\",\"colorbar\":{\"outlinewidth\":0,\"ticks\":\"\"},\"colorscale\":[[0.0,\"#0d0887\"],[0.1111111111111111,\"#46039f\"],[0.2222222222222222,\"#7201a8\"],[0.3333333333333333,\"#9c179e\"],[0.4444444444444444,\"#bd3786\"],[0.5555555555555556,\"#d8576b\"],[0.6666666666666666,\"#ed7953\"],[0.7777777777777778,\"#fb9f3a\"],[0.8888888888888888,\"#fdca26\"],[1.0,\"#f0f921\"]]}],\"contourcarpet\":[{\"type\":\"contourcarpet\",\"colorbar\":{\"outlinewidth\":0,\"ticks\":\"\"}}],\"contour\":[{\"type\":\"contour\",\"colorbar\":{\"outlinewidth\":0,\"ticks\":\"\"},\"colorscale\":[[0.0,\"#0d0887\"],[0.1111111111111111,\"#46039f\"],[0.2222222222222222,\"#7201a8\"],[0.3333333333333333,\"#9c179e\"],[0.4444444444444444,\"#bd3786\"],[0.5555555555555556,\"#d8576b\"],[0.6666666666666666,\"#ed7953\"],[0.7777777777777778,\"#fb9f3a\"],[0.8888888888888888,\"#fdca26\"],[1.0,\"#f0f921\"]]}],\"surface\":[{\"type\":\"surface\",\"colorbar\":{\"outlinewidth\":0,\"ticks\":\"\"},\"colorscale\":[[0.0,\"#0d0887\"],[0.1111111111111111,\"#46039f\"],[0.2222222222222222,\"#7201a8\"],[0.3333333333333333,\"#9c179e\"],[0.4444444444444444,\"#bd3786\"],[0.5555555555555556,\"#d8576b\"],[0.6666666666666666,\"#ed7953\"],[0.7777777777777778,\"#fb9f3a\"],[0.8888888888888888,\"#fdca26\"],[1.0,\"#f0f921\"]]}],\"mesh3d\":[{\"type\":\"mesh3d\",\"colorbar\":{\"outlinewidth\":0,\"ticks\":\"\"}}],\"scatter\":[{\"fillpattern\":{\"fillmode\":\"overlay\",\"size\":10,\"solidity\":0.2},\"type\":\"scatter\"}],\"parcoords\":[{\"type\":\"parcoords\",\"line\":{\"colorbar\":{\"outlinewidth\":0,\"ticks\":\"\"}}}],\"scatterpolargl\":[{\"type\":\"scatterpolargl\",\"marker\":{\"colorbar\":{\"outlinewidth\":0,\"ticks\":\"\"}}}],\"bar\":[{\"error_x\":{\"color\":\"#2a3f5f\"},\"error_y\":{\"color\":\"#2a3f5f\"},\"marker\":{\"line\":{\"color\":\"#E5ECF6\",\"width\":0.5},\"pattern\":{\"fillmode\":\"overlay\",\"size\":10,\"solidity\":0.2}},\"type\":\"bar\"}],\"scattergeo\":[{\"type\":\"scattergeo\",\"marker\":{\"colorbar\":{\"outlinewidth\":0,\"ticks\":\"\"}}}],\"scatterpolar\":[{\"type\":\"scatterpolar\",\"marker\":{\"colorbar\":{\"outlinewidth\":0,\"ticks\":\"\"}}}],\"histogram\":[{\"marker\":{\"pattern\":{\"fillmode\":\"overlay\",\"size\":10,\"solidity\":0.2}},\"type\":\"histogram\"}],\"scattergl\":[{\"type\":\"scattergl\",\"marker\":{\"colorbar\":{\"outlinewidth\":0,\"ticks\":\"\"}}}],\"scatter3d\":[{\"type\":\"scatter3d\",\"line\":{\"colorbar\":{\"outlinewidth\":0,\"ticks\":\"\"}},\"marker\":{\"colorbar\":{\"outlinewidth\":0,\"ticks\":\"\"}}}],\"scattermapbox\":[{\"type\":\"scattermapbox\",\"marker\":{\"colorbar\":{\"outlinewidth\":0,\"ticks\":\"\"}}}],\"scatterternary\":[{\"type\":\"scatterternary\",\"marker\":{\"colorbar\":{\"outlinewidth\":0,\"ticks\":\"\"}}}],\"scattercarpet\":[{\"type\":\"scattercarpet\",\"marker\":{\"colorbar\":{\"outlinewidth\":0,\"ticks\":\"\"}}}],\"carpet\":[{\"aaxis\":{\"endlinecolor\":\"#2a3f5f\",\"gridcolor\":\"white\",\"linecolor\":\"white\",\"minorgridcolor\":\"white\",\"startlinecolor\":\"#2a3f5f\"},\"baxis\":{\"endlinecolor\":\"#2a3f5f\",\"gridcolor\":\"white\",\"linecolor\":\"white\",\"minorgridcolor\":\"white\",\"startlinecolor\":\"#2a3f5f\"},\"type\":\"carpet\"}],\"table\":[{\"cells\":{\"fill\":{\"color\":\"#EBF0F8\"},\"line\":{\"color\":\"white\"}},\"header\":{\"fill\":{\"color\":\"#C8D4E3\"},\"line\":{\"color\":\"white\"}},\"type\":\"table\"}],\"barpolar\":[{\"marker\":{\"line\":{\"color\":\"#E5ECF6\",\"width\":0.5},\"pattern\":{\"fillmode\":\"overlay\",\"size\":10,\"solidity\":0.2}},\"type\":\"barpolar\"}],\"pie\":[{\"automargin\":true,\"type\":\"pie\"}]},\"layout\":{\"autotypenumbers\":\"strict\",\"colorway\":[\"#636efa\",\"#EF553B\",\"#00cc96\",\"#ab63fa\",\"#FFA15A\",\"#19d3f3\",\"#FF6692\",\"#B6E880\",\"#FF97FF\",\"#FECB52\"],\"font\":{\"color\":\"#2a3f5f\"},\"hovermode\":\"closest\",\"hoverlabel\":{\"align\":\"left\"},\"paper_bgcolor\":\"white\",\"plot_bgcolor\":\"#E5ECF6\",\"polar\":{\"bgcolor\":\"#E5ECF6\",\"angularaxis\":{\"gridcolor\":\"white\",\"linecolor\":\"white\",\"ticks\":\"\"},\"radialaxis\":{\"gridcolor\":\"white\",\"linecolor\":\"white\",\"ticks\":\"\"}},\"ternary\":{\"bgcolor\":\"#E5ECF6\",\"aaxis\":{\"gridcolor\":\"white\",\"linecolor\":\"white\",\"ticks\":\"\"},\"baxis\":{\"gridcolor\":\"white\",\"linecolor\":\"white\",\"ticks\":\"\"},\"caxis\":{\"gridcolor\":\"white\",\"linecolor\":\"white\",\"ticks\":\"\"}},\"coloraxis\":{\"colorbar\":{\"outlinewidth\":0,\"ticks\":\"\"}},\"colorscale\":{\"sequential\":[[0.0,\"#0d0887\"],[0.1111111111111111,\"#46039f\"],[0.2222222222222222,\"#7201a8\"],[0.3333333333333333,\"#9c179e\"],[0.4444444444444444,\"#bd3786\"],[0.5555555555555556,\"#d8576b\"],[0.6666666666666666,\"#ed7953\"],[0.7777777777777778,\"#fb9f3a\"],[0.8888888888888888,\"#fdca26\"],[1.0,\"#f0f921\"]],\"sequentialminus\":[[0.0,\"#0d0887\"],[0.1111111111111111,\"#46039f\"],[0.2222222222222222,\"#7201a8\"],[0.3333333333333333,\"#9c179e\"],[0.4444444444444444,\"#bd3786\"],[0.5555555555555556,\"#d8576b\"],[0.6666666666666666,\"#ed7953\"],[0.7777777777777778,\"#fb9f3a\"],[0.8888888888888888,\"#fdca26\"],[1.0,\"#f0f921\"]],\"diverging\":[[0,\"#8e0152\"],[0.1,\"#c51b7d\"],[0.2,\"#de77ae\"],[0.3,\"#f1b6da\"],[0.4,\"#fde0ef\"],[0.5,\"#f7f7f7\"],[0.6,\"#e6f5d0\"],[0.7,\"#b8e186\"],[0.8,\"#7fbc41\"],[0.9,\"#4d9221\"],[1,\"#276419\"]]},\"xaxis\":{\"gridcolor\":\"white\",\"linecolor\":\"white\",\"ticks\":\"\",\"title\":{\"standoff\":15},\"zerolinecolor\":\"white\",\"automargin\":true,\"zerolinewidth\":2},\"yaxis\":{\"gridcolor\":\"white\",\"linecolor\":\"white\",\"ticks\":\"\",\"title\":{\"standoff\":15},\"zerolinecolor\":\"white\",\"automargin\":true,\"zerolinewidth\":2},\"scene\":{\"xaxis\":{\"backgroundcolor\":\"#E5ECF6\",\"gridcolor\":\"white\",\"linecolor\":\"white\",\"showbackground\":true,\"ticks\":\"\",\"zerolinecolor\":\"white\",\"gridwidth\":2},\"yaxis\":{\"backgroundcolor\":\"#E5ECF6\",\"gridcolor\":\"white\",\"linecolor\":\"white\",\"showbackground\":true,\"ticks\":\"\",\"zerolinecolor\":\"white\",\"gridwidth\":2},\"zaxis\":{\"backgroundcolor\":\"#E5ECF6\",\"gridcolor\":\"white\",\"linecolor\":\"white\",\"showbackground\":true,\"ticks\":\"\",\"zerolinecolor\":\"white\",\"gridwidth\":2}},\"shapedefaults\":{\"line\":{\"color\":\"#2a3f5f\"}},\"annotationdefaults\":{\"arrowcolor\":\"#2a3f5f\",\"arrowhead\":0,\"arrowwidth\":1},\"geo\":{\"bgcolor\":\"white\",\"landcolor\":\"#E5ECF6\",\"subunitcolor\":\"white\",\"showland\":true,\"showlakes\":true,\"lakecolor\":\"white\"},\"title\":{\"x\":0.05},\"mapbox\":{\"style\":\"light\"}}},\"xaxis\":{\"anchor\":\"y\",\"domain\":[0.0,1.0],\"title\":{\"text\":\"tempo\"}},\"yaxis\":{\"anchor\":\"x\",\"domain\":[0.0,1.0],\"title\":{\"text\":\"densidade\"}},\"legend\":{\"title\":{\"text\":\"variable\"},\"tracegroupgap\":0},\"margin\":{\"t\":60}},                        {\"responsive\": true}                    ).then(function(){\n",
              "                            \n",
              "var gd = document.getElementById('347a2f73-9feb-484a-82bc-766aad1859b5');\n",
              "var x = new MutationObserver(function (mutations, observer) {{\n",
              "        var display = window.getComputedStyle(gd).display;\n",
              "        if (!display || display === 'none') {{\n",
              "            console.log([gd, 'removed!']);\n",
              "            Plotly.purge(gd);\n",
              "            observer.disconnect();\n",
              "        }}\n",
              "}});\n",
              "\n",
              "// Listen for the removal of the full notebook cells\n",
              "var notebookContainer = gd.closest('#notebook-container');\n",
              "if (notebookContainer) {{\n",
              "    x.observe(notebookContainer, {childList: true});\n",
              "}}\n",
              "\n",
              "// Listen for the clearing of the current output cell\n",
              "var outputEl = gd.closest('.output');\n",
              "if (outputEl) {{\n",
              "    x.observe(outputEl, {childList: true});\n",
              "}}\n",
              "\n",
              "                        })                };                            </script>        </div>\n",
              "</body>\n",
              "</html>"
            ]
          },
          "metadata": {}
        }
      ],
      "source": [
        "param_sit2a = [5, 5, 10, 1, 1, 1, 1, 0.6, 2, 1, 0.4, 1]\n",
        "A1, A2, R, t = setMyPlot(param_sit2a, 0, 200, 200, func_const)\n",
        "printParam(param_sit2a)\n",
        "plotMyGraph(A1, A2, R, t )"
      ]
    },
    {
      "cell_type": "markdown",
      "source": [
        "Nesse caso, o ponto estacionário deve ser do tipo $S_2$ com os seguintes valores:"
      ],
      "metadata": {
        "id": "Rnre_uZKy49x"
      }
    },
    {
      "cell_type": "code",
      "source": [
        "Si_coord(param_sit2a, t, func_const, 2)"
      ],
      "metadata": {
        "colab": {
          "base_uri": "https://localhost:8080/"
        },
        "outputId": "56bfab35-0e18-4980-cffe-ec0824e4e7f1",
        "id": "zzOsmJzcy49y"
      },
      "execution_count": null,
      "outputs": [
        {
          "output_type": "stream",
          "name": "stdout",
          "text": [
            "Condições de estabilidade:\n",
            "1/(C2+D2-D1) = 0.909091 < 1/C1 = 1.000000\n",
            "j*D2 = -2.000000 < (C2+D2)^2*ft = 2.500000\n",
            "(C2+D2)*(ft*(C2+D2)-j) = 2.000000 > 0\n",
            "\n",
            "A1 = 0.000000, A2 = 20.000000, R = 2.000000\n"
          ]
        }
      ]
    },
    {
      "cell_type": "markdown",
      "source": [
        "O que condiz com o gráfico."
      ],
      "metadata": {
        "id": "n2ri2Csgy49y"
      }
    },
    {
      "cell_type": "markdown",
      "metadata": {
        "id": "1L1NNbYac9NI"
      },
      "source": [
        "b) Modificando apenas a taxa de mortalidade de A1, de modo a ficar igual a de A2 (u1 = u2), percebe-se que a situação é totalmente distinta. Agora o A1 tem uma gigantesca vantagem competitiva. Isso se dá porque o tempo de obtenção do recurso é muito menor para A1 do que para A2."
      ]
    },
    {
      "cell_type": "code",
      "execution_count": null,
      "metadata": {
        "colab": {
          "base_uri": "https://localhost:8080/",
          "height": 559
        },
        "id": "IB6OZRF6dA6K",
        "outputId": "46a4830d-633e-4034-d374-486679bab341"
      },
      "outputs": [
        {
          "output_type": "stream",
          "name": "stdout",
          "text": [
            "A10 = 5, A20 = 5, R0 = 10, a1 = 1, a2 = 1, b1 = 1, b2 = 1, h1 = 0.6, h2 = 2, u1 = 0.4, u2 = 0.4, j = 10"
          ]
        },
        {
          "output_type": "display_data",
          "data": {
            "text/html": [
              "<html>\n",
              "<head><meta charset=\"utf-8\" /></head>\n",
              "<body>\n",
              "    <div>            <script src=\"https://cdnjs.cloudflare.com/ajax/libs/mathjax/2.7.5/MathJax.js?config=TeX-AMS-MML_SVG\"></script><script type=\"text/javascript\">if (window.MathJax && window.MathJax.Hub && window.MathJax.Hub.Config) {window.MathJax.Hub.Config({SVG: {font: \"STIX-Web\"}});}</script>                <script type=\"text/javascript\">window.PlotlyConfig = {MathJaxConfig: 'local'};</script>\n",
              "        <script src=\"https://cdn.plot.ly/plotly-2.18.2.min.js\"></script>                <div id=\"0cbfd68f-17b6-4555-abd1-5169308756bf\" class=\"plotly-graph-div\" style=\"height:525px; width:100%;\"></div>            <script type=\"text/javascript\">                                    window.PLOTLYENV=window.PLOTLYENV || {};                                    if (document.getElementById(\"0cbfd68f-17b6-4555-abd1-5169308756bf\")) {                    Plotly.newPlot(                        \"0cbfd68f-17b6-4555-abd1-5169308756bf\",                        [{\"hovertemplate\":\"variable=a1<br>tempo=%{x}<br>densidade=%{y}<extra></extra>\",\"legendgroup\":\"a1\",\"line\":{\"color\":\"#636efa\",\"dash\":\"solid\",\"width\":3},\"marker\":{\"symbol\":\"circle\"},\"mode\":\"lines\",\"name\":\"a1\",\"orientation\":\"v\",\"showlegend\":true,\"x\":[0.0,1.0050251256281406,2.0100502512562812,3.015075376884422,4.0201005025125625,5.025125628140703,6.030150753768844,7.035175879396984,8.040201005025125,9.045226130653266,10.050251256281406,11.055276381909547,12.060301507537687,13.065326633165828,14.070351758793969,15.07537688442211,16.08040201005025,17.08542713567839,18.09045226130653,19.09547738693467,20.100502512562812,21.105527638190953,22.110552763819094,23.115577889447234,24.120603015075375,25.125628140703515,26.130653266331656,27.135678391959797,28.140703517587937,29.145728643216078,30.15075376884422,31.15577889447236,32.1608040201005,33.16582914572864,34.17085427135678,35.175879396984925,36.18090452261306,37.1859296482412,38.19095477386934,39.19597989949749,40.201005025125625,41.20603015075376,42.211055276381906,43.21608040201005,44.22110552763819,45.226130653266324,46.23115577889447,47.23618090452261,48.24120603015075,49.24623115577889,50.25125628140703,51.256281407035175,52.26130653266331,53.26633165829145,54.27135678391959,55.27638190954774,56.281407035175874,57.28643216080401,58.291457286432156,59.2964824120603,60.30150753768844,61.306532663316574,62.31155778894472,63.31658291457286,64.321608040201,65.32663316582914,66.33165829145727,67.33668341708542,68.34170854271356,69.3467336683417,70.35175879396985,71.35678391959799,72.36180904522612,73.36683417085426,74.3718592964824,75.37688442211055,76.38190954773869,77.38693467336682,78.39195979899498,79.39698492462311,80.40201005025125,81.40703517587939,82.41206030150752,83.41708542713567,84.42211055276381,85.42713567839195,86.4321608040201,87.43718592964824,88.44221105527637,89.44723618090451,90.45226130653265,91.4572864321608,92.46231155778894,93.46733668341707,94.47236180904522,95.47738693467336,96.4824120603015,97.48743718592964,98.49246231155777,99.49748743718592,100.50251256281406,101.5075376884422,102.51256281407035,103.51758793969849,104.52261306532662,105.52763819095476,106.5326633165829,107.53768844221105,108.54271356783919,109.54773869346732,110.55276381909547,111.55778894472361,112.56281407035175,113.56783919597989,114.57286432160802,115.57788944723617,116.58291457286431,117.58793969849245,118.5929648241206,119.59798994974874,120.60301507537687,121.60804020100501,122.61306532663315,123.6180904522613,124.62311557788944,125.62814070351757,126.63316582914572,127.63819095477386,128.643216080402,129.64824120603015,130.65326633165827,131.65829145728642,132.66331658291455,133.6683417085427,134.67336683417085,135.67839195979897,136.68341708542712,137.68844221105527,138.6934673366834,139.69849246231155,140.7035175879397,141.70854271356782,142.71356783919597,143.7185929648241,144.72361809045225,145.7286432160804,146.73366834170852,147.73869346733667,148.7437185929648,149.74874371859295,150.7537688442211,151.75879396984922,152.76381909547737,153.76884422110552,154.77386934673365,155.7788944723618,156.78391959798995,157.78894472361807,158.79396984924622,159.79899497487435,160.8040201005025,161.80904522613065,162.81407035175877,163.81909547738692,164.82412060301505,165.8291457286432,166.83417085427135,167.83919597989947,168.84422110552762,169.84924623115577,170.8542713567839,171.85929648241205,172.8643216080402,173.86934673366832,174.87437185929647,175.8793969849246,176.88442211055275,177.8894472361809,178.89447236180902,179.89949748743717,180.9045226130653,181.90954773869345,182.9145728643216,183.91959798994972,184.92462311557787,185.92964824120602,186.93467336683415,187.9396984924623,188.94472361809045,189.94974874371857,190.95477386934672,191.95979899497485,192.964824120603,193.96984924623115,194.97487437185927,195.97989949748742,196.98492462311555,197.9899497487437,198.99497487437185,200.0],\"xaxis\":\"x\",\"y\":[5.0,6.184742106454271,6.454425671241181,6.740806642033045,7.038780811198272,7.343546369603853,7.6506449621301815,7.956018576831227,8.256067176527923,8.54769489145119,8.828336778516881,9.095964143194017,9.349068365280454,9.586626630206911,9.808054306080614,10.013148393469747,10.202027044512825,10.375068990554132,10.532855688044638,10.676119006072076,10.80569442044278,10.92248168034795,11.02741190786563,11.121421308767001,11.205430672432586,11.280330088231507,11.346967934038542,11.406143612896196,11.458603024789578,11.505036648984158,11.546079030509656,11.582310144049474,11.614257119287482,11.64239692777599,11.667159567458388,11.688931301109466,11.708058100371517,11.724848965746348,11.7395792727145,11.752493891888932,11.763810168661507,11.773720666405206,11.782395747700088,11.789985971250061,11.796624223051484,11.802427590078679,11.80749919186737,11.81192977655317,11.815799110709666,11.81917725206219,11.822125698683788,11.824698408836694,11.826942690093995,11.828899991455394,11.830606610179984,11.832094324098103,11.833390937828705,11.834520778014756,11.83550509474729,11.836362501064889,11.837109190160682,11.837759378249865,11.838325423871822,11.838818148097163,11.839246981959084,11.839620164265861,11.839944868797764,11.840227349991817,11.840473064629908,11.840686771390407,11.840872609092449,11.841034191000315,11.841174674728785,11.841296809212356,11.841402980336103,11.841495261172321,11.841575456023758,11.841645139371996,11.841705684146895,11.841758283402834,11.841803983935723,11.841843683260773,11.841878170751205,11.841908125434967,11.841934139281246,11.841956728983375,11.841976337666399,11.841993364485207,11.842008139785307,11.842020971459684,11.842032106788384,11.842041778175606,11.842050172435645,11.842057461213003,11.842063788236715,11.842069281545355,11.842074048026575,11.842078180664718,11.84208177379353,11.842084890811226,11.842087601888354,11.842089954136672,11.842092009179598,11.842093789501382,11.842095322259375,11.842096668989242,11.842097815642559,11.842098800345795,11.842099649584325,11.842100375891736,11.842101015380939,11.84210156197901,11.842102041237782,11.842102461384886,11.842102824406298,11.84210314480422,11.842103420811728,11.84210366265313,11.842103873188078,11.84210405568447,11.84210421525436,11.842104352848855,11.842104473023317,11.842104575149984,11.842104662629414,11.842104738912491,11.842104806747447,11.842104863709528,11.842104912192951,11.842104955029704,11.842104994030125,11.842105026823486,11.842105054698425,11.842105079617756,11.842105102604634,11.842105122148961,11.842105138806188,11.842105153746237,11.842105167496507,11.842105178681106,11.842105187817612,11.842105195832632,11.842105203051194,11.842105209798321,11.842105216399037,11.842105221100699,11.842105225141825,11.84210522879167,11.842105232217046,11.842105235584762,11.84210523887185,11.842105241164292,11.84210524323416,11.842105245152405,11.842105246989977,11.842105248817825,11.842105251177331,11.842105252140003,11.842105253104922,11.842105254072086,11.842105255041497,11.842105256013154,11.842105256789472,11.842105257420805,11.84210525801569,11.842105258574131,11.842105259096122,11.842105259581666,11.842105260030763,11.842105260443413,11.842105260819615,11.84210526115937,11.842105261462677,11.842105261729536,11.842105261959949,11.842105262153913,11.842105262311431,11.842105262441505,11.842105262664834,11.842105262868326,11.842105263051984,11.842105263215805,11.84210526335979,11.842105263483937,11.84210526358825,11.842105263672726,11.842105263737366,11.842105263782171,11.842105263807138,11.842105263812272,11.842105263797567,11.842105263763028,11.842105263708651,11.842105264342852,11.84210526428904,11.842105264235231,11.84210526418142,11.84210526412761,11.8421052640738,11.842105264019988],\"yaxis\":\"y\",\"type\":\"scatter\"},{\"hovertemplate\":\"variable=a2<br>tempo=%{x}<br>densidade=%{y}<extra></extra>\",\"legendgroup\":\"a2\",\"line\":{\"color\":\"#EF553B\",\"dash\":\"solid\",\"width\":3},\"marker\":{\"symbol\":\"circle\"},\"mode\":\"lines\",\"name\":\"a2\",\"orientation\":\"v\",\"showlegend\":true,\"x\":[0.0,1.0050251256281406,2.0100502512562812,3.015075376884422,4.0201005025125625,5.025125628140703,6.030150753768844,7.035175879396984,8.040201005025125,9.045226130653266,10.050251256281406,11.055276381909547,12.060301507537687,13.065326633165828,14.070351758793969,15.07537688442211,16.08040201005025,17.08542713567839,18.09045226130653,19.09547738693467,20.100502512562812,21.105527638190953,22.110552763819094,23.115577889447234,24.120603015075375,25.125628140703515,26.130653266331656,27.135678391959797,28.140703517587937,29.145728643216078,30.15075376884422,31.15577889447236,32.1608040201005,33.16582914572864,34.17085427135678,35.175879396984925,36.18090452261306,37.1859296482412,38.19095477386934,39.19597989949749,40.201005025125625,41.20603015075376,42.211055276381906,43.21608040201005,44.22110552763819,45.226130653266324,46.23115577889447,47.23618090452261,48.24120603015075,49.24623115577889,50.25125628140703,51.256281407035175,52.26130653266331,53.26633165829145,54.27135678391959,55.27638190954774,56.281407035175874,57.28643216080401,58.291457286432156,59.2964824120603,60.30150753768844,61.306532663316574,62.31155778894472,63.31658291457286,64.321608040201,65.32663316582914,66.33165829145727,67.33668341708542,68.34170854271356,69.3467336683417,70.35175879396985,71.35678391959799,72.36180904522612,73.36683417085426,74.3718592964824,75.37688442211055,76.38190954773869,77.38693467336682,78.39195979899498,79.39698492462311,80.40201005025125,81.40703517587939,82.41206030150752,83.41708542713567,84.42211055276381,85.42713567839195,86.4321608040201,87.43718592964824,88.44221105527637,89.44723618090451,90.45226130653265,91.4572864321608,92.46231155778894,93.46733668341707,94.47236180904522,95.47738693467336,96.4824120603015,97.48743718592964,98.49246231155777,99.49748743718592,100.50251256281406,101.5075376884422,102.51256281407035,103.51758793969849,104.52261306532662,105.52763819095476,106.5326633165829,107.53768844221105,108.54271356783919,109.54773869346732,110.55276381909547,111.55778894472361,112.56281407035175,113.56783919597989,114.57286432160802,115.57788944723617,116.58291457286431,117.58793969849245,118.5929648241206,119.59798994974874,120.60301507537687,121.60804020100501,122.61306532663315,123.6180904522613,124.62311557788944,125.62814070351757,126.63316582914572,127.63819095477386,128.643216080402,129.64824120603015,130.65326633165827,131.65829145728642,132.66331658291455,133.6683417085427,134.67336683417085,135.67839195979897,136.68341708542712,137.68844221105527,138.6934673366834,139.69849246231155,140.7035175879397,141.70854271356782,142.71356783919597,143.7185929648241,144.72361809045225,145.7286432160804,146.73366834170852,147.73869346733667,148.7437185929648,149.74874371859295,150.7537688442211,151.75879396984922,152.76381909547737,153.76884422110552,154.77386934673365,155.7788944723618,156.78391959798995,157.78894472361807,158.79396984924622,159.79899497487435,160.8040201005025,161.80904522613065,162.81407035175877,163.81909547738692,164.82412060301505,165.8291457286432,166.83417085427135,167.83919597989947,168.84422110552762,169.84924623115577,170.8542713567839,171.85929648241205,172.8643216080402,173.86934673366832,174.87437185929647,175.8793969849246,176.88442211055275,177.8894472361809,178.89447236180902,179.89949748743717,180.9045226130653,181.90954773869345,182.9145728643216,183.91959798994972,184.92462311557787,185.92964824120602,186.93467336683415,187.9396984924623,188.94472361809045,189.94974874371857,190.95477386934672,191.95979899497485,192.964824120603,193.96984924623115,194.97487437185927,195.97989949748742,196.98492462311555,197.9899497487437,198.99497487437185,200.0],\"xaxis\":\"x\",\"y\":[5.0,4.593494658725224,4.043958350488874,3.561159436374581,3.1358118495679936,2.7603540262793618,2.4285340780893394,2.135105341870067,1.875602012265526,1.6461736304955021,1.4434621782127974,1.2645115574369252,1.1067000186597533,0.9676895247127442,0.8453878386943109,0.7379187537414259,0.6435985644238138,0.5609168540316838,0.48852037467235904,0.4251980362203105,0.36986870152368617,0.32156896869336565,0.27944239853435326,0.2427292947112915,0.210757284850452,0.18293249168808873,0.15873142393715411,0.13769345021303733,0.11941400376578461,0.10353823225486664,0.08975543271388253,0.07779376636908783,0.067415768086997,0.05841424493989122,0.05060851296931099,0.043841175351796005,0.0379751878535484,0.032891353972452214,0.028486031521984166,0.02466915608477651,0.02136249926382997,0.018498153688266586,0.0160171857379842,0.013868445075600581,0.012007554509782624,0.010396059104001066,0.009000613377480485,0.007792301504014538,0.006746068339773211,0.005840208606917115,0.005055915478626675,0.004376891396696598,0.0037890184186487492,0.0032800708131810546,0.0028394613057745382,0.002458020270237322,0.002127806301393043,0.0018419415002029805,0.0015944719812642945,0.0013802427978956099,0.001194791539075442,0.0010342542860445319,0.0008952850803386753,0.0007749864151731449,0.0006708506504573163,0.0005807040229848567,0.0005026685081329273,0.0004351186428005539,0.0003766461357806058,0.00032603122080364507,0.00028222035863395713,0.00024429955437269555,0.00021147474057374132,0.00018305896309844252,0.00015845982427702276,0.00013716587938130827,0.00011873440491312189,0.00010278111168963785,8.897255936215741e-05,7.702055589882233e-05,6.667315234454052e-05,5.771601128135097e-05,4.996117831484152e-05,4.324805808175167e-05,3.743720228930469e-05,3.240737156431097e-05,2.8055245091674645e-05,2.4287607227911464e-05,2.102824352848493e-05,1.820560239687377e-05,1.5763191643529925e-05,1.3647513362787257e-05,1.1816077949917957e-05,1.0229777054797845e-05,8.856330095368186e-06,7.667077784951304e-06,6.637628911992737e-06,5.746494366322079e-06,4.974447110072815e-06,4.305707201694422e-06,3.725478397908942e-06,3.2231365497057407e-06,2.785108978305763e-06,2.4064639608150696e-06,2.0812353759011725e-06,1.79594110422493e-06,1.5536904048986346e-06,1.3461384965476142e-06,1.167509038274687e-06,1.015120253425575e-06,8.810733520814418e-07,7.667786601199589e-07,6.666720023201771e-07,5.790004994929694e-07,5.033826502173612e-07,4.36686775711597e-07,3.7933330166550373e-07,3.291308832027261e-07,2.8548186046435443e-07,2.4770074441102356e-07,2.1470380171085367e-07,1.8629556422473748e-07,1.615132032519997e-07,1.4049377295238212e-07,1.2252025046939053e-07,1.0686494482239155e-07,9.294914009853674e-08,8.129100206833736e-08,7.138688033756532e-08,6.264029841824521e-08,5.4671411089441096e-08,4.7984965025699285e-08,4.231149247027526e-08,3.723888840243268e-08,3.255385293528543e-08,2.857621701732805e-08,2.519111041226068e-08,2.2154345165016522e-08,1.9356955022469807e-08,1.7086421634580742e-08,1.523582340159526e-08,1.3613040195037807e-08,1.215125908488279e-08,1.0783667141104797e-08,9.443451433678252e-09,8.492961052092086e-09,7.676692072606492e-09,6.939351641654711e-09,6.246807320590881e-09,5.564926670769062e-09,4.89856129154852e-09,4.435597850066291e-09,4.0175736292876975e-09,3.630047572498416e-09,3.2585786229841188e-09,2.8887257240304472e-09,2.411240372849157e-09,2.2169070205467105e-09,2.0221077438314584e-09,1.826842542703412e-09,1.6311114171625599e-09,1.434914367208908e-09,1.2782787419626566e-09,1.1510030586482285e-09,1.0311000738378492e-09,9.185697875315119e-10,8.134121997292198e-10,7.15627310430976e-10,6.252151196367748e-10,5.421756273466191e-10,4.665088335605109e-10,3.9821473827844595e-10,3.372933415004264e-10,2.8374464322645384e-10,2.375686434565251e-10,1.9876534219064279e-10,1.6733473942880475e-10,1.4144785807031997e-10,9.65907331747349e-11,5.5732443287547154e-11,1.887298840875903e-11,-1.3987631461631577e-11,-4.284941632362353e-11,-6.771236617721625e-11,-8.857648102241105e-11,-1.054417608592072e-10,-1.1830820568760443e-10,-1.2717581550760343e-10,-1.320445903192038e-10,-1.3291453012240557e-10,-1.2978563491720875e-10,-1.2265790470361358e-10,-1.1153133948161962e-10,-2.3844141438244236e-10,-2.2759470441701896e-10,-2.1674799445159524e-10,-2.059012844861718e-10,-1.9505457452074807e-10,-1.8420786455532435e-10,-1.7336115458990064e-10],\"yaxis\":\"y\",\"type\":\"scatter\"},{\"hovertemplate\":\"variable=r<br>tempo=%{x}<br>densidade=%{y}<extra></extra>\",\"legendgroup\":\"r\",\"line\":{\"color\":\"#00cc96\",\"dash\":\"solid\",\"width\":3},\"marker\":{\"symbol\":\"circle\"},\"mode\":\"lines\",\"name\":\"r\",\"orientation\":\"v\",\"showlegend\":true,\"x\":[0.0,1.0050251256281406,2.0100502512562812,3.015075376884422,4.0201005025125625,5.025125628140703,6.030150753768844,7.035175879396984,8.040201005025125,9.045226130653266,10.050251256281406,11.055276381909547,12.060301507537687,13.065326633165828,14.070351758793969,15.07537688442211,16.08040201005025,17.08542713567839,18.09045226130653,19.09547738693467,20.100502512562812,21.105527638190953,22.110552763819094,23.115577889447234,24.120603015075375,25.125628140703515,26.130653266331656,27.135678391959797,28.140703517587937,29.145728643216078,30.15075376884422,31.15577889447236,32.1608040201005,33.16582914572864,34.17085427135678,35.175879396984925,36.18090452261306,37.1859296482412,38.19095477386934,39.19597989949749,40.201005025125625,41.20603015075376,42.211055276381906,43.21608040201005,44.22110552763819,45.226130653266324,46.23115577889447,47.23618090452261,48.24120603015075,49.24623115577889,50.25125628140703,51.256281407035175,52.26130653266331,53.26633165829145,54.27135678391959,55.27638190954774,56.281407035175874,57.28643216080401,58.291457286432156,59.2964824120603,60.30150753768844,61.306532663316574,62.31155778894472,63.31658291457286,64.321608040201,65.32663316582914,66.33165829145727,67.33668341708542,68.34170854271356,69.3467336683417,70.35175879396985,71.35678391959799,72.36180904522612,73.36683417085426,74.3718592964824,75.37688442211055,76.38190954773869,77.38693467336682,78.39195979899498,79.39698492462311,80.40201005025125,81.40703517587939,82.41206030150752,83.41708542713567,84.42211055276381,85.42713567839195,86.4321608040201,87.43718592964824,88.44221105527637,89.44723618090451,90.45226130653265,91.4572864321608,92.46231155778894,93.46733668341707,94.47236180904522,95.47738693467336,96.4824120603015,97.48743718592964,98.49246231155777,99.49748743718592,100.50251256281406,101.5075376884422,102.51256281407035,103.51758793969849,104.52261306532662,105.52763819095476,106.5326633165829,107.53768844221105,108.54271356783919,109.54773869346732,110.55276381909547,111.55778894472361,112.56281407035175,113.56783919597989,114.57286432160802,115.57788944723617,116.58291457286431,117.58793969849245,118.5929648241206,119.59798994974874,120.60301507537687,121.60804020100501,122.61306532663315,123.6180904522613,124.62311557788944,125.62814070351757,126.63316582914572,127.63819095477386,128.643216080402,129.64824120603015,130.65326633165827,131.65829145728642,132.66331658291455,133.6683417085427,134.67336683417085,135.67839195979897,136.68341708542712,137.68844221105527,138.6934673366834,139.69849246231155,140.7035175879397,141.70854271356782,142.71356783919597,143.7185929648241,144.72361809045225,145.7286432160804,146.73366834170852,147.73869346733667,148.7437185929648,149.74874371859295,150.7537688442211,151.75879396984922,152.76381909547737,153.76884422110552,154.77386934673365,155.7788944723618,156.78391959798995,157.78894472361807,158.79396984924622,159.79899497487435,160.8040201005025,161.80904522613065,162.81407035175877,163.81909547738692,164.82412060301505,165.8291457286432,166.83417085427135,167.83919597989947,168.84422110552762,169.84924623115577,170.8542713567839,171.85929648241205,172.8643216080402,173.86934673366832,174.87437185929647,175.8793969849246,176.88442211055275,177.8894472361809,178.89447236180902,179.89949748743717,180.9045226130653,181.90954773869345,182.9145728643216,183.91959798994972,184.92462311557787,185.92964824120602,186.93467336683415,187.9396984924623,188.94472361809045,189.94974874371857,190.95477386934672,191.95979899497485,192.964824120603,193.96984924623115,194.97487437185927,195.97989949748742,196.98492462311555,197.9899497487437,198.99497487437185,200.0],\"xaxis\":\"x\",\"y\":[10.0,0.6010860101842563,0.6033697358436756,0.6038414692396274,0.6028416111082799,0.6006876165452396,0.5976610250826151,0.5940070726438126,0.5899351559297699,0.5856201144041395,0.5812044243103304,0.576801106673686,0.5724969634544249,0.5683561733348452,0.5644238171335839,0.5607292188572712,0.5572890567173204,0.5541100977223294,0.5511915293789603,0.5485269175420335,0.5461058973150019,0.5439154028791732,0.5419407207081277,0.5401663290794363,0.5385764105607151,0.5371553501607084,0.5358880498218612,0.5347601044538213,0.5337579769962594,0.5328690488638911,0.5320816724658113,0.5313851374577361,0.5307697069584167,0.5302265078973311,0.5297475371882816,0.5293255776692314,0.5289541483477905,0.5286274552491732,0.5283403021241245,0.5280880709172687,0.5278666469441153,0.5276723782747806,0.5275020239802437,0.5273527139927726,0.5272219083854288,0.5271073636118702,0.527007099661859,0.5269193694673483,0.526842634528177,0.5267755398041645,0.5267168936695884,0.5266656480427535,0.5266208828006004,0.526581788399081,0.5265476576630601,0.5265178650136724,0.5264918681963313,0.5264691820331495,0.5264494207507653,0.5264321434349173,0.5264171272869357,0.5264040019840123,0.5263925798778729,0.526382624235835,0.5263739511315854,0.5263663966473274,0.5263598172662626,0.5263540883146711,0.5263491007392948,0.5263447591887276,0.5263409807171391,0.5263376927578854,0.5263348319674173,0.526332342845065,0.5263301776903376,0.5263282941673928,0.5263266564500946,0.5263252324339334,0.5263239942668668,0.5263229178491963,0.5263219821390079,0.5263211687995646,0.5263204618329409,0.5263198474231536,0.5263193135440205,0.5263188496961096,0.5263184468098078,0.526318096774554,0.5263177929224977,0.5263175290437113,0.526317299812464,0.5263171002818409,0.5263169273989933,0.5263167782053161,0.526316647902996,0.5263165318321819,0.5263164322286659,0.5263163541763956,0.5263162749553917,0.5263162119374427,0.5263161554495066,0.5263161066897926,0.5263160641778255,0.5263160273629592,0.5263159956442006,0.5263159677650059,0.5263159440183844,0.5263159236178442,0.5263159060172118,0.5263158909590931,0.5263158776986443,0.5263158663601932,0.5263158564169778,0.5263158476988062,0.5263158401639355,0.5263158335130868,0.5263158277821185,0.5263158227597683,0.5263158183867146,0.5263158145952046,0.5263158112794243,0.5263158084195917,0.5263158059213716,0.5263158037976966,0.5263158019781189,0.5263158003911498,0.5263157989798442,0.5263157977943269,0.5263157967849803,0.5263157958931255,0.5263157950812298,0.5263157943983305,0.5263157938176971,0.5263157932986395,0.526315792819924,0.5263157924128125,0.5263157920657628,0.5263157917544998,0.5263157914680632,0.526315791234997,0.5263157910445448,0.5263157908774599,0.5263157907269823,0.526315790586352,0.526315790448809,0.5263157903507737,0.5263157902665005,0.5263157901903888,0.5263157901189666,0.526315790048762,0.5263157899802506,0.526315789932443,0.5263157898892772,0.5263157898492752,0.5263157898109593,0.5263157897728515,0.5263157897236606,0.5263157897035833,0.5263157896834594,0.5263157896632887,0.5263157896430716,0.5263157896228077,0.5263157896066158,0.5263157895934462,0.5263157895810364,0.5263157895693866,0.5263157895584968,0.5263157895483668,0.5263157895389967,0.5263157895303865,0.5263157895225362,0.5263157895154459,0.5263157895091154,0.5263157895035449,0.5263157894987343,0.5263157894946835,0.5263157894913927,0.5263157894886742,0.526315789484013,0.5263157894797655,0.5263157894759319,0.5263157894725121,0.5263157894695061,0.5263157894669137,0.5263157894647352,0.5263157894629705,0.5263157894616195,0.5263157894606824,0.526315789460159,0.5263157894600494,0.5263157894603535,0.5263157894610715,0.5263157894622033,0.5263157894489592,0.5263157894500817,0.5263157894512043,0.5263157894523267,0.5263157894534493,0.5263157894545717,0.5263157894556942],\"yaxis\":\"y\",\"type\":\"scatter\"}],                        {\"template\":{\"data\":{\"histogram2dcontour\":[{\"type\":\"histogram2dcontour\",\"colorbar\":{\"outlinewidth\":0,\"ticks\":\"\"},\"colorscale\":[[0.0,\"#0d0887\"],[0.1111111111111111,\"#46039f\"],[0.2222222222222222,\"#7201a8\"],[0.3333333333333333,\"#9c179e\"],[0.4444444444444444,\"#bd3786\"],[0.5555555555555556,\"#d8576b\"],[0.6666666666666666,\"#ed7953\"],[0.7777777777777778,\"#fb9f3a\"],[0.8888888888888888,\"#fdca26\"],[1.0,\"#f0f921\"]]}],\"choropleth\":[{\"type\":\"choropleth\",\"colorbar\":{\"outlinewidth\":0,\"ticks\":\"\"}}],\"histogram2d\":[{\"type\":\"histogram2d\",\"colorbar\":{\"outlinewidth\":0,\"ticks\":\"\"},\"colorscale\":[[0.0,\"#0d0887\"],[0.1111111111111111,\"#46039f\"],[0.2222222222222222,\"#7201a8\"],[0.3333333333333333,\"#9c179e\"],[0.4444444444444444,\"#bd3786\"],[0.5555555555555556,\"#d8576b\"],[0.6666666666666666,\"#ed7953\"],[0.7777777777777778,\"#fb9f3a\"],[0.8888888888888888,\"#fdca26\"],[1.0,\"#f0f921\"]]}],\"heatmap\":[{\"type\":\"heatmap\",\"colorbar\":{\"outlinewidth\":0,\"ticks\":\"\"},\"colorscale\":[[0.0,\"#0d0887\"],[0.1111111111111111,\"#46039f\"],[0.2222222222222222,\"#7201a8\"],[0.3333333333333333,\"#9c179e\"],[0.4444444444444444,\"#bd3786\"],[0.5555555555555556,\"#d8576b\"],[0.6666666666666666,\"#ed7953\"],[0.7777777777777778,\"#fb9f3a\"],[0.8888888888888888,\"#fdca26\"],[1.0,\"#f0f921\"]]}],\"heatmapgl\":[{\"type\":\"heatmapgl\",\"colorbar\":{\"outlinewidth\":0,\"ticks\":\"\"},\"colorscale\":[[0.0,\"#0d0887\"],[0.1111111111111111,\"#46039f\"],[0.2222222222222222,\"#7201a8\"],[0.3333333333333333,\"#9c179e\"],[0.4444444444444444,\"#bd3786\"],[0.5555555555555556,\"#d8576b\"],[0.6666666666666666,\"#ed7953\"],[0.7777777777777778,\"#fb9f3a\"],[0.8888888888888888,\"#fdca26\"],[1.0,\"#f0f921\"]]}],\"contourcarpet\":[{\"type\":\"contourcarpet\",\"colorbar\":{\"outlinewidth\":0,\"ticks\":\"\"}}],\"contour\":[{\"type\":\"contour\",\"colorbar\":{\"outlinewidth\":0,\"ticks\":\"\"},\"colorscale\":[[0.0,\"#0d0887\"],[0.1111111111111111,\"#46039f\"],[0.2222222222222222,\"#7201a8\"],[0.3333333333333333,\"#9c179e\"],[0.4444444444444444,\"#bd3786\"],[0.5555555555555556,\"#d8576b\"],[0.6666666666666666,\"#ed7953\"],[0.7777777777777778,\"#fb9f3a\"],[0.8888888888888888,\"#fdca26\"],[1.0,\"#f0f921\"]]}],\"surface\":[{\"type\":\"surface\",\"colorbar\":{\"outlinewidth\":0,\"ticks\":\"\"},\"colorscale\":[[0.0,\"#0d0887\"],[0.1111111111111111,\"#46039f\"],[0.2222222222222222,\"#7201a8\"],[0.3333333333333333,\"#9c179e\"],[0.4444444444444444,\"#bd3786\"],[0.5555555555555556,\"#d8576b\"],[0.6666666666666666,\"#ed7953\"],[0.7777777777777778,\"#fb9f3a\"],[0.8888888888888888,\"#fdca26\"],[1.0,\"#f0f921\"]]}],\"mesh3d\":[{\"type\":\"mesh3d\",\"colorbar\":{\"outlinewidth\":0,\"ticks\":\"\"}}],\"scatter\":[{\"fillpattern\":{\"fillmode\":\"overlay\",\"size\":10,\"solidity\":0.2},\"type\":\"scatter\"}],\"parcoords\":[{\"type\":\"parcoords\",\"line\":{\"colorbar\":{\"outlinewidth\":0,\"ticks\":\"\"}}}],\"scatterpolargl\":[{\"type\":\"scatterpolargl\",\"marker\":{\"colorbar\":{\"outlinewidth\":0,\"ticks\":\"\"}}}],\"bar\":[{\"error_x\":{\"color\":\"#2a3f5f\"},\"error_y\":{\"color\":\"#2a3f5f\"},\"marker\":{\"line\":{\"color\":\"#E5ECF6\",\"width\":0.5},\"pattern\":{\"fillmode\":\"overlay\",\"size\":10,\"solidity\":0.2}},\"type\":\"bar\"}],\"scattergeo\":[{\"type\":\"scattergeo\",\"marker\":{\"colorbar\":{\"outlinewidth\":0,\"ticks\":\"\"}}}],\"scatterpolar\":[{\"type\":\"scatterpolar\",\"marker\":{\"colorbar\":{\"outlinewidth\":0,\"ticks\":\"\"}}}],\"histogram\":[{\"marker\":{\"pattern\":{\"fillmode\":\"overlay\",\"size\":10,\"solidity\":0.2}},\"type\":\"histogram\"}],\"scattergl\":[{\"type\":\"scattergl\",\"marker\":{\"colorbar\":{\"outlinewidth\":0,\"ticks\":\"\"}}}],\"scatter3d\":[{\"type\":\"scatter3d\",\"line\":{\"colorbar\":{\"outlinewidth\":0,\"ticks\":\"\"}},\"marker\":{\"colorbar\":{\"outlinewidth\":0,\"ticks\":\"\"}}}],\"scattermapbox\":[{\"type\":\"scattermapbox\",\"marker\":{\"colorbar\":{\"outlinewidth\":0,\"ticks\":\"\"}}}],\"scatterternary\":[{\"type\":\"scatterternary\",\"marker\":{\"colorbar\":{\"outlinewidth\":0,\"ticks\":\"\"}}}],\"scattercarpet\":[{\"type\":\"scattercarpet\",\"marker\":{\"colorbar\":{\"outlinewidth\":0,\"ticks\":\"\"}}}],\"carpet\":[{\"aaxis\":{\"endlinecolor\":\"#2a3f5f\",\"gridcolor\":\"white\",\"linecolor\":\"white\",\"minorgridcolor\":\"white\",\"startlinecolor\":\"#2a3f5f\"},\"baxis\":{\"endlinecolor\":\"#2a3f5f\",\"gridcolor\":\"white\",\"linecolor\":\"white\",\"minorgridcolor\":\"white\",\"startlinecolor\":\"#2a3f5f\"},\"type\":\"carpet\"}],\"table\":[{\"cells\":{\"fill\":{\"color\":\"#EBF0F8\"},\"line\":{\"color\":\"white\"}},\"header\":{\"fill\":{\"color\":\"#C8D4E3\"},\"line\":{\"color\":\"white\"}},\"type\":\"table\"}],\"barpolar\":[{\"marker\":{\"line\":{\"color\":\"#E5ECF6\",\"width\":0.5},\"pattern\":{\"fillmode\":\"overlay\",\"size\":10,\"solidity\":0.2}},\"type\":\"barpolar\"}],\"pie\":[{\"automargin\":true,\"type\":\"pie\"}]},\"layout\":{\"autotypenumbers\":\"strict\",\"colorway\":[\"#636efa\",\"#EF553B\",\"#00cc96\",\"#ab63fa\",\"#FFA15A\",\"#19d3f3\",\"#FF6692\",\"#B6E880\",\"#FF97FF\",\"#FECB52\"],\"font\":{\"color\":\"#2a3f5f\"},\"hovermode\":\"closest\",\"hoverlabel\":{\"align\":\"left\"},\"paper_bgcolor\":\"white\",\"plot_bgcolor\":\"#E5ECF6\",\"polar\":{\"bgcolor\":\"#E5ECF6\",\"angularaxis\":{\"gridcolor\":\"white\",\"linecolor\":\"white\",\"ticks\":\"\"},\"radialaxis\":{\"gridcolor\":\"white\",\"linecolor\":\"white\",\"ticks\":\"\"}},\"ternary\":{\"bgcolor\":\"#E5ECF6\",\"aaxis\":{\"gridcolor\":\"white\",\"linecolor\":\"white\",\"ticks\":\"\"},\"baxis\":{\"gridcolor\":\"white\",\"linecolor\":\"white\",\"ticks\":\"\"},\"caxis\":{\"gridcolor\":\"white\",\"linecolor\":\"white\",\"ticks\":\"\"}},\"coloraxis\":{\"colorbar\":{\"outlinewidth\":0,\"ticks\":\"\"}},\"colorscale\":{\"sequential\":[[0.0,\"#0d0887\"],[0.1111111111111111,\"#46039f\"],[0.2222222222222222,\"#7201a8\"],[0.3333333333333333,\"#9c179e\"],[0.4444444444444444,\"#bd3786\"],[0.5555555555555556,\"#d8576b\"],[0.6666666666666666,\"#ed7953\"],[0.7777777777777778,\"#fb9f3a\"],[0.8888888888888888,\"#fdca26\"],[1.0,\"#f0f921\"]],\"sequentialminus\":[[0.0,\"#0d0887\"],[0.1111111111111111,\"#46039f\"],[0.2222222222222222,\"#7201a8\"],[0.3333333333333333,\"#9c179e\"],[0.4444444444444444,\"#bd3786\"],[0.5555555555555556,\"#d8576b\"],[0.6666666666666666,\"#ed7953\"],[0.7777777777777778,\"#fb9f3a\"],[0.8888888888888888,\"#fdca26\"],[1.0,\"#f0f921\"]],\"diverging\":[[0,\"#8e0152\"],[0.1,\"#c51b7d\"],[0.2,\"#de77ae\"],[0.3,\"#f1b6da\"],[0.4,\"#fde0ef\"],[0.5,\"#f7f7f7\"],[0.6,\"#e6f5d0\"],[0.7,\"#b8e186\"],[0.8,\"#7fbc41\"],[0.9,\"#4d9221\"],[1,\"#276419\"]]},\"xaxis\":{\"gridcolor\":\"white\",\"linecolor\":\"white\",\"ticks\":\"\",\"title\":{\"standoff\":15},\"zerolinecolor\":\"white\",\"automargin\":true,\"zerolinewidth\":2},\"yaxis\":{\"gridcolor\":\"white\",\"linecolor\":\"white\",\"ticks\":\"\",\"title\":{\"standoff\":15},\"zerolinecolor\":\"white\",\"automargin\":true,\"zerolinewidth\":2},\"scene\":{\"xaxis\":{\"backgroundcolor\":\"#E5ECF6\",\"gridcolor\":\"white\",\"linecolor\":\"white\",\"showbackground\":true,\"ticks\":\"\",\"zerolinecolor\":\"white\",\"gridwidth\":2},\"yaxis\":{\"backgroundcolor\":\"#E5ECF6\",\"gridcolor\":\"white\",\"linecolor\":\"white\",\"showbackground\":true,\"ticks\":\"\",\"zerolinecolor\":\"white\",\"gridwidth\":2},\"zaxis\":{\"backgroundcolor\":\"#E5ECF6\",\"gridcolor\":\"white\",\"linecolor\":\"white\",\"showbackground\":true,\"ticks\":\"\",\"zerolinecolor\":\"white\",\"gridwidth\":2}},\"shapedefaults\":{\"line\":{\"color\":\"#2a3f5f\"}},\"annotationdefaults\":{\"arrowcolor\":\"#2a3f5f\",\"arrowhead\":0,\"arrowwidth\":1},\"geo\":{\"bgcolor\":\"white\",\"landcolor\":\"#E5ECF6\",\"subunitcolor\":\"white\",\"showland\":true,\"showlakes\":true,\"lakecolor\":\"white\"},\"title\":{\"x\":0.05},\"mapbox\":{\"style\":\"light\"}}},\"xaxis\":{\"anchor\":\"y\",\"domain\":[0.0,1.0],\"title\":{\"text\":\"tempo\"}},\"yaxis\":{\"anchor\":\"x\",\"domain\":[0.0,1.0],\"title\":{\"text\":\"densidade\"}},\"legend\":{\"title\":{\"text\":\"variable\"},\"tracegroupgap\":0},\"margin\":{\"t\":60}},                        {\"responsive\": true}                    ).then(function(){\n",
              "                            \n",
              "var gd = document.getElementById('0cbfd68f-17b6-4555-abd1-5169308756bf');\n",
              "var x = new MutationObserver(function (mutations, observer) {{\n",
              "        var display = window.getComputedStyle(gd).display;\n",
              "        if (!display || display === 'none') {{\n",
              "            console.log([gd, 'removed!']);\n",
              "            Plotly.purge(gd);\n",
              "            observer.disconnect();\n",
              "        }}\n",
              "}});\n",
              "\n",
              "// Listen for the removal of the full notebook cells\n",
              "var notebookContainer = gd.closest('#notebook-container');\n",
              "if (notebookContainer) {{\n",
              "    x.observe(notebookContainer, {childList: true});\n",
              "}}\n",
              "\n",
              "// Listen for the clearing of the current output cell\n",
              "var outputEl = gd.closest('.output');\n",
              "if (outputEl) {{\n",
              "    x.observe(outputEl, {childList: true});\n",
              "}}\n",
              "\n",
              "                        })                };                            </script>        </div>\n",
              "</body>\n",
              "</html>"
            ]
          },
          "metadata": {}
        }
      ],
      "source": [
        "param_sit2b = [5, 5, 10, 1, 1, 1, 1, 0.6, 2, 0.4, 0.4, 10]\n",
        "A1, A2, R, t = setMyPlot(param_sit2b, 0, 200, 200, func_const)\n",
        "printParam(param_sit2b)\n",
        "plotMyGraph(A1, A2, R, t )"
      ]
    },
    {
      "cell_type": "markdown",
      "source": [
        "Nesse caso, o ponto estacionário deve ser do tipo $S_1$ com os seguintes valores:"
      ],
      "metadata": {
        "id": "iw3NXoUXwmNP"
      }
    },
    {
      "cell_type": "code",
      "source": [
        "Si_coord(param_sit2b, t, func_const, 1)"
      ],
      "metadata": {
        "colab": {
          "base_uri": "https://localhost:8080/"
        },
        "id": "1D-37YX1wxJd",
        "outputId": "416cf0e2-9c51-48b4-d4a3-e18ed60b0639"
      },
      "execution_count": null,
      "outputs": [
        {
          "output_type": "stream",
          "name": "stdout",
          "text": [
            "Condições de estabilidade:\n",
            "1/(C1+D1-D2) = 0.256410 < 1/C2 = 0.400000\n",
            "j*D1 = -6.000000 < (C1+D1)^2*ft = 36.100000\n",
            "(C1+D1)*(ft*(C1+D1)-j) = 17.100000 > 0\n",
            "\n",
            "A1 = 11.842105, A2 = 0.000000, R = 0.526316\n"
          ]
        }
      ]
    },
    {
      "cell_type": "markdown",
      "source": [
        "O que condiz com o gráfico."
      ],
      "metadata": {
        "id": "Ydtq4nQyxPGh"
      }
    },
    {
      "cell_type": "markdown",
      "metadata": {
        "id": "_uEll_XgfIA4"
      },
      "source": [
        "### **F(t) variável de acordo com a sazonalidade**"
      ]
    },
    {
      "cell_type": "markdown",
      "source": [
        "A função F(t), como anteriormente explicado, modela a entrada de nutrientes no ambiente analisado. Até então constante, nessa seção consideramos a sazonalidade como um fator para sua variação. Uma opção aparentemente viável para a função é $\\sin(t)$.\n",
        "\n",
        "Nesse caso, é possível observar que a expressão:\n",
        "$\\dfrac{dR}{dt} = f(t) - jR - \\dfrac{a_1RA_1}{1 + a_1h_1R} - \\dfrac{a_2RA_2}{1 + a_2h_2R}$ \n",
        "pode assumir valores negativos, para $f(t) < 0$ , ou seja , a variação da densidade de recurso é negativa. Isso ocasiona, eventualmente, a situação biologicamente irrelevante de densidade de recurso negativa, já que por não estar multiplicada por R, é o único fator que não tem decaimento exponencial.\n",
        "\n",
        "A noção de recurso sazonal é útil para modelar situações realistas em que além dos recursos estragarem com o tempo (que é representado pela taxa de esgotamento j) algum fator ambiental dificulta a disponibilidade de recursos no ambiente. Por exemplo, supondo que uma flor que cresce em clima temperado seja o recurso. Na primavera, crescem flores em abundância , ou seja f(t) tem grande magnitude. No verão já não crescem no mesmo ritmo, e no inverno e no outono, não só não crescem, como morrem devido às condições do ambiente, o que é expresso através da constante j, que corresponde à taxa de esgotamento do recurso.\n",
        "\n",
        "Uma opção verdadeiramente viável para f(t) é:\n",
        "\n",
        "<center/> $Y + Csin(\\frac{2π}{T}t) ,  0 < Y < C$</center>"
      ],
      "metadata": {
        "id": "QmVBC4zJC8WW"
      }
    },
    {
      "cell_type": "markdown",
      "metadata": {
        "id": "b9Mqv5ysgmpZ"
      },
      "source": [
        "#### **a) Equílibrio com** :   $3 + 5sin(2t)$"
      ]
    },
    {
      "cell_type": "markdown",
      "metadata": {
        "id": "6sRMc4CoNvjP"
      },
      "source": [
        "Nesse exemplo, os valores dos parâmetros são os mesmos da situação 1.a), com exceção de F(t) que agora tem valor de Sin(t)."
      ]
    },
    {
      "cell_type": "code",
      "execution_count": null,
      "metadata": {
        "colab": {
          "base_uri": "https://localhost:8080/",
          "height": 559
        },
        "id": "3IwqbSQUftp4",
        "outputId": "18bd3d4f-0afe-4cfc-ec49-d0d0b3edc529"
      },
      "outputs": [
        {
          "output_type": "stream",
          "name": "stdout",
          "text": [
            "A10 = 5, A20 = 5, R0 = 10, a1 = 1, a2 = 1, b1 = 1, b2 = 1, h1 = 0.5, h2 = 2, u1 = 1, u2 = 0.4, j = 1"
          ]
        },
        {
          "output_type": "display_data",
          "data": {
            "text/html": [
              "<html>\n",
              "<head><meta charset=\"utf-8\" /></head>\n",
              "<body>\n",
              "    <div>            <script src=\"https://cdnjs.cloudflare.com/ajax/libs/mathjax/2.7.5/MathJax.js?config=TeX-AMS-MML_SVG\"></script><script type=\"text/javascript\">if (window.MathJax && window.MathJax.Hub && window.MathJax.Hub.Config) {window.MathJax.Hub.Config({SVG: {font: \"STIX-Web\"}});}</script>                <script type=\"text/javascript\">window.PlotlyConfig = {MathJaxConfig: 'local'};</script>\n",
              "        <script src=\"https://cdn.plot.ly/plotly-2.18.2.min.js\"></script>                <div id=\"1590abe4-e1e5-461b-a9ea-4a629591ff82\" class=\"plotly-graph-div\" style=\"height:525px; width:100%;\"></div>            <script type=\"text/javascript\">                                    window.PLOTLYENV=window.PLOTLYENV || {};                                    if (document.getElementById(\"1590abe4-e1e5-461b-a9ea-4a629591ff82\")) {                    Plotly.newPlot(                        \"1590abe4-e1e5-461b-a9ea-4a629591ff82\",                        [{\"hovertemplate\":\"variable=a1<br>tempo=%{x}<br>densidade=%{y}<extra></extra>\",\"legendgroup\":\"a1\",\"line\":{\"color\":\"#636efa\",\"dash\":\"solid\",\"width\":3},\"marker\":{\"symbol\":\"circle\"},\"mode\":\"lines\",\"name\":\"a1\",\"showlegend\":true,\"x\":[0.0,0.30060120240480964,0.6012024048096193,0.9018036072144289,1.2024048096192386,1.5030060120240483,1.8036072144288577,2.1042084168336674,2.404809619238477,2.705410821643287,3.0060120240480965,3.3066132264529062,3.6072144288577155,3.907815631262525,4.208416833667335,4.509018036072145,4.809619238476954,5.110220440881764,5.410821643286574,5.711422845691383,6.012024048096193,6.312625250501003,6.6132264529058125,6.913827655310622,7.214428857715431,7.515030060120241,7.81563126252505,8.11623246492986,8.41683366733467,8.71743486973948,9.01803607214429,9.318637274549099,9.619238476953909,9.919839679358718,10.220440881763528,10.521042084168338,10.821643286573147,11.122244488977957,11.422845691382767,11.723446893787576,12.024048096192386,12.324649298597196,12.625250501002006,12.925851703406815,13.226452905811625,13.527054108216435,13.827655310621244,14.128256513026054,14.428857715430862,14.729458917835672,15.030060120240481,15.330661322645291,15.6312625250501,15.93186372745491,16.23246492985972,16.53306613226453,16.83366733466934,17.13426853707415,17.43486973947896,17.73547094188377,18.03607214428858,18.336673346693388,18.637274549098198,18.937875751503007,19.238476953907817,19.539078156312627,19.839679358717436,20.140280561122246,20.440881763527056,20.741482965931866,21.042084168336675,21.342685370741485,21.643286573146295,21.943887775551104,22.244488977955914,22.545090180360724,22.845691382765533,23.146292585170343,23.446893787575153,23.747494989979963,24.048096192384772,24.348697394789582,24.64929859719439,24.9498997995992,25.25050100200401,25.55110220440882,25.85170340681363,26.15230460921844,26.45290581162325,26.75350701402806,27.05410821643287,27.35470941883768,27.65531062124249,27.9559118236473,28.256513026052108,28.557114228456918,28.857715430861724,29.158316633266534,29.458917835671343,29.759519038076153,30.060120240480963,30.360721442885772,30.661322645290582,30.96192384769539,31.2625250501002,31.56312625250501,31.86372745490982,32.164328657314634,32.46492985971944,32.76553106212425,33.06613226452906,33.36673346693387,33.66733466933868,33.96793587174349,34.2685370741483,34.56913827655311,34.86973947895792,35.17034068136273,35.47094188376754,35.77154308617235,36.07214428857716,36.37274549098197,36.673346693386776,36.97394789579159,37.274549098196395,37.57515030060121,37.875751503006015,38.17635270541083,38.476953907815634,38.77755511022044,39.078156312625254,39.37875751503006,39.67935871743487,39.97995991983968,40.28056112224449,40.5811623246493,40.88176352705411,41.18236472945892,41.48296593186373,41.78356713426854,42.08416833667335,42.38476953907816,42.68537074148297,42.985971943887776,43.28657314629259,43.587174348697395,43.88777555110221,44.188376753507015,44.48897795591183,44.789579158316634,45.09018036072145,45.390781563126254,45.69138276553107,45.99198396793587,46.292585170340686,46.59318637274549,46.893787575150306,47.19438877755511,47.494989979959925,47.79559118236473,48.096192384769545,48.39679358717435,48.697394789579164,48.99799599198397,49.29859719438878,49.59919839679359,49.8997995991984,50.20040080160321,50.50100200400802,50.80160320641283,51.10220440881764,51.40280561122245,51.70340681362726,52.00400801603207,52.30460921843688,52.605210420841686,52.9058116232465,53.206412825651306,53.50701402805612,53.807615230460925,54.10821643286574,54.408817635270545,54.70941883767536,55.010020040080164,55.31062124248498,55.61122244488978,55.9118236472946,56.2124248496994,56.513026052104216,56.81362725450902,57.114228456913835,57.41482965931864,57.71543086172345,58.01603206412826,58.31663326653307,58.61723446893788,58.91783567134269,59.2184368737475,59.519038076152306,59.81963927855712,60.120240480961925,60.42084168336674,60.721442885771545,61.02204408817636,61.322645290581164,61.62324649298598,61.92384769539078,62.2244488977956,62.5250501002004,62.825651302605216,63.12625250501002,63.426853707414836,63.72745490981964,64.02805611222445,64.32865731462927,64.62925851703407,64.92985971943888,65.23046092184369,65.5310621242485,65.83166332665331,66.13226452905812,66.43286573146293,66.73346693386775,67.03406813627255,67.33466933867736,67.63527054108216,67.93587174348698,68.23647294589179,68.5370741482966,68.8376753507014,69.13827655310622,69.43887775551103,69.73947895791584,70.04008016032064,70.34068136272546,70.64128256513027,70.94188376753507,71.24248496993988,71.5430861723447,71.8436873747495,72.14428857715431,72.44488977955912,72.74549098196394,73.04609218436875,73.34669338677355,73.64729458917836,73.94789579158318,74.24849699398798,74.54909819639279,74.8496993987976,75.15030060120242,75.45090180360722,75.75150300601203,76.05210420841684,76.35270541082166,76.65330661322646,76.95390781563127,77.25450901803607,77.55511022044088,77.8557114228457,78.15631262525051,78.45691382765531,78.75751503006012,79.05811623246494,79.35871743486975,79.65931863727455,79.95991983967936,80.26052104208418,80.56112224448898,80.86172344689379,81.1623246492986,81.46292585170342,81.76352705410822,82.06412825651303,82.36472945891784,82.66533066132266,82.96593186372746,83.26653306613227,83.56713426853707,83.8677354709419,84.1683366733467,84.46893787575151,84.76953907815631,85.07014028056113,85.37074148296594,85.67134268537075,85.97194388777555,86.27254509018037,86.57314629258518,86.87374749498998,87.17434869739479,87.47494989979961,87.77555110220442,88.07615230460922,88.37675350701403,88.67735470941885,88.97795591182366,89.27855711422846,89.57915831663327,89.87975951903809,90.1803607214429,90.4809619238477,90.78156312625251,91.08216432865733,91.38276553106213,91.68336673346694,91.98396793587175,92.28456913827657,92.58517034068137,92.88577154308618,93.18637274549098,93.4869739478958,93.78757515030061,94.08817635270542,94.38877755511022,94.68937875751504,94.98997995991985,95.29058116232466,95.59118236472946,95.89178356713428,96.19238476953909,96.4929859719439,96.7935871743487,97.09418837675351,97.39478957915833,97.69539078156313,97.99599198396794,98.29659318637275,98.59719438877757,98.89779559118237,99.19839679358718,99.49899799599199,99.7995991983968,100.10020040080161,100.40080160320642,100.70140280561122,101.00200400801604,101.30260521042085,101.60320641282566,101.90380761523046,102.20440881763528,102.50501002004009,102.8056112224449,103.1062124248497,103.40681362725452,103.70741482965933,104.00801603206413,104.30861723446894,104.60921843687376,104.90981963927857,105.21042084168337,105.51102204408818,105.811623246493,106.1122244488978,106.41282565130261,106.71342685370742,107.01402805611224,107.31462925851704,107.61523046092185,107.91583166332666,108.21643286573148,108.51703406813628,108.81763527054109,109.1182364729459,109.41883767535072,109.71943887775552,110.02004008016033,110.32064128256513,110.62124248496995,110.92184368737476,111.22244488977957,111.52304609218437,111.8236472945892,112.124248496994,112.4248496993988,112.72545090180361,113.02605210420843,113.32665330661324,113.62725450901804,113.92785571142285,114.22845691382767,114.52905811623248,114.82965931863728,115.13026052104209,115.4308617234469,115.73146292585172,116.03206412825652,116.33266533066133,116.63326653306613,116.93386773547095,117.23446893787576,117.53507014028057,117.83567134268537,118.1362725450902,118.436873747495,118.7374749498998,119.03807615230461,119.33867735470943,119.63927855711424,119.93987975951904,120.24048096192385,120.54108216432867,120.84168336673348,121.14228456913828,121.44288577154309,121.74348697394791,122.04408817635272,122.34468937875752,122.64529058116233,122.94589178356715,123.24649298597195,123.54709418837676,123.84769539078157,124.14829659318639,124.4488977955912,124.749498997996,125.0501002004008,125.35070140280563,125.65130260521043,125.95190380761524,126.25250501002004,126.55310621242486,126.85370741482967,127.15430861723448,127.45490981963928,127.7555110220441,128.0561122244489,128.35671342685373,128.65731462925854,128.95791583166334,129.25851703406815,129.55911823647295,129.85971943887776,130.16032064128257,130.46092184368737,130.7615230460922,131.062124248497,131.36272545090182,131.66332665330663,131.96392785571143,132.26452905811624,132.56513026052104,132.86573146292585,133.16633266533069,133.4669338677355,133.7675350701403,134.0681362725451,134.3687374749499,134.66933867735472,134.96993987975952,135.27054108216433,135.57114228456913,135.87174348697397,136.17234468937878,136.47294589178358,136.7735470941884,137.0741482965932,137.374749498998,137.6753507014028,137.9759519038076,138.27655310621245,138.57715430861725,138.87775551102206,139.17835671342687,139.47895791583167,139.77955911823648,140.08016032064128,140.3807615230461,140.68136272545092,140.98196392785573,141.28256513026054,141.58316633266534,141.88376753507015,142.18436873747495,142.48496993987976,142.78557114228457,143.0861723446894,143.3867735470942,143.687374749499,143.98797595190382,144.28857715430863,144.58917835671343,144.88977955911824,145.19038076152304,145.49098196392788,145.79158316633269,146.0921843687375,146.3927855711423,146.6933867735471,146.9939879759519,147.29458917835672,147.59519038076152,147.89579158316636,148.19639278557116,148.49699398797597,148.79759519038078,149.09819639278558,149.3987975951904,149.6993987975952,150.0],\"xaxis\":\"x\",\"y\":[5.0,5.971403144571266,6.719386866535371,7.008568121111018,6.803549885738896,6.248669948366847,5.464423400403952,4.558181353323388,3.6763673892095157,2.954470610120411,2.4569308231296287,2.177348951266142,2.0698226552607517,2.0806750080197944,2.16258285361185,2.270759162072643,2.3526464475906668,2.343649581135696,2.1917542651247834,1.9237628977088552,1.6539626296037646,1.4729378106495143,1.3980174638172804,1.4095978249610444,1.4819962019155002,1.5906752753161681,1.7077602682881057,1.7952391673511796,1.8048923188953354,1.703900248238875,1.5267502179726662,1.364124027911999,1.275143182364807,1.2653125074378064,1.3180289119683226,1.4134953467034257,1.5301503714320186,1.6393899716907185,1.7010950041191135,1.6721922688115554,1.5459011569039047,1.3862185513971226,1.2723759066688947,1.2340314846742608,1.2635826076099694,1.3433526014112331,1.4540534820738449,1.571897997186219,1.6630281075049138,1.683732984999751,1.6037487708996034,1.4534765967121652,1.3153144006736275,1.244321803307604,1.246482948342778,1.3069901332334881,1.407426599327129,1.526789806700699,1.6363469823032792,1.6957390298665103,1.6632318277105027,1.5365835887291726,1.3829048855940225,1.2784062627951187,1.2490956590913647,1.286242048891537,1.372157851999873,1.4873251879781582,1.607010617935034,1.6957657541617897,1.7089816682509893,1.6196938877935356,1.465741403603337,1.3314469357648262,1.267602873814388,1.2771147650958319,1.3442546701627704,1.4501727793505033,1.5729400123343484,1.682100412002455,1.7353649701404685,1.691727637690103,1.5558157346415544,1.4012571151520594,1.3020683020513935,1.2798385396092153,1.3238932722183658,1.4159193073918293,1.5356577396906792,1.6569016172498143,1.7420580451257772,1.7454067411690402,1.6441291514618799,1.4846768885704158,1.3532268163622851,1.2959517215860688,1.3125504265199734,1.3862458659922376,1.4975812010025809,1.623487588496447,1.7315517779953187,1.777478262179345,1.7215266893439,1.576083998565396,1.4209576989954302,1.3272626524441966,1.3121529403300303,1.363111744065746,1.4611836555548678,1.5852705700811693,1.7075535337850172,1.7882176433389638,1.7807440558641148,1.66734017352153,1.5031588739485637,1.3752182877795671,1.3247920705740595,1.3485619053308666,1.4287928781574202,1.5453879216704225,1.6740408072616142,1.7802846571614734,1.81793640903183,1.7492229150457512,1.5949255391400254,1.4401992594278108,1.3525153264112795,1.3447097245547315,1.4026044408087468,1.5066293271714433,1.6347812633667942,1.757528391222969,1.8328245543686739,1.8137788139691136,1.6885012696622799,1.5206480782250376,1.3969883859772223,1.353725907026958,1.3847565759724552,1.471486552798323,1.5931494390144234,1.7241110296336557,1.827776561489641,1.8562585498328927,1.7745243816493808,1.6122397551202052,1.4589162157170106,1.3777395444107563,1.3774035737128616,1.4422480677618839,1.5521081217890238,1.6840063471974587,1.8066015416049155,1.8756393014482404,1.8443609123396236,1.70763493038324,1.5372179486609454,1.4185679548190568,1.382746954077204,1.421104870325255,1.5142753829232332,1.6407855180274253,1.773579744413846,1.873874187913259,1.8923175618110433,1.7974468244471116,1.6281474607955446,1.477197361436569,1.4029724333397287,1.4102407573031652,1.482027053659717,1.5975798842351983,1.7328721937513432,1.8546598695291383,1.9165365193981303,1.8724557519379372,1.7248536265933871,1.5529942279790077,1.4400244311247843,1.4118814142091514,1.4576087273240959,1.557139273380869,1.688247327978011,1.8223601055060803,1.918458931895733,1.9260306867521255,1.8180526716076393,1.642792428642845,1.495139937454718,1.4282582488028635,1.4432355224368196,1.5219341438898095,1.6430125865205276,1.7813128699185907,1.901598779227313,1.9554066592647086,1.898057167692896,1.7402889969060213,1.5681034601608934,1.4614233939078982,1.4411555925244162,1.4942711705799296,1.6000591925348144,1.7354866286404727,1.870365733886876,1.9614164336669981,1.9573324550838265,1.8364264829469166,1.6563211444403536,1.5128361764648377,1.4536379843917728,1.476400636405161,1.5619611407766605,1.6883730041400427,1.8292608284233085,1.9473137327150385,1.992149264753392,1.9211811816338147,1.7540832844365903,1.5826675131153591,1.4828253417624382,1.4705930191654453,1.5310935634427427,1.6430145044526132,1.7824530499633036,1.9175083361103216,2.0026353552645872,1.9861739967008594,1.8526712729465697,1.6688795997708503,1.5303719669607243,1.4791485629172805,1.509746684456469,1.6020981299245447,1.7336257726795952,1.8766457882966747,1.991699113525759,2.0266727163950757,1.9418645870876368,1.7663859070116597,1.596802121483968,1.5042852420120467,1.5002142848367146,1.5680753901249398,1.6859825733384803,1.8290935717525507,1.9636970843891306,2.0420073137657377,2.0125236141685776,1.8669060290304158,1.680610994785618,1.5478266124430544,1.5048231682040436,1.5432821353356725,1.6423333501432176,1.7787332269263747,1.923394750439509,2.0346490571277656,2.0588964260628435,1.9601650451440717,1.7773509858600036,1.6106164982839348,1.5258530979842566,1.5300374633614071,1.6052143869803233,1.728938865663702,1.8753526747237976,2.0088392789286913,2.0794288176405993,2.0363685198582218,1.8792636950141413,1.6916543634583951,1.5652728896402686,1.5306912658181224,1.5770134693835909,1.6826533075850172,1.82365540854514,1.9694321526964051,2.0760584905692534,2.088752240079427,1.9761601782956237,1.7871347817621788,1.624212633538265,1.5475737912280463,1.5600778897238095,1.6425064693827387,1.771856733950982,1.921172091419389,2.0528403868437546,2.114802118415951,2.0577151516582406,1.889888474565039,1.7021430217898676,1.582776999851739,1.55677864739941,1.6109447638695609,1.7230421906750253,1.86834947699376,2.0146793229175484,2.1158227510929395,2.116185357419205,1.989946018906148,1.795893009342698,1.6376848198118374,1.5694872390453345,1.590348088461861,1.6799451118890352,1.8147067104115633,1.9664902010499763,2.095603830131806,2.148036082801101,2.0765895670923435,1.8989331280153257,1.7122037345428414,1.6003989254411044,1.5831079026618167,1.6450782456177622,1.763482344382474,1.91277018419167,2.059055088008169,2.1538391159369543,2.141156205608644,2.0016356160454705,1.8037792834815976,1.6511200131794228,1.5916289585554042,1.620858346812465,1.7175222312346299,1.8574574171134894,2.011242790225846,2.1370319508297215,2.1790480004645416,2.0930375967439963,1.906556056032016,1.7219557166223496,1.618192369998165,1.609698234055444,1.6794137900426251,1.8039536569955625,1.956869133258524,2.102475333558579,2.190007422819543,2.1636414693655057,2.0113571755976034,1.8109429917398538,1.6645975965819113,1.614030347567676,1.651616653546664,1.7552275773974175,1.900074725883486,2.055362578825663,2.1770266624725965,2.2077654519773984,2.1071254735802825,1.912919731417798,1.731510519485351,1.6362057476415355,1.6365663840363358,1.7139497175624372,1.8444341586898494,2.000595429150728,2.1448540819805517,2.2242320516134795,2.1836357953164556,2.0192517186396017,1.8175282702907978,1.67818960613563,1.6367185583776476,1.6826285915108885,1.793048901990758,1.9425220397387182,2.0987792126955713,2.215489095183845,2.2341266684503664,2.1189371340482315,1.9181866888640786,1.7409711821040064,1.654481329562711,1.6637255362995305,1.7486816538455363,1.8848990721244279,2.0438947061495942,2.1861022548546294,2.256421219079566,2.2011512392368853,2.025470136772793,1.8236719215547412,1.691960597011271,1.6597169408585084,1.7138973894991592,1.83097152263473,1.984759590850858,2.141419086932172,2.25232128934138,2.258083040795427,2.1285749961457707,1.9225188576121035,1.7504324469608457,1.6730566604755979,1.691186775759032,1.7836037004554215,1.925321465856403,2.0867096831057426,2.2261293726121014,2.286490320894427,2.216219459405729,2.0301716762358404,1.8295035880321955,1.7059686243713978,1.6830455195301428,1.7454243236603588,1.8689788394413323,2.026745171676162,2.183205832864247,2.287426102321569,2.2795999126980937,2.1361574106071863,1.926074452480755,1.7599807456566208,1.6919643590519045,1.718958362886663,1.8187075931130432,1.965671835296206,2.1289801011496627,2.2648431299263816,2.3143616495519894,2.2288905949455975,2.033520302198393,1.8351443443474953,1.7202650154494152,1.7067209868499795,1.777208529006068,1.9070519702824773,2.068433495756891,2.2240602566731513,2.320709180428801,2.298658130505999,2.1418172002198794,1.9290070155860133,1.7696942749825113,1.711232584201085,1.74704631639892,1.8539831041089292,2.005917903289797,2.1706421593421985,2.3021501543044844,2.339967074271851,2.239234055663419,2.035683152260131,1.840706518103654,1.7348951519725313,1.7307571232503427,1.8092470255169901,1.945169606386814,2.1097762057644296,2.2639003239524476,2.352078791564628,2.315255397622415,2.145699646403704,1.9314637361004852,1.7796434401301586,1.730885604303864,1.7754544755963868,1.8894180982589723,2.046025128414479,2.211629429603281,2.3379565408310023,2.3632486298891906,2.2473371269140157,2.036827370029383,1.8462936420141078,1.749898486778255,1.7551646930909377,1.841534892335619,1.983308267345616,2.150721981010029,2.302641633874692,2.381448022120752,2.3294064484060644,2.147959577520461,1.9335839661287835,1.7898907222128322,1.7509434078731043,1.804184178371746,1.9249979085456355,2.085955610720188,2.2518717893225966,2.3721685175085714,2.3841604382519237,2.2533043981436656,2.0371185659069004,1.8519999797697346,1.7653091852343117,1.7799519344089987,1.874065083957096,2.0214418566203087,2.191216301094641,2.3401975846583825,2.408735271601502,2.34114420468209],\"yaxis\":\"y\",\"type\":\"scattergl\"},{\"hovertemplate\":\"variable=a2<br>tempo=%{x}<br>densidade=%{y}<extra></extra>\",\"legendgroup\":\"a2\",\"line\":{\"color\":\"#EF553B\",\"dash\":\"solid\",\"width\":3},\"marker\":{\"symbol\":\"circle\"},\"mode\":\"lines\",\"name\":\"a2\",\"showlegend\":true,\"x\":[0.0,0.30060120240480964,0.6012024048096193,0.9018036072144289,1.2024048096192386,1.5030060120240483,1.8036072144288577,2.1042084168336674,2.404809619238477,2.705410821643287,3.0060120240480965,3.3066132264529062,3.6072144288577155,3.907815631262525,4.208416833667335,4.509018036072145,4.809619238476954,5.110220440881764,5.410821643286574,5.711422845691383,6.012024048096193,6.312625250501003,6.6132264529058125,6.913827655310622,7.214428857715431,7.515030060120241,7.81563126252505,8.11623246492986,8.41683366733467,8.71743486973948,9.01803607214429,9.318637274549099,9.619238476953909,9.919839679358718,10.220440881763528,10.521042084168338,10.821643286573147,11.122244488977957,11.422845691382767,11.723446893787576,12.024048096192386,12.324649298597196,12.625250501002006,12.925851703406815,13.226452905811625,13.527054108216435,13.827655310621244,14.128256513026054,14.428857715430862,14.729458917835672,15.030060120240481,15.330661322645291,15.6312625250501,15.93186372745491,16.23246492985972,16.53306613226453,16.83366733466934,17.13426853707415,17.43486973947896,17.73547094188377,18.03607214428858,18.336673346693388,18.637274549098198,18.937875751503007,19.238476953907817,19.539078156312627,19.839679358717436,20.140280561122246,20.440881763527056,20.741482965931866,21.042084168336675,21.342685370741485,21.643286573146295,21.943887775551104,22.244488977955914,22.545090180360724,22.845691382765533,23.146292585170343,23.446893787575153,23.747494989979963,24.048096192384772,24.348697394789582,24.64929859719439,24.9498997995992,25.25050100200401,25.55110220440882,25.85170340681363,26.15230460921844,26.45290581162325,26.75350701402806,27.05410821643287,27.35470941883768,27.65531062124249,27.9559118236473,28.256513026052108,28.557114228456918,28.857715430861724,29.158316633266534,29.458917835671343,29.759519038076153,30.060120240480963,30.360721442885772,30.661322645290582,30.96192384769539,31.2625250501002,31.56312625250501,31.86372745490982,32.164328657314634,32.46492985971944,32.76553106212425,33.06613226452906,33.36673346693387,33.66733466933868,33.96793587174349,34.2685370741483,34.56913827655311,34.86973947895792,35.17034068136273,35.47094188376754,35.77154308617235,36.07214428857716,36.37274549098197,36.673346693386776,36.97394789579159,37.274549098196395,37.57515030060121,37.875751503006015,38.17635270541083,38.476953907815634,38.77755511022044,39.078156312625254,39.37875751503006,39.67935871743487,39.97995991983968,40.28056112224449,40.5811623246493,40.88176352705411,41.18236472945892,41.48296593186373,41.78356713426854,42.08416833667335,42.38476953907816,42.68537074148297,42.985971943887776,43.28657314629259,43.587174348697395,43.88777555110221,44.188376753507015,44.48897795591183,44.789579158316634,45.09018036072145,45.390781563126254,45.69138276553107,45.99198396793587,46.292585170340686,46.59318637274549,46.893787575150306,47.19438877755511,47.494989979959925,47.79559118236473,48.096192384769545,48.39679358717435,48.697394789579164,48.99799599198397,49.29859719438878,49.59919839679359,49.8997995991984,50.20040080160321,50.50100200400802,50.80160320641283,51.10220440881764,51.40280561122245,51.70340681362726,52.00400801603207,52.30460921843688,52.605210420841686,52.9058116232465,53.206412825651306,53.50701402805612,53.807615230460925,54.10821643286574,54.408817635270545,54.70941883767536,55.010020040080164,55.31062124248498,55.61122244488978,55.9118236472946,56.2124248496994,56.513026052104216,56.81362725450902,57.114228456913835,57.41482965931864,57.71543086172345,58.01603206412826,58.31663326653307,58.61723446893788,58.91783567134269,59.2184368737475,59.519038076152306,59.81963927855712,60.120240480961925,60.42084168336674,60.721442885771545,61.02204408817636,61.322645290581164,61.62324649298598,61.92384769539078,62.2244488977956,62.5250501002004,62.825651302605216,63.12625250501002,63.426853707414836,63.72745490981964,64.02805611222445,64.32865731462927,64.62925851703407,64.92985971943888,65.23046092184369,65.5310621242485,65.83166332665331,66.13226452905812,66.43286573146293,66.73346693386775,67.03406813627255,67.33466933867736,67.63527054108216,67.93587174348698,68.23647294589179,68.5370741482966,68.8376753507014,69.13827655310622,69.43887775551103,69.73947895791584,70.04008016032064,70.34068136272546,70.64128256513027,70.94188376753507,71.24248496993988,71.5430861723447,71.8436873747495,72.14428857715431,72.44488977955912,72.74549098196394,73.04609218436875,73.34669338677355,73.64729458917836,73.94789579158318,74.24849699398798,74.54909819639279,74.8496993987976,75.15030060120242,75.45090180360722,75.75150300601203,76.05210420841684,76.35270541082166,76.65330661322646,76.95390781563127,77.25450901803607,77.55511022044088,77.8557114228457,78.15631262525051,78.45691382765531,78.75751503006012,79.05811623246494,79.35871743486975,79.65931863727455,79.95991983967936,80.26052104208418,80.56112224448898,80.86172344689379,81.1623246492986,81.46292585170342,81.76352705410822,82.06412825651303,82.36472945891784,82.66533066132266,82.96593186372746,83.26653306613227,83.56713426853707,83.8677354709419,84.1683366733467,84.46893787575151,84.76953907815631,85.07014028056113,85.37074148296594,85.67134268537075,85.97194388777555,86.27254509018037,86.57314629258518,86.87374749498998,87.17434869739479,87.47494989979961,87.77555110220442,88.07615230460922,88.37675350701403,88.67735470941885,88.97795591182366,89.27855711422846,89.57915831663327,89.87975951903809,90.1803607214429,90.4809619238477,90.78156312625251,91.08216432865733,91.38276553106213,91.68336673346694,91.98396793587175,92.28456913827657,92.58517034068137,92.88577154308618,93.18637274549098,93.4869739478958,93.78757515030061,94.08817635270542,94.38877755511022,94.68937875751504,94.98997995991985,95.29058116232466,95.59118236472946,95.89178356713428,96.19238476953909,96.4929859719439,96.7935871743487,97.09418837675351,97.39478957915833,97.69539078156313,97.99599198396794,98.29659318637275,98.59719438877757,98.89779559118237,99.19839679358718,99.49899799599199,99.7995991983968,100.10020040080161,100.40080160320642,100.70140280561122,101.00200400801604,101.30260521042085,101.60320641282566,101.90380761523046,102.20440881763528,102.50501002004009,102.8056112224449,103.1062124248497,103.40681362725452,103.70741482965933,104.00801603206413,104.30861723446894,104.60921843687376,104.90981963927857,105.21042084168337,105.51102204408818,105.811623246493,106.1122244488978,106.41282565130261,106.71342685370742,107.01402805611224,107.31462925851704,107.61523046092185,107.91583166332666,108.21643286573148,108.51703406813628,108.81763527054109,109.1182364729459,109.41883767535072,109.71943887775552,110.02004008016033,110.32064128256513,110.62124248496995,110.92184368737476,111.22244488977957,111.52304609218437,111.8236472945892,112.124248496994,112.4248496993988,112.72545090180361,113.02605210420843,113.32665330661324,113.62725450901804,113.92785571142285,114.22845691382767,114.52905811623248,114.82965931863728,115.13026052104209,115.4308617234469,115.73146292585172,116.03206412825652,116.33266533066133,116.63326653306613,116.93386773547095,117.23446893787576,117.53507014028057,117.83567134268537,118.1362725450902,118.436873747495,118.7374749498998,119.03807615230461,119.33867735470943,119.63927855711424,119.93987975951904,120.24048096192385,120.54108216432867,120.84168336673348,121.14228456913828,121.44288577154309,121.74348697394791,122.04408817635272,122.34468937875752,122.64529058116233,122.94589178356715,123.24649298597195,123.54709418837676,123.84769539078157,124.14829659318639,124.4488977955912,124.749498997996,125.0501002004008,125.35070140280563,125.65130260521043,125.95190380761524,126.25250501002004,126.55310621242486,126.85370741482967,127.15430861723448,127.45490981963928,127.7555110220441,128.0561122244489,128.35671342685373,128.65731462925854,128.95791583166334,129.25851703406815,129.55911823647295,129.85971943887776,130.16032064128257,130.46092184368737,130.7615230460922,131.062124248497,131.36272545090182,131.66332665330663,131.96392785571143,132.26452905811624,132.56513026052104,132.86573146292585,133.16633266533069,133.4669338677355,133.7675350701403,134.0681362725451,134.3687374749499,134.66933867735472,134.96993987975952,135.27054108216433,135.57114228456913,135.87174348697397,136.17234468937878,136.47294589178358,136.7735470941884,137.0741482965932,137.374749498998,137.6753507014028,137.9759519038076,138.27655310621245,138.57715430861725,138.87775551102206,139.17835671342687,139.47895791583167,139.77955911823648,140.08016032064128,140.3807615230461,140.68136272545092,140.98196392785573,141.28256513026054,141.58316633266534,141.88376753507015,142.18436873747495,142.48496993987976,142.78557114228457,143.0861723446894,143.3867735470942,143.687374749499,143.98797595190382,144.28857715430863,144.58917835671343,144.88977955911824,145.19038076152304,145.49098196392788,145.79158316633269,146.0921843687375,146.3927855711423,146.6933867735471,146.9939879759519,147.29458917835672,147.59519038076152,147.89579158316636,148.19639278557116,148.49699398797597,148.79759519038078,149.09819639278558,149.3987975951904,149.6993987975952,150.0],\"xaxis\":\"x\",\"y\":[5.0,5.105846497103427,5.184115782342616,5.215781565099881,5.188851559415353,5.103877056294663,4.955689753680027,4.734467139793552,4.45730235244512,4.18896351641933,3.9967264441776242,3.894991185691355,3.8594226459552954,3.8624150840581235,3.8845925526633396,3.9123347022826858,3.933043046177162,3.9303129365661715,3.881172989378086,3.7726065113871265,3.644193179766325,3.5566550644378485,3.523064922293132,3.527395456435226,3.5531179237132173,3.588538334071726,3.6244260106658457,3.650786479654233,3.6535858533192753,3.6151532670221687,3.53453021645924,3.4531698151116665,3.409883385801686,3.405287095048204,3.425801708832952,3.459579192246143,3.4976840373066818,3.5317431596905497,3.551094606456852,3.540611227914082,3.4877953607463428,3.410876791481753,3.3545917408131856,3.3367657176160983,3.3486777845495754,3.3779844234151795,3.4151401806602006,3.4521821540047086,3.480204607389987,3.4866713693066336,3.4562291450812905,3.389021481261503,3.3219182669917284,3.2885140269924746,3.2891693528443,3.311947684744332,3.3462888432258513,3.383991587588159,3.4170829607391124,3.4351759821443064,3.4237188361777156,3.372184998852856,3.3009388262530917,3.2517554146990184,3.2387880832501694,3.253017817239194,3.2829219151586644,3.319589970377253,3.35537858082031,3.3814635704920755,3.385323274046637,3.3524482971963705,3.286087621303617,3.2240037278491047,3.1956346272413607,3.199177385949347,3.222982514002392,3.2571174015651922,3.293759879372732,3.325054462208664,3.3405366650137607,3.325806280526928,3.272391901179912,3.2038570991767883,3.1597176918100462,3.150405274141769,3.1662959666778963,3.196424396835504,3.2323517575736935,3.2666437612965145,3.290452048348442,3.2911608717085903,3.2551537180591876,3.189047831167191,3.131333891111163,3.1073396638615907,3.1133159973608855,3.1378841829650583,3.171658877400747,3.207134104273938,3.236523416511669,3.249247045677113,3.2311045562525615,3.1759109969688706,3.110185261478889,3.0707841490657843,3.064750397092149,3.0820500658344385,3.112259204977158,3.14736371919489,3.1801021356334997,3.201576673822943,3.1990962898335367,3.1601266396238117,3.094688995294692,3.041364385955751,3.0214349275035746,3.0295712305143856,3.054736988419306,3.0880608046278804,3.122317452267268,3.1497643336617713,3.159702769184842,3.1382379656608452,3.0816873045546878,3.019082573224308,2.9842329179854805,2.981182824688953,2.9996895540494384,3.0298661772789868,3.0640872755025694,3.09523622496541,3.114350445741522,3.1087037288438455,3.0670532482731865,3.0027622020351243,2.953848203330567,2.937699908493091,2.9477530250957567,2.9733715139091603,3.0061667817385227,3.039162830645974,3.0646395028440985,3.0717834852453807,3.0471309585387303,2.9896841976731756,2.930471376841273,2.89997068169696,2.8996274732119747,2.919157781409941,2.9492005647349813,2.9824849266073237,3.0120134070044755,3.0287465878111215,3.0199751356010025,2.9759623422568335,2.913267076726551,2.8687353836029983,2.856087727062957,2.8678318478288443,2.89377126179755,2.9259682246309917,2.9576662557537365,2.9811481295631093,2.9854962033983585,2.9578185621196713,2.8999419067025305,2.8443290067549483,2.817954836283044,2.820055887762134,2.8404411441843864,2.870258257886603,2.9025580127288912,2.930438121825574,2.9447733056655188,2.9329349800657187,2.886905417414635,2.8262114970752785,2.7859866130625814,2.7765635992938273,2.7897890881742593,2.8159293350798076,2.8474650982676923,2.877831468644367,2.8992965257698478,2.9008551863143097,2.8703421369484423,2.8124960529295904,2.7606285521915646,2.73814409451979,2.7424413782577695,2.7635268453557074,2.7930351032258076,2.824307260287529,2.850513754001639,2.862437721072696,2.8476077837394147,2.799928948857267,2.7415922184359953,2.7055585957872132,2.699091633972152,2.7136043252381725,2.7398360678091893,2.770653999677687,2.799658449578878,2.8190870788156364,2.8178715894424387,2.7847398287310066,2.727370345309633,2.6793347644635093,2.660494590372805,2.666754969999604,2.688398952199755,2.7175231712567887,2.747729161188506,2.7722392583518487,2.78174305231626,2.7640156786641836,2.7150717620839893,2.6593945300997524,2.6274040818078097,2.623634054013227,2.639254646594471,2.665478554611145,2.6955277558224533,2.723143081406856,2.740518188482172,2.736553835992591,2.701046409366639,2.644576960943475,2.6004056965557387,2.5849604952794025,2.5929658923952945,2.6150389194685566,2.6437112373879477,2.6728164953453466,2.695609644379993,2.702688953895368,2.682178609169109,2.6323644459556217,2.579593715859211,2.5514726703362762,2.550151685896535,2.56671508219859,2.5928410494905227,2.6220758336004932,2.6482775732675257,2.6635845436909973,2.6569078758803903,2.6192926914255152,2.5641167370027693,2.5237938922092407,2.511494784350547,2.521041946451748,2.543425885880996,2.5715851528702967,2.5995587137297322,2.620616441815128,2.6252722454289934,2.602114769044065,2.5518289709355892,2.5021563533964133,2.4777118192855956,2.4786043825900017,2.495958819630219,2.521905249595195,2.5502846579078233,2.57505081462767,2.5882777216403663,2.5789378758675907,2.539505308224903,2.4859800957911635,2.4494475212681084,2.4400493069702756,2.4509496173455516,2.473536897009258,2.501128077405718,2.527942221875486,2.5472480707160225,2.5494875333774556,2.523840853452747,2.473478744985774,2.4270418967346985,2.406067558856283,2.4089512602204426,2.426957736275388,2.452650862217559,2.480138233532396,2.5034490389190025,2.5145868967615184,2.502646983881307,2.461706596717967,2.4101483069122667,2.3773120916055,2.3705758368589307,2.382654687137928,2.405347538068438,2.432321188906718,2.4579511224977058,2.475490560373324,2.4753277756024046,2.447372196275992,2.397318820241979,2.3542041399047977,2.336485409349615,2.341151219953596,2.359682460002248,2.3850556744642524,2.411618240064633,2.4334559565605836,2.442499032829539,2.4280373416129883,2.3859137354244133,2.3365939129139752,2.3073306602304227,2.303025770172782,2.3161220714098754,2.3388317754360157,2.365143580143369,2.389567127265317,2.40532754007158,2.4027844097002626,2.3727222339394176,2.3233452312484264,2.2835919102383295,2.268910219426735,2.2751626423414875,2.2941025040308087,2.3190958055461532,2.344704299258668,2.3650530179499407,2.371999185145442,2.355110485727509,2.3121384348430922,2.2652820492124195,2.2394449393752476,2.2373506400470897,2.251316082923299,2.2739622551417336,2.2995725180414968,2.322769851574484,2.3367405769190306,2.3318479799142806,2.299902469620772,2.2515459820410277,2.2151504847501373,2.203287131581854,2.2109439805435156,2.230186545101274,2.254745925100794,2.2793742465540143,2.2982197992762767,2.303071154226646,2.2838676276878886,2.2403868578683714,2.196171630767154,2.173596155345152,2.1735025491890814,2.1882009248429775,2.210710817794245,2.2355840518607324,2.257537459801104,2.2697100023367534,2.2625088699197287,2.2289226512321316,2.1819016503858584,2.148822905271507,2.1395617809921004,2.1484539920288572,2.167902961010434,2.1919799329811074,2.2156048182273866,2.2329346043306892,2.235697917580833,2.214309895180624,2.1706589206739837,2.1292163884912156,2.109725209657971,2.111433870805389,2.126740403272042,2.149048368751497,2.1731529036218276,2.193846557814564,2.204214600227354,2.1947570067324347,2.159789502746417,2.114385429661544,2.0845501794936294,2.077680398675414,2.0876514799963437,2.1072193327676527,2.13077037478288,2.153371108777595,2.169174122906471,2.1698617169672816,2.146438038410674,2.1029485697855135,2.0643658544295374,2.047773479510769,2.0510979284633635,2.0668985173692205,2.0889452897232825,2.1122528666488654,2.1316726458353448,2.1402324749005217,2.1285827494839644,2.0925070386850133,2.0489644050532467,2.0222725697471238,2.0175901658528734,2.028495713358739,2.0481030869743155,2.0710892673585675,2.092647416799483,2.1069141524728017,2.1055444706252886,2.080252393284724,2.0372433333695117,2.001566226280073,1.9876828789345273,1.99244851467661,2.0086390205734403,2.030371319976698,2.0528568168168846,2.0709901508607196,2.07774081782798,2.063976599840092,2.0270755961163593,1.9855998877937524,1.9619298353109997,1.9592392729771138,1.9709464053984953,1.9905214457947464,2.0129079451211402,2.03340711152831,2.046129651999103,2.0427282607623685,2.015752818256965,1.9735248911210936,1.9407614974764793,1.9293963948375332,1.9354405136257136,1.9519260212625136,1.9732958780197354,1.9949369328155404,2.0117726787097467,2.016716546365663,2.000929652502426,1.9634918311245146,1.9242485962653426,1.9034620343346165,1.902577097136709,1.9149636960194771,1.9344414166584492,1.9561971744887428,1.9756227886210234,1.9867948550272005,1.9813952719690675,1.9529380955609483,1.911769017731355,1.8818939245321182,1.8728580841178104,1.8800295053523919,1.8967237084007618,1.9176881336502207,1.9384649068806425,1.9539932320945788,1.9571363142008131,1.939433481082132,1.9017480484209275,1.8648632749316303,1.8468096540093206,1.8475541114357172,1.860508384257155,1.8798301484848476,1.900927474835658,1.9192665925956691,1.9288836663623203,1.9215283504720548,1.891805867056088,1.8519461617037227,1.8249049757286138,1.818013285135462,1.8261720822614562,1.8429965805288555,1.8635170338923115,1.883411915674735,1.8976242872442821,1.8989769334572832,1.8794802187701642,1.8418323403237649,1.8073936504228818,1.7919141854459681,1.794122166855299,1.807541814052846,1.8266547779672262,1.8470690627725599,1.8643102093581772,1.8723697668703325,1.8631110126371722],\"yaxis\":\"y\",\"type\":\"scattergl\"},{\"hovertemplate\":\"variable=r<br>tempo=%{x}<br>densidade=%{y}<extra></extra>\",\"legendgroup\":\"r\",\"line\":{\"color\":\"#00cc96\",\"dash\":\"solid\",\"width\":3},\"marker\":{\"symbol\":\"circle\"},\"mode\":\"lines\",\"name\":\"r\",\"showlegend\":true,\"x\":[0.0,0.30060120240480964,0.6012024048096193,0.9018036072144289,1.2024048096192386,1.5030060120240483,1.8036072144288577,2.1042084168336674,2.404809619238477,2.705410821643287,3.0060120240480965,3.3066132264529062,3.6072144288577155,3.907815631262525,4.208416833667335,4.509018036072145,4.809619238476954,5.110220440881764,5.410821643286574,5.711422845691383,6.012024048096193,6.312625250501003,6.6132264529058125,6.913827655310622,7.214428857715431,7.515030060120241,7.81563126252505,8.11623246492986,8.41683366733467,8.71743486973948,9.01803607214429,9.318637274549099,9.619238476953909,9.919839679358718,10.220440881763528,10.521042084168338,10.821643286573147,11.122244488977957,11.422845691382767,11.723446893787576,12.024048096192386,12.324649298597196,12.625250501002006,12.925851703406815,13.226452905811625,13.527054108216435,13.827655310621244,14.128256513026054,14.428857715430862,14.729458917835672,15.030060120240481,15.330661322645291,15.6312625250501,15.93186372745491,16.23246492985972,16.53306613226453,16.83366733466934,17.13426853707415,17.43486973947896,17.73547094188377,18.03607214428858,18.336673346693388,18.637274549098198,18.937875751503007,19.238476953907817,19.539078156312627,19.839679358717436,20.140280561122246,20.440881763527056,20.741482965931866,21.042084168336675,21.342685370741485,21.643286573146295,21.943887775551104,22.244488977955914,22.545090180360724,22.845691382765533,23.146292585170343,23.446893787575153,23.747494989979963,24.048096192384772,24.348697394789582,24.64929859719439,24.9498997995992,25.25050100200401,25.55110220440882,25.85170340681363,26.15230460921844,26.45290581162325,26.75350701402806,27.05410821643287,27.35470941883768,27.65531062124249,27.9559118236473,28.256513026052108,28.557114228456918,28.857715430861724,29.158316633266534,29.458917835671343,29.759519038076153,30.060120240480963,30.360721442885772,30.661322645290582,30.96192384769539,31.2625250501002,31.56312625250501,31.86372745490982,32.164328657314634,32.46492985971944,32.76553106212425,33.06613226452906,33.36673346693387,33.66733466933868,33.96793587174349,34.2685370741483,34.56913827655311,34.86973947895792,35.17034068136273,35.47094188376754,35.77154308617235,36.07214428857716,36.37274549098197,36.673346693386776,36.97394789579159,37.274549098196395,37.57515030060121,37.875751503006015,38.17635270541083,38.476953907815634,38.77755511022044,39.078156312625254,39.37875751503006,39.67935871743487,39.97995991983968,40.28056112224449,40.5811623246493,40.88176352705411,41.18236472945892,41.48296593186373,41.78356713426854,42.08416833667335,42.38476953907816,42.68537074148297,42.985971943887776,43.28657314629259,43.587174348697395,43.88777555110221,44.188376753507015,44.48897795591183,44.789579158316634,45.09018036072145,45.390781563126254,45.69138276553107,45.99198396793587,46.292585170340686,46.59318637274549,46.893787575150306,47.19438877755511,47.494989979959925,47.79559118236473,48.096192384769545,48.39679358717435,48.697394789579164,48.99799599198397,49.29859719438878,49.59919839679359,49.8997995991984,50.20040080160321,50.50100200400802,50.80160320641283,51.10220440881764,51.40280561122245,51.70340681362726,52.00400801603207,52.30460921843688,52.605210420841686,52.9058116232465,53.206412825651306,53.50701402805612,53.807615230460925,54.10821643286574,54.408817635270545,54.70941883767536,55.010020040080164,55.31062124248498,55.61122244488978,55.9118236472946,56.2124248496994,56.513026052104216,56.81362725450902,57.114228456913835,57.41482965931864,57.71543086172345,58.01603206412826,58.31663326653307,58.61723446893788,58.91783567134269,59.2184368737475,59.519038076152306,59.81963927855712,60.120240480961925,60.42084168336674,60.721442885771545,61.02204408817636,61.322645290581164,61.62324649298598,61.92384769539078,62.2244488977956,62.5250501002004,62.825651302605216,63.12625250501002,63.426853707414836,63.72745490981964,64.02805611222445,64.32865731462927,64.62925851703407,64.92985971943888,65.23046092184369,65.5310621242485,65.83166332665331,66.13226452905812,66.43286573146293,66.73346693386775,67.03406813627255,67.33466933867736,67.63527054108216,67.93587174348698,68.23647294589179,68.5370741482966,68.8376753507014,69.13827655310622,69.43887775551103,69.73947895791584,70.04008016032064,70.34068136272546,70.64128256513027,70.94188376753507,71.24248496993988,71.5430861723447,71.8436873747495,72.14428857715431,72.44488977955912,72.74549098196394,73.04609218436875,73.34669338677355,73.64729458917836,73.94789579158318,74.24849699398798,74.54909819639279,74.8496993987976,75.15030060120242,75.45090180360722,75.75150300601203,76.05210420841684,76.35270541082166,76.65330661322646,76.95390781563127,77.25450901803607,77.55511022044088,77.8557114228457,78.15631262525051,78.45691382765531,78.75751503006012,79.05811623246494,79.35871743486975,79.65931863727455,79.95991983967936,80.26052104208418,80.56112224448898,80.86172344689379,81.1623246492986,81.46292585170342,81.76352705410822,82.06412825651303,82.36472945891784,82.66533066132266,82.96593186372746,83.26653306613227,83.56713426853707,83.8677354709419,84.1683366733467,84.46893787575151,84.76953907815631,85.07014028056113,85.37074148296594,85.67134268537075,85.97194388777555,86.27254509018037,86.57314629258518,86.87374749498998,87.17434869739479,87.47494989979961,87.77555110220442,88.07615230460922,88.37675350701403,88.67735470941885,88.97795591182366,89.27855711422846,89.57915831663327,89.87975951903809,90.1803607214429,90.4809619238477,90.78156312625251,91.08216432865733,91.38276553106213,91.68336673346694,91.98396793587175,92.28456913827657,92.58517034068137,92.88577154308618,93.18637274549098,93.4869739478958,93.78757515030061,94.08817635270542,94.38877755511022,94.68937875751504,94.98997995991985,95.29058116232466,95.59118236472946,95.89178356713428,96.19238476953909,96.4929859719439,96.7935871743487,97.09418837675351,97.39478957915833,97.69539078156313,97.99599198396794,98.29659318637275,98.59719438877757,98.89779559118237,99.19839679358718,99.49899799599199,99.7995991983968,100.10020040080161,100.40080160320642,100.70140280561122,101.00200400801604,101.30260521042085,101.60320641282566,101.90380761523046,102.20440881763528,102.50501002004009,102.8056112224449,103.1062124248497,103.40681362725452,103.70741482965933,104.00801603206413,104.30861723446894,104.60921843687376,104.90981963927857,105.21042084168337,105.51102204408818,105.811623246493,106.1122244488978,106.41282565130261,106.71342685370742,107.01402805611224,107.31462925851704,107.61523046092185,107.91583166332666,108.21643286573148,108.51703406813628,108.81763527054109,109.1182364729459,109.41883767535072,109.71943887775552,110.02004008016033,110.32064128256513,110.62124248496995,110.92184368737476,111.22244488977957,111.52304609218437,111.8236472945892,112.124248496994,112.4248496993988,112.72545090180361,113.02605210420843,113.32665330661324,113.62725450901804,113.92785571142285,114.22845691382767,114.52905811623248,114.82965931863728,115.13026052104209,115.4308617234469,115.73146292585172,116.03206412825652,116.33266533066133,116.63326653306613,116.93386773547095,117.23446893787576,117.53507014028057,117.83567134268537,118.1362725450902,118.436873747495,118.7374749498998,119.03807615230461,119.33867735470943,119.63927855711424,119.93987975951904,120.24048096192385,120.54108216432867,120.84168336673348,121.14228456913828,121.44288577154309,121.74348697394791,122.04408817635272,122.34468937875752,122.64529058116233,122.94589178356715,123.24649298597195,123.54709418837676,123.84769539078157,124.14829659318639,124.4488977955912,124.749498997996,125.0501002004008,125.35070140280563,125.65130260521043,125.95190380761524,126.25250501002004,126.55310621242486,126.85370741482967,127.15430861723448,127.45490981963928,127.7555110220441,128.0561122244489,128.35671342685373,128.65731462925854,128.95791583166334,129.25851703406815,129.55911823647295,129.85971943887776,130.16032064128257,130.46092184368737,130.7615230460922,131.062124248497,131.36272545090182,131.66332665330663,131.96392785571143,132.26452905811624,132.56513026052104,132.86573146292585,133.16633266533069,133.4669338677355,133.7675350701403,134.0681362725451,134.3687374749499,134.66933867735472,134.96993987975952,135.27054108216433,135.57114228456913,135.87174348697397,136.17234468937878,136.47294589178358,136.7735470941884,137.0741482965932,137.374749498998,137.6753507014028,137.9759519038076,138.27655310621245,138.57715430861725,138.87775551102206,139.17835671342687,139.47895791583167,139.77955911823648,140.08016032064128,140.3807615230461,140.68136272545092,140.98196392785573,141.28256513026054,141.58316633266534,141.88376753507015,142.18436873747495,142.48496993987976,142.78557114228457,143.0861723446894,143.3867735470942,143.687374749499,143.98797595190382,144.28857715430863,144.58917835671343,144.88977955911824,145.19038076152304,145.49098196392788,145.79158316633269,146.0921843687375,146.3927855711423,146.6933867735471,146.9939879759519,147.29458917835672,147.59519038076152,147.89579158316636,148.19639278557116,148.49699398797597,148.79759519038078,149.09819639278558,149.3987975951904,149.6993987975952,150.0],\"xaxis\":\"x\",\"y\":[10.0,6.054376742750529,3.489675010878457,2.0475441541125505,1.3380070944560318,0.9307619698246535,0.6186214390528061,0.3927674403234459,0.2968292111578246,0.36540825372894525,0.6340530850721213,1.1207491095217266,1.7593832700570717,2.375974090445911,2.751434046720606,2.7263937282845356,2.28984883171881,1.6114770057162524,0.9846589708491242,0.6638396576797931,0.7208330653999079,1.1122503034168685,1.7557343728649817,2.488678565203026,3.079426440353967,3.313045060184381,3.08723008257426,2.470920143276198,1.6990544838052561,1.0841063424776698,0.8510849776728251,1.0354695304735344,1.5593809194787456,2.2781169097478235,2.971332937307615,3.3977580648130545,3.3899251569352,2.931687920958039,2.1836428046465968,1.4369050670248962,0.9836084533135543,0.9596094867687932,1.331448660047499,1.9817056524461436,2.71724912315101,3.2928850032017722,3.4948056206140796,3.230768161320933,2.5816097286119537,1.7894503603423695,1.1669003903406217,0.9373450503669284,1.1362547803048286,1.678079335311566,2.4033755769750162,3.081717558395796,3.4725495296132536,3.4191296827509463,2.9213969502521007,2.154873468219856,1.4171411221788148,0.9928744354742249,1.0030040604718824,1.4047420757894813,2.0720409946833716,2.802618371163258,3.3492004979048238,3.5059349220858143,3.1961253127726827,2.5182901580482655,1.7271588136208706,1.1344178421507245,0.9467709607122453,1.183668640591637,1.7517560551735991,2.4832482531690165,3.142626639330976,3.4933228158139933,3.3916261484366528,2.8553810998375435,2.076455964768349,1.3588874441895902,0.9763340269741011,1.0295638541411407,1.4648111805705468,2.1486783843514288,2.8717016709201078,3.3863747625950484,3.496256866454892,3.1411667371372887,2.437720630500804,1.6528300428076794,1.095362931680705,0.953025000368689,1.2289980522650084,1.8224791252562684,2.5578714126966093,3.1956599349770958,3.5044513061488733,3.354437519879841,2.7817052440283074,1.994076861222169,1.300570882493871,0.9617708650998655,1.0581892014778385,1.525938531538749,2.2242913864958513,2.9371393500741534,3.417766231775642,3.480079648817576,3.0809112838648973,2.3548239413717207,1.5798417908336002,1.0599972973331864,0.9630625572824876,1.277131603300937,1.8942137679860669,2.630981430701805,3.2447255235694263,3.510218341242137,3.31224960270303,2.705279754849603,1.9124294712499879,1.245999405675397,0.9517403812248856,1.0905436070849024,1.589313819568858,2.299868643415101,2.9999338940696587,3.4445479423584957,3.4588278960781507,3.0170193568280657,2.2713516381871726,1.509726515813814,1.0293107945454762,0.9774207641385602,1.3283747273041786,1.9671155310345634,2.7026904378282257,3.290016530964323,3.5109940058567135,3.26564690724165,2.6268590797466027,1.8322764554101059,1.1956747668692262,0.9464096275314946,1.1266513942451672,1.654858571054337,2.3752602581311155,3.059959749161506,3.4667207138709406,3.432693864891984,2.9498772900318326,2.187797931395744,1.4428784719893937,1.0034076318836362,0.9960398107438209,1.3825992396921933,2.0409744821364733,2.772768430521413,3.331383624812722,3.506792872769628,3.2148420230975083,2.5468158381623334,1.7540051803876042,1.1497682936663958,0.9457186742994933,1.1663854131166727,1.722371345708661,2.450209738006092,3.1169947387989514,3.4841922432394234,3.401774253867571,2.87976882336865,2.104542990874966,1.3795667759698982,0.9822916777864212,1.0188040069611084,1.4396326809611084,2.1155437249692226,2.8409579588153,3.3686580241338686,3.4976144127234714,3.160030966479382,2.4654967277746205,1.6779573820985765,1.1083947121778606,0.9495786407310537,1.209601331530117,1.79163366065418,2.524450868586505,3.1708166694566287,3.4968774789227717,3.3661751343487247,2.8069822564432085,2.021955757158127,1.3200259783938333,0.9659389078027254,1.0455900501022464,1.4992926526947457,2.190569430113107,2.9070043694802146,3.4016832316113983,3.4834752971228453,3.1014256501353863,2.383253834660576,1.6044568759972087,1.0716374304101692,0.9578916578367266,1.2561492010648054,1.8624198158991274,2.5977177254777146,3.221213493286651,3.504708753415132,3.326021945374325,2.731819201771163,1.9404003999305324,1.2644619250001385,0.9543062575949676,1.0762712861585577,1.561389432306737,2.265794503096747,2.9706592122693394,3.4303177091967156,3.464411843970909,3.0392556690095587,2.300444853081161,1.5338088665060634,1.0395516861465928,0.970553407088558,1.3058736797172859,1.9344981644839443,2.6697460961209565,3.2679845963272935,3.507636775953364,3.2814598021331216,2.6545943844149114,1.860235132455933,1.213052020192108,0.9473350690934188,1.1107177907887942,1.6257263977207366,2.340959347221496,3.0316811137888386,3.4544357415640414,3.440480304694077,2.973767932426358,2.21743184757971,1.4662980646362973,1.0121668292201607,0.987454902904437,1.3586135092806477,2.00763096191781,2.7402743187575545,3.3109417524069538,3.5056310885957718,3.232653411917952,2.575634237823115,1.7818089839323195,1.1659444759205235,0.944953917825015,1.1487959698864292,1.6920995626055482,2.4158024507553995,3.089836924377098,3.473927984034799,3.4117569175637863,2.9052257774624732,2.1345786003954754,1.4021860670421005,0.989488530938351,1.0084832844808667,1.4142012819638756,2.081575626140982,2.809044098469619,3.3499094657054354,3.498680086061022,3.179786346580027,2.495274922982372,1.7054591278224527,1.1232584713119746,0.9470809716636872,1.1903682045776764,1.7602981679222869,2.4900615957153813,3.14490194745266,3.488701664259485,3.3783374551296528,2.833907701849828,2.052248196185624,1.3417095209944652,0.9715011556092004,1.0335222283601264,1.472462693071826,2.156085022793359,2.8758020265963786,3.38472642345408,3.4867917788932754,3.1230609697301506,2.4138613908672264,1.6315085119700665,1.0850849131955609,0.9536262481567837,1.2352923196167087,1.8301046480305756,2.5634748700770196,3.196662410533197,3.4986824594024353,3.3403383565037026,2.7601073389334787,1.9708014076892784,1.285079083797218,0.9581709081063229,1.0624523693080377,1.5332165812659155,2.230908194170031,2.940299911922002,3.4152455764072047,3.4699932632070247,3.0626972555545824,2.3317449343756045,1.560262916715088,1.0514876293523168,0.964493398453538,1.2834207882921718,1.9012950001540816,2.6357810943674447,3.2449143030270027,3.5038127809066664,3.297894692518965,2.6841309002703433,1.8905931953607558,1.2324778078449854,0.9494484360233063,1.0951510204097668,1.5962746805746988,2.305791204908268,3.002296322086581,3.4413353084139153,3.4483316964154045,2.9989329507793765,2.249281859173821,1.492008866476461,1.0225049853259722,0.9795810021240682,1.334600336652822,1.97363885941852,2.70672104974958,3.2894659079578834,3.5040543508146844,3.2511616178989353,2.6062968699283213,1.8119705460826152,1.1840603322143528,0.9452706777541606,1.1314917859058444,1.6614409755414485,2.380477353794136,3.0615566854068943,3.462879725023933,3.4218736743614957,2.9320219336923254,2.166830475819099,1.4270108719222105,0.9981519812286634,0.9987832803402349,1.3886714084722165,2.046900719112427,2.7760382151872833,3.330137086780648,3.499386343528481,3.2003123597278886,2.526933872312506,1.735269743847623,1.1399539972246433,0.9455647788340443,1.1713442906279523,1.728513004601437,2.4547091667784673,3.117855163462589,3.4797791119553496,3.3907053172445414,2.862233898538153,2.0847499587383216,1.3655102968655837,0.9784228767346637,1.0219912151402075,1.4454679174779477,2.1208398547416585,2.8434800873364505,3.366761577597614,3.489807968384726,3.145539657270409,2.4463798469096436,1.6608140318918216,1.1002583519072986,0.9502486167467938,1.214573679475201,1.7972808060383378,2.528227881131981,3.1709744617450255,3.4919507384909836,3.354932547723607,2.7898532597127335,2.0033971454440995,1.3077230475624078,0.9632932024533318,1.0490921768615609,1.5048165815495955,2.195211267548589,2.9087987658704884,3.3991866513613185,3.475336838540645,3.0870535229571416,2.3649796931351394,1.5889105957276903,1.065046441672204,0.9592336377221966,1.2610397624626313,1.86752771321542,2.6007754426372434,3.2207078120888077,3.499329238999092,3.3146803772586484,2.7151776227721034,1.9231245110609312,1.2538388143027015,0.9527227564955341,1.0799701500956254,1.5665368718931876,2.2697660514271925,2.971751702869614,3.427273838910543,3.4560098908942223,3.0250815470227743,2.2830834189588285,1.519848654869919,1.0343664453270882,0.9724255941076315,1.3105967657757607,1.9390306667962436,2.6720946657317115,3.266859056483803,3.5018672443792735,3.270093572266394,2.6385174385470265,1.84427763880339,1.2040204056136867,0.9466577513295418,1.1145057207409805,1.63044085646801,2.344252594957259,3.032103669579393,3.4509008271958126,3.4318841671713978,2.9598683268026735,2.201044902145486,1.4538966770133008,1.0082431565264927,0.9897256965610934,1.363092526675696,2.011560344128951,2.7419305749146403,3.309243627783582,3.499535101818243,3.2213350023427063,2.5601934262620327,1.7671923168882508,1.158403356244601,0.9450333868654627,1.1525749947763404,1.696333325282052,2.4184170385496393,3.089625949402776,3.4699597491695378,3.4030349639696125,2.8916736656682915,2.119218484614642,1.3913010616173087,0.98668062092685,1.011031614781144,1.4183684503485887,2.0848824148117338,2.810031267217239,3.347689698923421,3.4923222459509207,3.168586911737526,2.4805362876107373,1.6921926283499586,1.1170967507936107,0.9477756561254068,1.1940500142334998,1.7640118487945886,2.4920043121198403,3.144098961387038,3.484360093902796,3.369557749158934,2.8207726983766586,2.03795788410696,1.3322842379253028],\"yaxis\":\"y\",\"type\":\"scattergl\"}],                        {\"template\":{\"data\":{\"histogram2dcontour\":[{\"type\":\"histogram2dcontour\",\"colorbar\":{\"outlinewidth\":0,\"ticks\":\"\"},\"colorscale\":[[0.0,\"#0d0887\"],[0.1111111111111111,\"#46039f\"],[0.2222222222222222,\"#7201a8\"],[0.3333333333333333,\"#9c179e\"],[0.4444444444444444,\"#bd3786\"],[0.5555555555555556,\"#d8576b\"],[0.6666666666666666,\"#ed7953\"],[0.7777777777777778,\"#fb9f3a\"],[0.8888888888888888,\"#fdca26\"],[1.0,\"#f0f921\"]]}],\"choropleth\":[{\"type\":\"choropleth\",\"colorbar\":{\"outlinewidth\":0,\"ticks\":\"\"}}],\"histogram2d\":[{\"type\":\"histogram2d\",\"colorbar\":{\"outlinewidth\":0,\"ticks\":\"\"},\"colorscale\":[[0.0,\"#0d0887\"],[0.1111111111111111,\"#46039f\"],[0.2222222222222222,\"#7201a8\"],[0.3333333333333333,\"#9c179e\"],[0.4444444444444444,\"#bd3786\"],[0.5555555555555556,\"#d8576b\"],[0.6666666666666666,\"#ed7953\"],[0.7777777777777778,\"#fb9f3a\"],[0.8888888888888888,\"#fdca26\"],[1.0,\"#f0f921\"]]}],\"heatmap\":[{\"type\":\"heatmap\",\"colorbar\":{\"outlinewidth\":0,\"ticks\":\"\"},\"colorscale\":[[0.0,\"#0d0887\"],[0.1111111111111111,\"#46039f\"],[0.2222222222222222,\"#7201a8\"],[0.3333333333333333,\"#9c179e\"],[0.4444444444444444,\"#bd3786\"],[0.5555555555555556,\"#d8576b\"],[0.6666666666666666,\"#ed7953\"],[0.7777777777777778,\"#fb9f3a\"],[0.8888888888888888,\"#fdca26\"],[1.0,\"#f0f921\"]]}],\"heatmapgl\":[{\"type\":\"heatmapgl\",\"colorbar\":{\"outlinewidth\":0,\"ticks\":\"\"},\"colorscale\":[[0.0,\"#0d0887\"],[0.1111111111111111,\"#46039f\"],[0.2222222222222222,\"#7201a8\"],[0.3333333333333333,\"#9c179e\"],[0.4444444444444444,\"#bd3786\"],[0.5555555555555556,\"#d8576b\"],[0.6666666666666666,\"#ed7953\"],[0.7777777777777778,\"#fb9f3a\"],[0.8888888888888888,\"#fdca26\"],[1.0,\"#f0f921\"]]}],\"contourcarpet\":[{\"type\":\"contourcarpet\",\"colorbar\":{\"outlinewidth\":0,\"ticks\":\"\"}}],\"contour\":[{\"type\":\"contour\",\"colorbar\":{\"outlinewidth\":0,\"ticks\":\"\"},\"colorscale\":[[0.0,\"#0d0887\"],[0.1111111111111111,\"#46039f\"],[0.2222222222222222,\"#7201a8\"],[0.3333333333333333,\"#9c179e\"],[0.4444444444444444,\"#bd3786\"],[0.5555555555555556,\"#d8576b\"],[0.6666666666666666,\"#ed7953\"],[0.7777777777777778,\"#fb9f3a\"],[0.8888888888888888,\"#fdca26\"],[1.0,\"#f0f921\"]]}],\"surface\":[{\"type\":\"surface\",\"colorbar\":{\"outlinewidth\":0,\"ticks\":\"\"},\"colorscale\":[[0.0,\"#0d0887\"],[0.1111111111111111,\"#46039f\"],[0.2222222222222222,\"#7201a8\"],[0.3333333333333333,\"#9c179e\"],[0.4444444444444444,\"#bd3786\"],[0.5555555555555556,\"#d8576b\"],[0.6666666666666666,\"#ed7953\"],[0.7777777777777778,\"#fb9f3a\"],[0.8888888888888888,\"#fdca26\"],[1.0,\"#f0f921\"]]}],\"mesh3d\":[{\"type\":\"mesh3d\",\"colorbar\":{\"outlinewidth\":0,\"ticks\":\"\"}}],\"scatter\":[{\"fillpattern\":{\"fillmode\":\"overlay\",\"size\":10,\"solidity\":0.2},\"type\":\"scatter\"}],\"parcoords\":[{\"type\":\"parcoords\",\"line\":{\"colorbar\":{\"outlinewidth\":0,\"ticks\":\"\"}}}],\"scatterpolargl\":[{\"type\":\"scatterpolargl\",\"marker\":{\"colorbar\":{\"outlinewidth\":0,\"ticks\":\"\"}}}],\"bar\":[{\"error_x\":{\"color\":\"#2a3f5f\"},\"error_y\":{\"color\":\"#2a3f5f\"},\"marker\":{\"line\":{\"color\":\"#E5ECF6\",\"width\":0.5},\"pattern\":{\"fillmode\":\"overlay\",\"size\":10,\"solidity\":0.2}},\"type\":\"bar\"}],\"scattergeo\":[{\"type\":\"scattergeo\",\"marker\":{\"colorbar\":{\"outlinewidth\":0,\"ticks\":\"\"}}}],\"scatterpolar\":[{\"type\":\"scatterpolar\",\"marker\":{\"colorbar\":{\"outlinewidth\":0,\"ticks\":\"\"}}}],\"histogram\":[{\"marker\":{\"pattern\":{\"fillmode\":\"overlay\",\"size\":10,\"solidity\":0.2}},\"type\":\"histogram\"}],\"scattergl\":[{\"type\":\"scattergl\",\"marker\":{\"colorbar\":{\"outlinewidth\":0,\"ticks\":\"\"}}}],\"scatter3d\":[{\"type\":\"scatter3d\",\"line\":{\"colorbar\":{\"outlinewidth\":0,\"ticks\":\"\"}},\"marker\":{\"colorbar\":{\"outlinewidth\":0,\"ticks\":\"\"}}}],\"scattermapbox\":[{\"type\":\"scattermapbox\",\"marker\":{\"colorbar\":{\"outlinewidth\":0,\"ticks\":\"\"}}}],\"scatterternary\":[{\"type\":\"scatterternary\",\"marker\":{\"colorbar\":{\"outlinewidth\":0,\"ticks\":\"\"}}}],\"scattercarpet\":[{\"type\":\"scattercarpet\",\"marker\":{\"colorbar\":{\"outlinewidth\":0,\"ticks\":\"\"}}}],\"carpet\":[{\"aaxis\":{\"endlinecolor\":\"#2a3f5f\",\"gridcolor\":\"white\",\"linecolor\":\"white\",\"minorgridcolor\":\"white\",\"startlinecolor\":\"#2a3f5f\"},\"baxis\":{\"endlinecolor\":\"#2a3f5f\",\"gridcolor\":\"white\",\"linecolor\":\"white\",\"minorgridcolor\":\"white\",\"startlinecolor\":\"#2a3f5f\"},\"type\":\"carpet\"}],\"table\":[{\"cells\":{\"fill\":{\"color\":\"#EBF0F8\"},\"line\":{\"color\":\"white\"}},\"header\":{\"fill\":{\"color\":\"#C8D4E3\"},\"line\":{\"color\":\"white\"}},\"type\":\"table\"}],\"barpolar\":[{\"marker\":{\"line\":{\"color\":\"#E5ECF6\",\"width\":0.5},\"pattern\":{\"fillmode\":\"overlay\",\"size\":10,\"solidity\":0.2}},\"type\":\"barpolar\"}],\"pie\":[{\"automargin\":true,\"type\":\"pie\"}]},\"layout\":{\"autotypenumbers\":\"strict\",\"colorway\":[\"#636efa\",\"#EF553B\",\"#00cc96\",\"#ab63fa\",\"#FFA15A\",\"#19d3f3\",\"#FF6692\",\"#B6E880\",\"#FF97FF\",\"#FECB52\"],\"font\":{\"color\":\"#2a3f5f\"},\"hovermode\":\"closest\",\"hoverlabel\":{\"align\":\"left\"},\"paper_bgcolor\":\"white\",\"plot_bgcolor\":\"#E5ECF6\",\"polar\":{\"bgcolor\":\"#E5ECF6\",\"angularaxis\":{\"gridcolor\":\"white\",\"linecolor\":\"white\",\"ticks\":\"\"},\"radialaxis\":{\"gridcolor\":\"white\",\"linecolor\":\"white\",\"ticks\":\"\"}},\"ternary\":{\"bgcolor\":\"#E5ECF6\",\"aaxis\":{\"gridcolor\":\"white\",\"linecolor\":\"white\",\"ticks\":\"\"},\"baxis\":{\"gridcolor\":\"white\",\"linecolor\":\"white\",\"ticks\":\"\"},\"caxis\":{\"gridcolor\":\"white\",\"linecolor\":\"white\",\"ticks\":\"\"}},\"coloraxis\":{\"colorbar\":{\"outlinewidth\":0,\"ticks\":\"\"}},\"colorscale\":{\"sequential\":[[0.0,\"#0d0887\"],[0.1111111111111111,\"#46039f\"],[0.2222222222222222,\"#7201a8\"],[0.3333333333333333,\"#9c179e\"],[0.4444444444444444,\"#bd3786\"],[0.5555555555555556,\"#d8576b\"],[0.6666666666666666,\"#ed7953\"],[0.7777777777777778,\"#fb9f3a\"],[0.8888888888888888,\"#fdca26\"],[1.0,\"#f0f921\"]],\"sequentialminus\":[[0.0,\"#0d0887\"],[0.1111111111111111,\"#46039f\"],[0.2222222222222222,\"#7201a8\"],[0.3333333333333333,\"#9c179e\"],[0.4444444444444444,\"#bd3786\"],[0.5555555555555556,\"#d8576b\"],[0.6666666666666666,\"#ed7953\"],[0.7777777777777778,\"#fb9f3a\"],[0.8888888888888888,\"#fdca26\"],[1.0,\"#f0f921\"]],\"diverging\":[[0,\"#8e0152\"],[0.1,\"#c51b7d\"],[0.2,\"#de77ae\"],[0.3,\"#f1b6da\"],[0.4,\"#fde0ef\"],[0.5,\"#f7f7f7\"],[0.6,\"#e6f5d0\"],[0.7,\"#b8e186\"],[0.8,\"#7fbc41\"],[0.9,\"#4d9221\"],[1,\"#276419\"]]},\"xaxis\":{\"gridcolor\":\"white\",\"linecolor\":\"white\",\"ticks\":\"\",\"title\":{\"standoff\":15},\"zerolinecolor\":\"white\",\"automargin\":true,\"zerolinewidth\":2},\"yaxis\":{\"gridcolor\":\"white\",\"linecolor\":\"white\",\"ticks\":\"\",\"title\":{\"standoff\":15},\"zerolinecolor\":\"white\",\"automargin\":true,\"zerolinewidth\":2},\"scene\":{\"xaxis\":{\"backgroundcolor\":\"#E5ECF6\",\"gridcolor\":\"white\",\"linecolor\":\"white\",\"showbackground\":true,\"ticks\":\"\",\"zerolinecolor\":\"white\",\"gridwidth\":2},\"yaxis\":{\"backgroundcolor\":\"#E5ECF6\",\"gridcolor\":\"white\",\"linecolor\":\"white\",\"showbackground\":true,\"ticks\":\"\",\"zerolinecolor\":\"white\",\"gridwidth\":2},\"zaxis\":{\"backgroundcolor\":\"#E5ECF6\",\"gridcolor\":\"white\",\"linecolor\":\"white\",\"showbackground\":true,\"ticks\":\"\",\"zerolinecolor\":\"white\",\"gridwidth\":2}},\"shapedefaults\":{\"line\":{\"color\":\"#2a3f5f\"}},\"annotationdefaults\":{\"arrowcolor\":\"#2a3f5f\",\"arrowhead\":0,\"arrowwidth\":1},\"geo\":{\"bgcolor\":\"white\",\"landcolor\":\"#E5ECF6\",\"subunitcolor\":\"white\",\"showland\":true,\"showlakes\":true,\"lakecolor\":\"white\"},\"title\":{\"x\":0.05},\"mapbox\":{\"style\":\"light\"}}},\"xaxis\":{\"anchor\":\"y\",\"domain\":[0.0,1.0],\"title\":{\"text\":\"tempo\"}},\"yaxis\":{\"anchor\":\"x\",\"domain\":[0.0,1.0],\"title\":{\"text\":\"densidade\"}},\"legend\":{\"title\":{\"text\":\"variable\"},\"tracegroupgap\":0},\"margin\":{\"t\":60}},                        {\"responsive\": true}                    ).then(function(){\n",
              "                            \n",
              "var gd = document.getElementById('1590abe4-e1e5-461b-a9ea-4a629591ff82');\n",
              "var x = new MutationObserver(function (mutations, observer) {{\n",
              "        var display = window.getComputedStyle(gd).display;\n",
              "        if (!display || display === 'none') {{\n",
              "            console.log([gd, 'removed!']);\n",
              "            Plotly.purge(gd);\n",
              "            observer.disconnect();\n",
              "        }}\n",
              "}});\n",
              "\n",
              "// Listen for the removal of the full notebook cells\n",
              "var notebookContainer = gd.closest('#notebook-container');\n",
              "if (notebookContainer) {{\n",
              "    x.observe(notebookContainer, {childList: true});\n",
              "}}\n",
              "\n",
              "// Listen for the clearing of the current output cell\n",
              "var outputEl = gd.closest('.output');\n",
              "if (outputEl) {{\n",
              "    x.observe(outputEl, {childList: true});\n",
              "}}\n",
              "\n",
              "                        })                };                            </script>        </div>\n",
              "</body>\n",
              "</html>"
            ]
          },
          "metadata": {}
        }
      ],
      "source": [
        "param_sit3a = [5, 5, 10, 1, 1, 1, 1, 0.5, 2, 1, 0.4, 1]\n",
        "A1, A2, R, t = setMyPlot(param_sit3a, 0, 150, 500, func_sazonal)\n",
        "printParam(param_sit3a)\n",
        "plotMyGraph(A1, A2, R, t)"
      ]
    },
    {
      "cell_type": "markdown",
      "metadata": {
        "id": "KUm3LpcDgzwA"
      },
      "source": [
        "#### **b) Vantagem competitiva com F(t) = $3 + 5sin(2t)$**"
      ]
    },
    {
      "cell_type": "markdown",
      "metadata": {
        "id": "e6obcyptO1jg"
      },
      "source": [
        "Já nesse exemplo, os parâmetros correspondem aos da seção 2.a). O interessante nesse caso é que ambas as espécies são levadas a extinção, inclusive, em tempo menor em comparação ao caso supracitado."
      ]
    },
    {
      "cell_type": "code",
      "execution_count": null,
      "metadata": {
        "colab": {
          "base_uri": "https://localhost:8080/",
          "height": 559
        },
        "id": "d3Y_lECig_o2",
        "outputId": "19a3f5d6-6dae-44a3-aaa0-cc15d7a3e99e"
      },
      "outputs": [
        {
          "output_type": "stream",
          "name": "stdout",
          "text": [
            "A10 = 5, A20 = 5, R0 = 10, a1 = 1, a2 = 1, b1 = 1, b2 = 1, h1 = 0.6, h2 = 2, u1 = 0.4, u2 = 0.4, j = 1"
          ]
        },
        {
          "output_type": "display_data",
          "data": {
            "text/html": [
              "<html>\n",
              "<head><meta charset=\"utf-8\" /></head>\n",
              "<body>\n",
              "    <div>            <script src=\"https://cdnjs.cloudflare.com/ajax/libs/mathjax/2.7.5/MathJax.js?config=TeX-AMS-MML_SVG\"></script><script type=\"text/javascript\">if (window.MathJax && window.MathJax.Hub && window.MathJax.Hub.Config) {window.MathJax.Hub.Config({SVG: {font: \"STIX-Web\"}});}</script>                <script type=\"text/javascript\">window.PlotlyConfig = {MathJaxConfig: 'local'};</script>\n",
              "        <script src=\"https://cdn.plot.ly/plotly-2.18.2.min.js\"></script>                <div id=\"ba0080a4-34f6-4c1e-bc1c-31d3592f03ff\" class=\"plotly-graph-div\" style=\"height:525px; width:100%;\"></div>            <script type=\"text/javascript\">                                    window.PLOTLYENV=window.PLOTLYENV || {};                                    if (document.getElementById(\"ba0080a4-34f6-4c1e-bc1c-31d3592f03ff\")) {                    Plotly.newPlot(                        \"ba0080a4-34f6-4c1e-bc1c-31d3592f03ff\",                        [{\"hovertemplate\":\"variable=a1<br>tempo=%{x}<br>densidade=%{y}<extra></extra>\",\"legendgroup\":\"a1\",\"line\":{\"color\":\"#636efa\",\"dash\":\"solid\",\"width\":3},\"marker\":{\"symbol\":\"circle\"},\"mode\":\"lines\",\"name\":\"a1\",\"orientation\":\"v\",\"showlegend\":true,\"x\":[0.0,0.30612244897959184,0.6122448979591837,0.9183673469387755,1.2244897959183674,1.5306122448979593,1.836734693877551,2.142857142857143,2.4489795918367347,2.7551020408163267,3.0612244897959187,3.36734693877551,3.673469387755102,3.979591836734694,4.285714285714286,4.591836734693878,4.8979591836734695,5.204081632653061,5.510204081632653,5.816326530612245,6.122448979591837,6.428571428571429,6.73469387755102,7.040816326530613,7.346938775510204,7.653061224489796,7.959183673469388,8.26530612244898,8.571428571428571,8.877551020408163,9.183673469387756,9.489795918367347,9.795918367346939,10.10204081632653,10.408163265306122,10.714285714285715,11.020408163265307,11.326530612244898,11.63265306122449,11.938775510204081,12.244897959183675,12.551020408163266,12.857142857142858,13.16326530612245,13.46938775510204,13.775510204081632,14.081632653061225,14.387755102040817,14.693877551020408,15.0],\"xaxis\":\"x\",\"y\":[5.0,6.739360549430227,8.67240881927366,10.33920554375897,11.217516717034677,11.39349249652357,11.091088542698014,10.450057474460355,9.67471605906767,8.994244737911993,8.589629257982947,8.551697943001354,8.869944758924792,9.441891005739947,10.078620126430872,10.522820046458532,10.555216845566205,10.154305828970235,9.503413721101207,8.859719352418857,8.443620754073846,8.381798214540167,8.692666775136342,9.298754567435992,10.033716672879876,10.644364382703602,10.866547866755239,10.604510746465406,10.003396860291476,9.329423651763562,8.835704975086909,8.685072106074387,8.924451673533902,9.496185413979546,10.250560591189204,10.945299761103785,11.296792356002594,11.148545818539477,10.592918863802986,9.88624834755496,9.304115638998837,9.044100606011835,9.184397830954108,9.689366927381073,10.426745157427156,11.169523177234723,11.628097105540895,11.595790149820898,11.10427444830914,10.385005374035975],\"yaxis\":\"y\",\"type\":\"scatter\"},{\"hovertemplate\":\"variable=a2<br>tempo=%{x}<br>densidade=%{y}<extra></extra>\",\"legendgroup\":\"a2\",\"line\":{\"color\":\"#EF553B\",\"dash\":\"solid\",\"width\":3},\"marker\":{\"symbol\":\"circle\"},\"mode\":\"lines\",\"name\":\"a2\",\"orientation\":\"v\",\"showlegend\":true,\"x\":[0.0,0.30612244897959184,0.6122448979591837,0.9183673469387755,1.2244897959183674,1.5306122448979593,1.836734693877551,2.142857142857143,2.4489795918367347,2.7551020408163267,3.0612244897959187,3.36734693877551,3.673469387755102,3.979591836734694,4.285714285714286,4.591836734693878,4.8979591836734695,5.204081632653061,5.510204081632653,5.816326530612245,6.122448979591837,6.428571428571429,6.73469387755102,7.040816326530613,7.346938775510204,7.653061224489796,7.959183673469388,8.26530612244898,8.571428571428571,8.877551020408163,9.183673469387756,9.489795918367347,9.795918367346939,10.10204081632653,10.408163265306122,10.714285714285715,11.020408163265307,11.326530612244898,11.63265306122449,11.938775510204081,12.244897959183675,12.551020408163266,12.857142857142858,13.16326530612245,13.46938775510204,13.775510204081632,14.081632653061225,14.387755102040817,14.693877551020408,15.0],\"xaxis\":\"x\",\"y\":[5.0,5.1083691891908005,5.1884491558684385,5.206436037707309,5.11711452287575,4.926061869761618,4.657141843995467,4.3261730857801135,3.9740487455943443,3.66070654522078,3.4268019628056656,3.2727249286650637,3.17444893940889,3.104537589571875,3.0386455085703594,2.953851492090597,2.82981971126617,2.6594262178560557,2.4603803976392453,2.2706375161509027,2.1231753020994706,2.0251582653400124,1.9642189292420769,1.9236772406850857,1.8886071800836168,1.8450777279183295,1.77961355342371,1.6844048110759502,1.5658447648857676,1.445473318844726,1.3468474894182005,1.2790812620861454,1.2366298309690509,1.2092232503354345,1.1873001451096168,1.1621754883205306,1.1253386736854918,1.0706413966453625,0.9994470078170781,0.9230366764677239,0.8568747377995354,0.8094967295845418,0.7792553419217476,0.7600099267141028,0.7455901178213182,0.7305019694748186,0.7094265923690236,0.6779949074005216,0.6356332773962493,0.5878053750008773],\"yaxis\":\"y\",\"type\":\"scatter\"},{\"hovertemplate\":\"variable=r<br>tempo=%{x}<br>densidade=%{y}<extra></extra>\",\"legendgroup\":\"r\",\"line\":{\"color\":\"#00cc96\",\"dash\":\"solid\",\"width\":3},\"marker\":{\"symbol\":\"circle\"},\"mode\":\"lines\",\"name\":\"r\",\"orientation\":\"v\",\"showlegend\":true,\"x\":[0.0,0.30612244897959184,0.6122448979591837,0.9183673469387755,1.2244897959183674,1.5306122448979593,1.836734693877551,2.142857142857143,2.4489795918367347,2.7551020408163267,3.0612244897959187,3.36734693877551,3.673469387755102,3.979591836734694,4.285714285714286,4.591836734693878,4.8979591836734695,5.204081632653061,5.510204081632653,5.816326530612245,6.122448979591837,6.428571428571429,6.73469387755102,7.040816326530613,7.346938775510204,7.653061224489796,7.959183673469388,8.26530612244898,8.571428571428571,8.877551020408163,9.183673469387756,9.489795918367347,9.795918367346939,10.10204081632653,10.408163265306122,10.714285714285715,11.020408163265307,11.326530612244898,11.63265306122449,11.938775510204081,12.244897959183675,12.551020408163266,12.857142857142858,13.16326530612245,13.46938775510204,13.775510204081632,14.081632653061225,14.387755102040817,14.693877551020408,15.0],\"xaxis\":\"x\",\"y\":[10.0,6.175057965258342,3.3961233506797175,1.599958063861987,0.7943559624722196,0.48485360994627114,0.298107355742397,0.18489646033572213,0.15525965676106612,0.22007425399164213,0.3859076177525616,0.6301988795193555,0.8728838440730664,0.9935135070849321,0.9130370361734923,0.6771068431174423,0.4235329488733969,0.25013999651948166,0.1805430792716456,0.21896428530149648,0.37022373202028264,0.617694895597203,0.8892944298191312,1.0602279114677418,1.0249439502717268,0.7965372891811209,0.5129114635672134,0.3008352064750982,0.19744314080517877,0.20537861611520666,0.3284883348369144,0.5566635251312064,0.8316328036583489,1.0372412852441295,1.0549712158866333,0.8643821402272933,0.5813898500022497,0.3464292276581861,0.21496531596241478,0.19338677125047837,0.28575873572387167,0.48780382895436136,0.7554909797972537,0.9859480814983388,1.0552801474242905,0.9128306682929542,0.6443409958417019,0.3941135104210243,0.2374183299153797,0.18765092133886907],\"yaxis\":\"y\",\"type\":\"scatter\"}],                        {\"template\":{\"data\":{\"histogram2dcontour\":[{\"type\":\"histogram2dcontour\",\"colorbar\":{\"outlinewidth\":0,\"ticks\":\"\"},\"colorscale\":[[0.0,\"#0d0887\"],[0.1111111111111111,\"#46039f\"],[0.2222222222222222,\"#7201a8\"],[0.3333333333333333,\"#9c179e\"],[0.4444444444444444,\"#bd3786\"],[0.5555555555555556,\"#d8576b\"],[0.6666666666666666,\"#ed7953\"],[0.7777777777777778,\"#fb9f3a\"],[0.8888888888888888,\"#fdca26\"],[1.0,\"#f0f921\"]]}],\"choropleth\":[{\"type\":\"choropleth\",\"colorbar\":{\"outlinewidth\":0,\"ticks\":\"\"}}],\"histogram2d\":[{\"type\":\"histogram2d\",\"colorbar\":{\"outlinewidth\":0,\"ticks\":\"\"},\"colorscale\":[[0.0,\"#0d0887\"],[0.1111111111111111,\"#46039f\"],[0.2222222222222222,\"#7201a8\"],[0.3333333333333333,\"#9c179e\"],[0.4444444444444444,\"#bd3786\"],[0.5555555555555556,\"#d8576b\"],[0.6666666666666666,\"#ed7953\"],[0.7777777777777778,\"#fb9f3a\"],[0.8888888888888888,\"#fdca26\"],[1.0,\"#f0f921\"]]}],\"heatmap\":[{\"type\":\"heatmap\",\"colorbar\":{\"outlinewidth\":0,\"ticks\":\"\"},\"colorscale\":[[0.0,\"#0d0887\"],[0.1111111111111111,\"#46039f\"],[0.2222222222222222,\"#7201a8\"],[0.3333333333333333,\"#9c179e\"],[0.4444444444444444,\"#bd3786\"],[0.5555555555555556,\"#d8576b\"],[0.6666666666666666,\"#ed7953\"],[0.7777777777777778,\"#fb9f3a\"],[0.8888888888888888,\"#fdca26\"],[1.0,\"#f0f921\"]]}],\"heatmapgl\":[{\"type\":\"heatmapgl\",\"colorbar\":{\"outlinewidth\":0,\"ticks\":\"\"},\"colorscale\":[[0.0,\"#0d0887\"],[0.1111111111111111,\"#46039f\"],[0.2222222222222222,\"#7201a8\"],[0.3333333333333333,\"#9c179e\"],[0.4444444444444444,\"#bd3786\"],[0.5555555555555556,\"#d8576b\"],[0.6666666666666666,\"#ed7953\"],[0.7777777777777778,\"#fb9f3a\"],[0.8888888888888888,\"#fdca26\"],[1.0,\"#f0f921\"]]}],\"contourcarpet\":[{\"type\":\"contourcarpet\",\"colorbar\":{\"outlinewidth\":0,\"ticks\":\"\"}}],\"contour\":[{\"type\":\"contour\",\"colorbar\":{\"outlinewidth\":0,\"ticks\":\"\"},\"colorscale\":[[0.0,\"#0d0887\"],[0.1111111111111111,\"#46039f\"],[0.2222222222222222,\"#7201a8\"],[0.3333333333333333,\"#9c179e\"],[0.4444444444444444,\"#bd3786\"],[0.5555555555555556,\"#d8576b\"],[0.6666666666666666,\"#ed7953\"],[0.7777777777777778,\"#fb9f3a\"],[0.8888888888888888,\"#fdca26\"],[1.0,\"#f0f921\"]]}],\"surface\":[{\"type\":\"surface\",\"colorbar\":{\"outlinewidth\":0,\"ticks\":\"\"},\"colorscale\":[[0.0,\"#0d0887\"],[0.1111111111111111,\"#46039f\"],[0.2222222222222222,\"#7201a8\"],[0.3333333333333333,\"#9c179e\"],[0.4444444444444444,\"#bd3786\"],[0.5555555555555556,\"#d8576b\"],[0.6666666666666666,\"#ed7953\"],[0.7777777777777778,\"#fb9f3a\"],[0.8888888888888888,\"#fdca26\"],[1.0,\"#f0f921\"]]}],\"mesh3d\":[{\"type\":\"mesh3d\",\"colorbar\":{\"outlinewidth\":0,\"ticks\":\"\"}}],\"scatter\":[{\"fillpattern\":{\"fillmode\":\"overlay\",\"size\":10,\"solidity\":0.2},\"type\":\"scatter\"}],\"parcoords\":[{\"type\":\"parcoords\",\"line\":{\"colorbar\":{\"outlinewidth\":0,\"ticks\":\"\"}}}],\"scatterpolargl\":[{\"type\":\"scatterpolargl\",\"marker\":{\"colorbar\":{\"outlinewidth\":0,\"ticks\":\"\"}}}],\"bar\":[{\"error_x\":{\"color\":\"#2a3f5f\"},\"error_y\":{\"color\":\"#2a3f5f\"},\"marker\":{\"line\":{\"color\":\"#E5ECF6\",\"width\":0.5},\"pattern\":{\"fillmode\":\"overlay\",\"size\":10,\"solidity\":0.2}},\"type\":\"bar\"}],\"scattergeo\":[{\"type\":\"scattergeo\",\"marker\":{\"colorbar\":{\"outlinewidth\":0,\"ticks\":\"\"}}}],\"scatterpolar\":[{\"type\":\"scatterpolar\",\"marker\":{\"colorbar\":{\"outlinewidth\":0,\"ticks\":\"\"}}}],\"histogram\":[{\"marker\":{\"pattern\":{\"fillmode\":\"overlay\",\"size\":10,\"solidity\":0.2}},\"type\":\"histogram\"}],\"scattergl\":[{\"type\":\"scattergl\",\"marker\":{\"colorbar\":{\"outlinewidth\":0,\"ticks\":\"\"}}}],\"scatter3d\":[{\"type\":\"scatter3d\",\"line\":{\"colorbar\":{\"outlinewidth\":0,\"ticks\":\"\"}},\"marker\":{\"colorbar\":{\"outlinewidth\":0,\"ticks\":\"\"}}}],\"scattermapbox\":[{\"type\":\"scattermapbox\",\"marker\":{\"colorbar\":{\"outlinewidth\":0,\"ticks\":\"\"}}}],\"scatterternary\":[{\"type\":\"scatterternary\",\"marker\":{\"colorbar\":{\"outlinewidth\":0,\"ticks\":\"\"}}}],\"scattercarpet\":[{\"type\":\"scattercarpet\",\"marker\":{\"colorbar\":{\"outlinewidth\":0,\"ticks\":\"\"}}}],\"carpet\":[{\"aaxis\":{\"endlinecolor\":\"#2a3f5f\",\"gridcolor\":\"white\",\"linecolor\":\"white\",\"minorgridcolor\":\"white\",\"startlinecolor\":\"#2a3f5f\"},\"baxis\":{\"endlinecolor\":\"#2a3f5f\",\"gridcolor\":\"white\",\"linecolor\":\"white\",\"minorgridcolor\":\"white\",\"startlinecolor\":\"#2a3f5f\"},\"type\":\"carpet\"}],\"table\":[{\"cells\":{\"fill\":{\"color\":\"#EBF0F8\"},\"line\":{\"color\":\"white\"}},\"header\":{\"fill\":{\"color\":\"#C8D4E3\"},\"line\":{\"color\":\"white\"}},\"type\":\"table\"}],\"barpolar\":[{\"marker\":{\"line\":{\"color\":\"#E5ECF6\",\"width\":0.5},\"pattern\":{\"fillmode\":\"overlay\",\"size\":10,\"solidity\":0.2}},\"type\":\"barpolar\"}],\"pie\":[{\"automargin\":true,\"type\":\"pie\"}]},\"layout\":{\"autotypenumbers\":\"strict\",\"colorway\":[\"#636efa\",\"#EF553B\",\"#00cc96\",\"#ab63fa\",\"#FFA15A\",\"#19d3f3\",\"#FF6692\",\"#B6E880\",\"#FF97FF\",\"#FECB52\"],\"font\":{\"color\":\"#2a3f5f\"},\"hovermode\":\"closest\",\"hoverlabel\":{\"align\":\"left\"},\"paper_bgcolor\":\"white\",\"plot_bgcolor\":\"#E5ECF6\",\"polar\":{\"bgcolor\":\"#E5ECF6\",\"angularaxis\":{\"gridcolor\":\"white\",\"linecolor\":\"white\",\"ticks\":\"\"},\"radialaxis\":{\"gridcolor\":\"white\",\"linecolor\":\"white\",\"ticks\":\"\"}},\"ternary\":{\"bgcolor\":\"#E5ECF6\",\"aaxis\":{\"gridcolor\":\"white\",\"linecolor\":\"white\",\"ticks\":\"\"},\"baxis\":{\"gridcolor\":\"white\",\"linecolor\":\"white\",\"ticks\":\"\"},\"caxis\":{\"gridcolor\":\"white\",\"linecolor\":\"white\",\"ticks\":\"\"}},\"coloraxis\":{\"colorbar\":{\"outlinewidth\":0,\"ticks\":\"\"}},\"colorscale\":{\"sequential\":[[0.0,\"#0d0887\"],[0.1111111111111111,\"#46039f\"],[0.2222222222222222,\"#7201a8\"],[0.3333333333333333,\"#9c179e\"],[0.4444444444444444,\"#bd3786\"],[0.5555555555555556,\"#d8576b\"],[0.6666666666666666,\"#ed7953\"],[0.7777777777777778,\"#fb9f3a\"],[0.8888888888888888,\"#fdca26\"],[1.0,\"#f0f921\"]],\"sequentialminus\":[[0.0,\"#0d0887\"],[0.1111111111111111,\"#46039f\"],[0.2222222222222222,\"#7201a8\"],[0.3333333333333333,\"#9c179e\"],[0.4444444444444444,\"#bd3786\"],[0.5555555555555556,\"#d8576b\"],[0.6666666666666666,\"#ed7953\"],[0.7777777777777778,\"#fb9f3a\"],[0.8888888888888888,\"#fdca26\"],[1.0,\"#f0f921\"]],\"diverging\":[[0,\"#8e0152\"],[0.1,\"#c51b7d\"],[0.2,\"#de77ae\"],[0.3,\"#f1b6da\"],[0.4,\"#fde0ef\"],[0.5,\"#f7f7f7\"],[0.6,\"#e6f5d0\"],[0.7,\"#b8e186\"],[0.8,\"#7fbc41\"],[0.9,\"#4d9221\"],[1,\"#276419\"]]},\"xaxis\":{\"gridcolor\":\"white\",\"linecolor\":\"white\",\"ticks\":\"\",\"title\":{\"standoff\":15},\"zerolinecolor\":\"white\",\"automargin\":true,\"zerolinewidth\":2},\"yaxis\":{\"gridcolor\":\"white\",\"linecolor\":\"white\",\"ticks\":\"\",\"title\":{\"standoff\":15},\"zerolinecolor\":\"white\",\"automargin\":true,\"zerolinewidth\":2},\"scene\":{\"xaxis\":{\"backgroundcolor\":\"#E5ECF6\",\"gridcolor\":\"white\",\"linecolor\":\"white\",\"showbackground\":true,\"ticks\":\"\",\"zerolinecolor\":\"white\",\"gridwidth\":2},\"yaxis\":{\"backgroundcolor\":\"#E5ECF6\",\"gridcolor\":\"white\",\"linecolor\":\"white\",\"showbackground\":true,\"ticks\":\"\",\"zerolinecolor\":\"white\",\"gridwidth\":2},\"zaxis\":{\"backgroundcolor\":\"#E5ECF6\",\"gridcolor\":\"white\",\"linecolor\":\"white\",\"showbackground\":true,\"ticks\":\"\",\"zerolinecolor\":\"white\",\"gridwidth\":2}},\"shapedefaults\":{\"line\":{\"color\":\"#2a3f5f\"}},\"annotationdefaults\":{\"arrowcolor\":\"#2a3f5f\",\"arrowhead\":0,\"arrowwidth\":1},\"geo\":{\"bgcolor\":\"white\",\"landcolor\":\"#E5ECF6\",\"subunitcolor\":\"white\",\"showland\":true,\"showlakes\":true,\"lakecolor\":\"white\"},\"title\":{\"x\":0.05},\"mapbox\":{\"style\":\"light\"}}},\"xaxis\":{\"anchor\":\"y\",\"domain\":[0.0,1.0],\"title\":{\"text\":\"tempo\"}},\"yaxis\":{\"anchor\":\"x\",\"domain\":[0.0,1.0],\"title\":{\"text\":\"densidade\"}},\"legend\":{\"title\":{\"text\":\"variable\"},\"tracegroupgap\":0},\"margin\":{\"t\":60}},                        {\"responsive\": true}                    ).then(function(){\n",
              "                            \n",
              "var gd = document.getElementById('ba0080a4-34f6-4c1e-bc1c-31d3592f03ff');\n",
              "var x = new MutationObserver(function (mutations, observer) {{\n",
              "        var display = window.getComputedStyle(gd).display;\n",
              "        if (!display || display === 'none') {{\n",
              "            console.log([gd, 'removed!']);\n",
              "            Plotly.purge(gd);\n",
              "            observer.disconnect();\n",
              "        }}\n",
              "}});\n",
              "\n",
              "// Listen for the removal of the full notebook cells\n",
              "var notebookContainer = gd.closest('#notebook-container');\n",
              "if (notebookContainer) {{\n",
              "    x.observe(notebookContainer, {childList: true});\n",
              "}}\n",
              "\n",
              "// Listen for the clearing of the current output cell\n",
              "var outputEl = gd.closest('.output');\n",
              "if (outputEl) {{\n",
              "    x.observe(outputEl, {childList: true});\n",
              "}}\n",
              "\n",
              "                        })                };                            </script>        </div>\n",
              "</body>\n",
              "</html>"
            ]
          },
          "metadata": {}
        }
      ],
      "source": [
        "param_sit3b = [5, 5, 10, 1, 1, 1, 1, 0.6, 2, 0.4, 0.4, 1]\n",
        "A1, A2, R, t = setMyPlot(param_sit3b, 0, 15, 50, func_sazonal)\n",
        "printParam(param_sit3b)\n",
        "plotMyGraph(A1, A2, R, t )"
      ]
    },
    {
      "cell_type": "markdown",
      "metadata": {
        "id": "pogaDPk5YHpC"
      },
      "source": [
        "A informação pode ser visualizada também no plano tridimensional:"
      ]
    },
    {
      "cell_type": "code",
      "execution_count": null,
      "metadata": {
        "colab": {
          "base_uri": "https://localhost:8080/",
          "height": 542
        },
        "id": "RdOPCLtnX7DD",
        "outputId": "fdd47a13-5d72-4653-c303-1da01c9d3a86"
      },
      "outputs": [
        {
          "output_type": "display_data",
          "data": {
            "text/html": [
              "<html>\n",
              "<head><meta charset=\"utf-8\" /></head>\n",
              "<body>\n",
              "    <div>            <script src=\"https://cdnjs.cloudflare.com/ajax/libs/mathjax/2.7.5/MathJax.js?config=TeX-AMS-MML_SVG\"></script><script type=\"text/javascript\">if (window.MathJax && window.MathJax.Hub && window.MathJax.Hub.Config) {window.MathJax.Hub.Config({SVG: {font: \"STIX-Web\"}});}</script>                <script type=\"text/javascript\">window.PlotlyConfig = {MathJaxConfig: 'local'};</script>\n",
              "        <script src=\"https://cdn.plot.ly/plotly-2.18.2.min.js\"></script>                <div id=\"3155b799-487e-41f8-ac64-886db28cca40\" class=\"plotly-graph-div\" style=\"height:525px; width:100%;\"></div>            <script type=\"text/javascript\">                                    window.PLOTLYENV=window.PLOTLYENV || {};                                    if (document.getElementById(\"3155b799-487e-41f8-ac64-886db28cca40\")) {                    Plotly.newPlot(                        \"3155b799-487e-41f8-ac64-886db28cca40\",                        [{\"customdata\":[[0.0],[0.15151515151515152],[0.30303030303030304],[0.4545454545454546],[0.6060606060606061],[0.7575757575757576],[0.9090909090909092],[1.0606060606060606],[1.2121212121212122],[1.3636363636363638],[1.5151515151515151],[1.6666666666666667],[1.8181818181818183],[1.9696969696969697],[2.121212121212121],[2.272727272727273],[2.4242424242424243],[2.5757575757575757],[2.7272727272727275],[2.878787878787879],[3.0303030303030303],[3.181818181818182],[3.3333333333333335],[3.484848484848485],[3.6363636363636367],[3.787878787878788],[3.9393939393939394],[4.090909090909091],[4.242424242424242],[4.3939393939393945],[4.545454545454546],[4.696969696969697],[4.848484848484849],[5.0],[5.151515151515151],[5.303030303030303],[5.454545454545455],[5.606060606060606],[5.757575757575758],[5.909090909090909],[6.0606060606060606],[6.212121212121212],[6.363636363636364],[6.515151515151516],[6.666666666666667],[6.818181818181818],[6.96969696969697],[7.121212121212121],[7.272727272727273],[7.424242424242425],[7.575757575757576],[7.7272727272727275],[7.878787878787879],[8.030303030303031],[8.181818181818182],[8.333333333333334],[8.484848484848484],[8.636363636363637],[8.787878787878789],[8.93939393939394],[9.090909090909092],[9.242424242424242],[9.393939393939394],[9.545454545454545],[9.696969696969697],[9.84848484848485],[10.0],[10.151515151515152],[10.303030303030303],[10.454545454545455],[10.606060606060606],[10.757575757575758],[10.90909090909091],[11.06060606060606],[11.212121212121213],[11.363636363636363],[11.515151515151516],[11.666666666666668],[11.818181818181818],[11.96969696969697],[12.121212121212121],[12.272727272727273],[12.424242424242424],[12.575757575757576],[12.727272727272728],[12.878787878787879],[13.030303030303031],[13.181818181818182],[13.333333333333334],[13.484848484848484],[13.636363636363637],[13.787878787878789],[13.93939393939394],[14.090909090909092],[14.242424242424242],[14.393939393939394],[14.545454545454547],[14.696969696969697],[14.84848484848485],[15.0]],\"hovertemplate\":\"X: %{x}<br>Y: %{y}<br>Z: %{z}<br>t: %{customdata[0]}\",\"legendgroup\":\"\",\"line\":{\"color\":\"#636efa\",\"dash\":\"solid\"},\"marker\":{\"symbol\":\"circle\"},\"mode\":\"lines\",\"name\":\"\",\"scene\":\"scene\",\"showlegend\":false,\"x\":[5.0,5.315502985248978,5.603391891043373,5.848829843666125,6.037320973667617,6.157103002109511,6.201102126361477,6.167292378970013,6.05727897626703,5.874348247819712,5.622615009863916,5.307948267457656,4.9400275972916745,4.533971522450719,4.109917422034631,3.6900947892376386,3.294769505048741,2.939201709633747,2.6326427695828127,2.378850641685641,2.1771672701030504,2.023676010898815,1.9123880888575604,1.8364087939950047,1.7888885003630586,1.7635913404811672,1.7550800797022292,1.7586343116064809,1.770032951843594,1.7852917423353631,1.8004065214130476,1.8111366810723075,1.8128768430902515,1.8007127303325074,1.769837935090071,1.7165729299588495,1.6400854939288896,1.5442326359544056,1.4379014504675784,1.3325122902996338,1.2380350135744032,1.1604892488188574,1.1018865243806644,1.0614597980081555,1.0370054181716835,1.025844455423366,1.0253448365299338,1.0331164246666455,1.0470158523408466,1.0650615540395059,1.085315890895323,1.1057627624990738,1.1241978172914928,1.138153307626902,1.144900507799215,1.1416103017857722,1.1257930668097966,1.0961176666228352,1.0534829492743274,1.0017114138669885,0.9469480417759006,0.895687996628201,0.8527608895057888,0.8205445090334526,0.7993589039255278,0.7882875122350916,0.7858781627183475,0.7905607852431941,0.8008261229848398,0.8152581930777516,0.8324934567998141,0.8511495112509295,0.8697457705385233,0.8866310941590978,0.8999374365108405,0.9075947612113132,0.9074698140771547,0.8977178709344662,0.8774109558892885,0.8473272347040034,0.8104252914201232,0.7713571688933606,0.7350052473449877,0.7050043026803386,0.6831589558310903,0.6697303198191136,0.6640450400433603,0.6650163635167553,0.671453088059556,0.6821901333454348,0.696110142969047,0.7121101974231996,0.7290453260939321,0.745666204166628,0.7605640887139199,0.7721412563665778,0.778640284156185,0.778288950389158,0.769635072607148,0.7521071983611884],\"y\":[6.0,6.067099875015367,6.128896245103327,6.183746104173932,6.229845660989463,6.265390196624319,6.288742897892802,6.2984749156152615,6.2931665747523695,6.2710239695832275,6.2295321178088345,6.165417672774389,6.075183691219315,5.956428599936753,5.809861866564125,5.641199870394441,5.461486561629709,5.284948868206298,5.125209183520837,4.991831794385048,4.8887925881483465,4.815144192052278,4.766944823000243,4.73920279889251,4.727129356380796,4.726664388369706,4.734543350023097,4.748160670889164,4.765375911142161,4.784321284274378,4.803222149624906,4.820222367308799,4.833202224529291,4.839587727906474,4.836194783518758,4.819277292010335,4.7852012293022455,4.732341829548881,4.663933142736145,4.589131677033965,4.51949546735961,4.463596939045324,4.424779759503329,4.4023864728494715,4.393882534484847,4.39632884021893,4.407050390051443,4.423814436358596,4.444792217645137,4.468450272420538,4.493429774313017,4.518429902749404,4.5420938772932535,4.562892669324342,4.5790078893852835,4.588240596168664,4.588038208563907,4.575861160696714,4.550225863294605,4.512447100830937,4.467848672113702,4.424397265453304,4.389152287982552,4.365788531354827,4.354727630168529,4.354542402727909,4.36318030439445,4.378610640215928,4.399051010330638,4.422984615738698,4.449096614032189,4.476186546743441,4.503075745691322,4.5285125336582235,4.551074270871273,4.569072348658038,4.580491409489274,4.583055399946856,4.574620935318156,4.554160800273532,4.5232502076461545,4.4869041224787765,4.4521731548765,4.4250987303065195,4.408741174464519,4.403382009861665,4.407733793505728,4.419973536208699,4.438288713857886,4.461069372938728,4.48692248689667,4.514615641830668,4.5429979596565,4.570914447088932,4.597116658228862,4.620170595853126,4.6383721363160335,4.649709737305507,4.651980760794373,4.643270213511465],\"z\":[10.0,7.941961174046225,6.278754158390281,4.958515604456503,3.9291899920716347,3.138378597810185,2.5339390484872735,2.0663015663630175,1.6924663636031227,1.3800964652727035,1.1096421908059337,0.8734335204840133,0.6721265651441247,0.5099599083058535,0.39072617353307565,0.3159607342827634,0.2856037653620421,0.29999383773883675,0.3614795496349521,0.47445321067242646,0.6435438369724465,0.8705362489270415,1.1512072952972539,1.4733726036167476,1.8168634926869414,2.1553547298262106,2.459458686137422,2.70038958652072,2.853606995697954,2.9020018653475645,2.8383212302307537,2.6666288668775793,2.402670713843131,2.073044732960924,1.713042520285012,1.3629319026537057,1.0624302553912686,0.8437104951718025,0.7252278382469897,0.7106928716689633,0.7945882602026813,0.968456860261843,1.2222624745037218,1.5420527058985205,1.9077986847080646,2.293278181638191,2.6679039957559425,2.999733856908944,3.25891773179738,3.4210214420624565,3.469830563313186,3.399362164648002,3.2149117115799064,2.9330457158862253,2.5805150362281135,2.1920921081694127,1.8073144264216339,1.4660838014968838,1.2032448900812083,1.0431118211022923,0.996384361052948,1.0616732199139887,1.2298789942717998,1.486989410759213,1.8140444612646738,2.186463439530763,2.5745934582077603,2.9457469468888577,3.2671916517810002,3.5094536588144516,3.649419914153434,3.672868561058276,3.5761731422607843,3.3670263857192486,3.0641166792532233,2.6957596508605803,2.297524505980336,1.9088883725035195,1.5689385573813237,1.3113108351001281,1.1592760195206393,1.1230438009353392,1.2009864952699445,1.3832101858456982,1.6539421606818108,1.9918410682845153,2.369989230141113,2.7569922302733203,3.1193226547159143,3.424404054353651,3.6438575653074663,3.756444990826696,3.750369814789033,3.624708025398633,3.38983855671623,3.0668296044151835,2.685805167771918,2.2833513836629424,1.8990158703716047,1.5709529736116121],\"type\":\"scatter3d\"}],                        {\"template\":{\"data\":{\"histogram2dcontour\":[{\"type\":\"histogram2dcontour\",\"colorbar\":{\"outlinewidth\":0,\"ticks\":\"\"},\"colorscale\":[[0.0,\"#0d0887\"],[0.1111111111111111,\"#46039f\"],[0.2222222222222222,\"#7201a8\"],[0.3333333333333333,\"#9c179e\"],[0.4444444444444444,\"#bd3786\"],[0.5555555555555556,\"#d8576b\"],[0.6666666666666666,\"#ed7953\"],[0.7777777777777778,\"#fb9f3a\"],[0.8888888888888888,\"#fdca26\"],[1.0,\"#f0f921\"]]}],\"choropleth\":[{\"type\":\"choropleth\",\"colorbar\":{\"outlinewidth\":0,\"ticks\":\"\"}}],\"histogram2d\":[{\"type\":\"histogram2d\",\"colorbar\":{\"outlinewidth\":0,\"ticks\":\"\"},\"colorscale\":[[0.0,\"#0d0887\"],[0.1111111111111111,\"#46039f\"],[0.2222222222222222,\"#7201a8\"],[0.3333333333333333,\"#9c179e\"],[0.4444444444444444,\"#bd3786\"],[0.5555555555555556,\"#d8576b\"],[0.6666666666666666,\"#ed7953\"],[0.7777777777777778,\"#fb9f3a\"],[0.8888888888888888,\"#fdca26\"],[1.0,\"#f0f921\"]]}],\"heatmap\":[{\"type\":\"heatmap\",\"colorbar\":{\"outlinewidth\":0,\"ticks\":\"\"},\"colorscale\":[[0.0,\"#0d0887\"],[0.1111111111111111,\"#46039f\"],[0.2222222222222222,\"#7201a8\"],[0.3333333333333333,\"#9c179e\"],[0.4444444444444444,\"#bd3786\"],[0.5555555555555556,\"#d8576b\"],[0.6666666666666666,\"#ed7953\"],[0.7777777777777778,\"#fb9f3a\"],[0.8888888888888888,\"#fdca26\"],[1.0,\"#f0f921\"]]}],\"heatmapgl\":[{\"type\":\"heatmapgl\",\"colorbar\":{\"outlinewidth\":0,\"ticks\":\"\"},\"colorscale\":[[0.0,\"#0d0887\"],[0.1111111111111111,\"#46039f\"],[0.2222222222222222,\"#7201a8\"],[0.3333333333333333,\"#9c179e\"],[0.4444444444444444,\"#bd3786\"],[0.5555555555555556,\"#d8576b\"],[0.6666666666666666,\"#ed7953\"],[0.7777777777777778,\"#fb9f3a\"],[0.8888888888888888,\"#fdca26\"],[1.0,\"#f0f921\"]]}],\"contourcarpet\":[{\"type\":\"contourcarpet\",\"colorbar\":{\"outlinewidth\":0,\"ticks\":\"\"}}],\"contour\":[{\"type\":\"contour\",\"colorbar\":{\"outlinewidth\":0,\"ticks\":\"\"},\"colorscale\":[[0.0,\"#0d0887\"],[0.1111111111111111,\"#46039f\"],[0.2222222222222222,\"#7201a8\"],[0.3333333333333333,\"#9c179e\"],[0.4444444444444444,\"#bd3786\"],[0.5555555555555556,\"#d8576b\"],[0.6666666666666666,\"#ed7953\"],[0.7777777777777778,\"#fb9f3a\"],[0.8888888888888888,\"#fdca26\"],[1.0,\"#f0f921\"]]}],\"surface\":[{\"type\":\"surface\",\"colorbar\":{\"outlinewidth\":0,\"ticks\":\"\"},\"colorscale\":[[0.0,\"#0d0887\"],[0.1111111111111111,\"#46039f\"],[0.2222222222222222,\"#7201a8\"],[0.3333333333333333,\"#9c179e\"],[0.4444444444444444,\"#bd3786\"],[0.5555555555555556,\"#d8576b\"],[0.6666666666666666,\"#ed7953\"],[0.7777777777777778,\"#fb9f3a\"],[0.8888888888888888,\"#fdca26\"],[1.0,\"#f0f921\"]]}],\"mesh3d\":[{\"type\":\"mesh3d\",\"colorbar\":{\"outlinewidth\":0,\"ticks\":\"\"}}],\"scatter\":[{\"fillpattern\":{\"fillmode\":\"overlay\",\"size\":10,\"solidity\":0.2},\"type\":\"scatter\"}],\"parcoords\":[{\"type\":\"parcoords\",\"line\":{\"colorbar\":{\"outlinewidth\":0,\"ticks\":\"\"}}}],\"scatterpolargl\":[{\"type\":\"scatterpolargl\",\"marker\":{\"colorbar\":{\"outlinewidth\":0,\"ticks\":\"\"}}}],\"bar\":[{\"error_x\":{\"color\":\"#2a3f5f\"},\"error_y\":{\"color\":\"#2a3f5f\"},\"marker\":{\"line\":{\"color\":\"#E5ECF6\",\"width\":0.5},\"pattern\":{\"fillmode\":\"overlay\",\"size\":10,\"solidity\":0.2}},\"type\":\"bar\"}],\"scattergeo\":[{\"type\":\"scattergeo\",\"marker\":{\"colorbar\":{\"outlinewidth\":0,\"ticks\":\"\"}}}],\"scatterpolar\":[{\"type\":\"scatterpolar\",\"marker\":{\"colorbar\":{\"outlinewidth\":0,\"ticks\":\"\"}}}],\"histogram\":[{\"marker\":{\"pattern\":{\"fillmode\":\"overlay\",\"size\":10,\"solidity\":0.2}},\"type\":\"histogram\"}],\"scattergl\":[{\"type\":\"scattergl\",\"marker\":{\"colorbar\":{\"outlinewidth\":0,\"ticks\":\"\"}}}],\"scatter3d\":[{\"type\":\"scatter3d\",\"line\":{\"colorbar\":{\"outlinewidth\":0,\"ticks\":\"\"}},\"marker\":{\"colorbar\":{\"outlinewidth\":0,\"ticks\":\"\"}}}],\"scattermapbox\":[{\"type\":\"scattermapbox\",\"marker\":{\"colorbar\":{\"outlinewidth\":0,\"ticks\":\"\"}}}],\"scatterternary\":[{\"type\":\"scatterternary\",\"marker\":{\"colorbar\":{\"outlinewidth\":0,\"ticks\":\"\"}}}],\"scattercarpet\":[{\"type\":\"scattercarpet\",\"marker\":{\"colorbar\":{\"outlinewidth\":0,\"ticks\":\"\"}}}],\"carpet\":[{\"aaxis\":{\"endlinecolor\":\"#2a3f5f\",\"gridcolor\":\"white\",\"linecolor\":\"white\",\"minorgridcolor\":\"white\",\"startlinecolor\":\"#2a3f5f\"},\"baxis\":{\"endlinecolor\":\"#2a3f5f\",\"gridcolor\":\"white\",\"linecolor\":\"white\",\"minorgridcolor\":\"white\",\"startlinecolor\":\"#2a3f5f\"},\"type\":\"carpet\"}],\"table\":[{\"cells\":{\"fill\":{\"color\":\"#EBF0F8\"},\"line\":{\"color\":\"white\"}},\"header\":{\"fill\":{\"color\":\"#C8D4E3\"},\"line\":{\"color\":\"white\"}},\"type\":\"table\"}],\"barpolar\":[{\"marker\":{\"line\":{\"color\":\"#E5ECF6\",\"width\":0.5},\"pattern\":{\"fillmode\":\"overlay\",\"size\":10,\"solidity\":0.2}},\"type\":\"barpolar\"}],\"pie\":[{\"automargin\":true,\"type\":\"pie\"}]},\"layout\":{\"autotypenumbers\":\"strict\",\"colorway\":[\"#636efa\",\"#EF553B\",\"#00cc96\",\"#ab63fa\",\"#FFA15A\",\"#19d3f3\",\"#FF6692\",\"#B6E880\",\"#FF97FF\",\"#FECB52\"],\"font\":{\"color\":\"#2a3f5f\"},\"hovermode\":\"closest\",\"hoverlabel\":{\"align\":\"left\"},\"paper_bgcolor\":\"white\",\"plot_bgcolor\":\"#E5ECF6\",\"polar\":{\"bgcolor\":\"#E5ECF6\",\"angularaxis\":{\"gridcolor\":\"white\",\"linecolor\":\"white\",\"ticks\":\"\"},\"radialaxis\":{\"gridcolor\":\"white\",\"linecolor\":\"white\",\"ticks\":\"\"}},\"ternary\":{\"bgcolor\":\"#E5ECF6\",\"aaxis\":{\"gridcolor\":\"white\",\"linecolor\":\"white\",\"ticks\":\"\"},\"baxis\":{\"gridcolor\":\"white\",\"linecolor\":\"white\",\"ticks\":\"\"},\"caxis\":{\"gridcolor\":\"white\",\"linecolor\":\"white\",\"ticks\":\"\"}},\"coloraxis\":{\"colorbar\":{\"outlinewidth\":0,\"ticks\":\"\"}},\"colorscale\":{\"sequential\":[[0.0,\"#0d0887\"],[0.1111111111111111,\"#46039f\"],[0.2222222222222222,\"#7201a8\"],[0.3333333333333333,\"#9c179e\"],[0.4444444444444444,\"#bd3786\"],[0.5555555555555556,\"#d8576b\"],[0.6666666666666666,\"#ed7953\"],[0.7777777777777778,\"#fb9f3a\"],[0.8888888888888888,\"#fdca26\"],[1.0,\"#f0f921\"]],\"sequentialminus\":[[0.0,\"#0d0887\"],[0.1111111111111111,\"#46039f\"],[0.2222222222222222,\"#7201a8\"],[0.3333333333333333,\"#9c179e\"],[0.4444444444444444,\"#bd3786\"],[0.5555555555555556,\"#d8576b\"],[0.6666666666666666,\"#ed7953\"],[0.7777777777777778,\"#fb9f3a\"],[0.8888888888888888,\"#fdca26\"],[1.0,\"#f0f921\"]],\"diverging\":[[0,\"#8e0152\"],[0.1,\"#c51b7d\"],[0.2,\"#de77ae\"],[0.3,\"#f1b6da\"],[0.4,\"#fde0ef\"],[0.5,\"#f7f7f7\"],[0.6,\"#e6f5d0\"],[0.7,\"#b8e186\"],[0.8,\"#7fbc41\"],[0.9,\"#4d9221\"],[1,\"#276419\"]]},\"xaxis\":{\"gridcolor\":\"white\",\"linecolor\":\"white\",\"ticks\":\"\",\"title\":{\"standoff\":15},\"zerolinecolor\":\"white\",\"automargin\":true,\"zerolinewidth\":2},\"yaxis\":{\"gridcolor\":\"white\",\"linecolor\":\"white\",\"ticks\":\"\",\"title\":{\"standoff\":15},\"zerolinecolor\":\"white\",\"automargin\":true,\"zerolinewidth\":2},\"scene\":{\"xaxis\":{\"backgroundcolor\":\"#E5ECF6\",\"gridcolor\":\"white\",\"linecolor\":\"white\",\"showbackground\":true,\"ticks\":\"\",\"zerolinecolor\":\"white\",\"gridwidth\":2},\"yaxis\":{\"backgroundcolor\":\"#E5ECF6\",\"gridcolor\":\"white\",\"linecolor\":\"white\",\"showbackground\":true,\"ticks\":\"\",\"zerolinecolor\":\"white\",\"gridwidth\":2},\"zaxis\":{\"backgroundcolor\":\"#E5ECF6\",\"gridcolor\":\"white\",\"linecolor\":\"white\",\"showbackground\":true,\"ticks\":\"\",\"zerolinecolor\":\"white\",\"gridwidth\":2}},\"shapedefaults\":{\"line\":{\"color\":\"#2a3f5f\"}},\"annotationdefaults\":{\"arrowcolor\":\"#2a3f5f\",\"arrowhead\":0,\"arrowwidth\":1},\"geo\":{\"bgcolor\":\"white\",\"landcolor\":\"#E5ECF6\",\"subunitcolor\":\"white\",\"showland\":true,\"showlakes\":true,\"lakecolor\":\"white\"},\"title\":{\"x\":0.05},\"mapbox\":{\"style\":\"light\"}}},\"scene\":{\"domain\":{\"x\":[0.0,1.0],\"y\":[0.0,1.0]},\"xaxis\":{\"title\":{\"text\":\"A1\"}},\"yaxis\":{\"title\":{\"text\":\"A2\"}},\"zaxis\":{\"title\":{\"text\":\"Recurso\"}}},\"legend\":{\"tracegroupgap\":0},\"margin\":{\"t\":60}},                        {\"responsive\": true}                    ).then(function(){\n",
              "                            \n",
              "var gd = document.getElementById('3155b799-487e-41f8-ac64-886db28cca40');\n",
              "var x = new MutationObserver(function (mutations, observer) {{\n",
              "        var display = window.getComputedStyle(gd).display;\n",
              "        if (!display || display === 'none') {{\n",
              "            console.log([gd, 'removed!']);\n",
              "            Plotly.purge(gd);\n",
              "            observer.disconnect();\n",
              "        }}\n",
              "}});\n",
              "\n",
              "// Listen for the removal of the full notebook cells\n",
              "var notebookContainer = gd.closest('#notebook-container');\n",
              "if (notebookContainer) {{\n",
              "    x.observe(notebookContainer, {childList: true});\n",
              "}}\n",
              "\n",
              "// Listen for the clearing of the current output cell\n",
              "var outputEl = gd.closest('.output');\n",
              "if (outputEl) {{\n",
              "    x.observe(outputEl, {childList: true});\n",
              "}}\n",
              "\n",
              "                        })                };                            </script>        </div>\n",
              "</body>\n",
              "</html>"
            ]
          },
          "metadata": {}
        }
      ],
      "source": [
        "A1, A2, R, t = setMyPlot([5, 6, 10, 1, 1, 1, 1, 0.6, 2, 1, 0.4, 1], 0, 15, 100, func_sazonal) #Configura os valores dos parâmetros \n",
        "\n",
        "#Criação de um Dataframe para ser usado na função que plota o gráfico\n",
        "d = {'x': A1, 'y': A2, 'z': R, 't': t} \n",
        "df = pd.DataFrame(data=d)\n",
        "\n",
        "\n",
        "fig = px.line_3d(df, x=A1, y=A2, z=R, labels={'x':'A1', 'y':'A2','z':'Recurso' }, custom_data=['t']) #Plota o gráfico tridimensional\n",
        "\n",
        "#Customiza as informações mostradas ao passar o mouse em cima da linha do gráfico\n",
        "fig.update_traces(\n",
        "    hovertemplate=\"<br>\".join([\n",
        "        \"X: %{x}\",\n",
        "        \"Y: %{y}\",\n",
        "        \"Z: %{z}\",\n",
        "        \"t: %{customdata[0]}\",\n",
        "    ])\n",
        ")\n",
        "\n",
        "fig.show()"
      ]
    },
    {
      "cell_type": "markdown",
      "metadata": {
        "id": "xiMoQ4y10MEp"
      },
      "source": [
        "# **V) Resultados e discussão**\n"
      ]
    },
    {
      "cell_type": "markdown",
      "metadata": {
        "id": "9YMGSlUtMvSW"
      },
      "source": [
        "Nota-se que as soluções numéricas exprimem de fato os comportamentos esperados segundo as deduções analíticas, apesar de ser difícil construir os gráficos a partir unicamente das equações obtidas. Mesmo a determinação do crescimento das cruvas partindo de pontos estacionários é de difícil determinação, ainda que seja possível, teoricamente, analisar com mais facilidade o crescimento de algumas funções em específico.  A estabilidade de cada ponto requer que algumas inequações sejam satisfeitas, o que pode ser investigado uma vez que se tenha posse dos valores dos parâmetros que regem a dinâmica entre as espécies.\n",
        "\n",
        "Embora a visualização gráfica completa das variáveis seja de difícil interpretação considerando a complexidade do sistema e a quantidade de dimensões envolvidas, um estudo em torno dos pontos estacionários possibilita compreender a maneira como as densidades dos recursos bem como das populações de espécies se modificam ao longo do tempo, considerando uma situação de competição interespecífica. Verifica-se, por exemplo, que elevados coeficientes de conversão em biomassa realmente aumentam a chance de sobrevivência de uma espécie, enquanto o aumento no tempo de obtenção do recurso prejudica esse crescimento populacional. Por outro lado, fatores como a taxa de reprodução tem contribuição \"ambígua\" à sobrevivência de uma espécie, a depender dos valores dos demais parâmetros.\n",
        "\n",
        "Ademais, a variação de tais parâmetros, em especial da função de entrada de recurso $f(t)$, possibilita encontrar situações mais condizentes com aqueleas encontradas no mundo real. Nos casos em que a função é constante, a estabilidade ocorre apenas através da extinção de pelo menos uma das espécies ou por meio de uma \"meta-estabilidade\", que ocorreria quando ambas as espécies tivessem a mesma aptidão, algo bastante improvável na realidade. Com a introdução de oscilações nessa entrada de recurso, simulando os efeitos sazonais que ocorrem em diversos ecossistemas, observa-se uma maior possibilidade de mútuo convívio entre essas espécies que competem pelo recurso. Sua limitação periódica regula o crescimento daqueles que o consumiriam com mais velocidade e favorece as espécies que, embora tenham menor taxa de reprodução, desenvolvem mecanismos para aproveitar a quantidade limitada que está a sua disposição."
      ]
    },
    {
      "cell_type": "markdown",
      "metadata": {
        "id": "JrTGEWqv0T0D"
      },
      "source": [
        "#**VI) Conclusão**"
      ]
    },
    {
      "cell_type": "markdown",
      "metadata": {
        "id": "LE3Ckv71BPh9"
      },
      "source": [
        "Ao final deste trabalho, foi possível compreender melhor como as Equações diferenciais Ordinárias podem ser utilizadas para modelar a competição entre espécies por um recurso limitante dentro de um ambiente onde há uma entrada externa contribuindo para o aumento do mesmo recurso. Utilizou-se o modelo de Lluc Briganti Wiprachtiger como ponto de partida e a partir da análise de seus pontos de equilíbrio foi possível verificar a prevalência do princípio da exclusão competitiva, mostrando que o sistema tendia naturalmente à extinção de ao menos uma das duas espécies envolvidas, sugerindo uma discrepância entre a aproximação matemática e os ecossistemas reais onde observa-se coexistência apesar da competição. \n",
        "\n",
        "Com isso, surgiu a necessidade de se identificar mecanismos capazes de permitir essa coexistência dentro do modelo, e durante o estudo realizado foram encontradas duas configurações que amenizaram significativamente os efeitos da exclusão competitiva. A primeira delas e também a mais restrita ocorre quando as aptidões das duas populações são bastante semelhantes, se aproximando de um caso de meta-estabilidade, sendo caracterizada pela coexistência temporária entre as duas espécies, culminando no triunfo de uma espécie sobre a outra após um tempo extremamente longo. \n",
        "\n",
        "O segundo fator e também o mais geral que permitiu um equilíbrio duradouro entre os dois grupos consistiu em ajustar a entrada $f(t)$ de modo a simular o efeito de agentes sazonais (exemplo: estação do ano, dia e noite, meteorologia, cheias de rios, etc). Após considerar $f(t) = r + Csen$ com $C < r $, notou-se que as espécies passaram a coexistir por um período bem mais prolongado em comparação ao caso com entrada constante $f(t) = r$. Portanto, chegou-se numericamente à intrigante conclusão de que, em ecossistemas reais, fenômenos sazonais podem ter um importante papel no equilíbrio entre diferentes grupos de mesmo nicho ecológico, e ao isolar um ambiente excluindo tais fatores provoca-se uma organização favorável ao princípio da exclusão competitiva."
      ]
    },
    {
      "cell_type": "markdown",
      "source": [
        "#**VII) Referências**"
      ],
      "metadata": {
        "id": "kPgzMJUTbRdT"
      }
    },
    {
      "cell_type": "markdown",
      "source": [
        "* L. Wiprachtiger. \"The effects of seasonality on competition for a limiting resource\".  2021.\n",
        "\n",
        "* P. Chesson. “Multispecies Competition in Variable Environments”. In: Theoretical Population Biology 45.3 (1994), pp. 227–276.\n",
        "\n",
        "* L. Eigentler and J. A. Sherratt. “Metastability as a Coexistence Mechanism in a Model\n",
        "for Dryland Vegetation Patterns”. In: Bulletin of Mathematical Biology 81.7 (2019)\n",
        "\n",
        "* D. Jordan. Nonlinear Ordinary Differential Equations: An Introduction for Scientists\n",
        "and Engineers. OXFORD UNIV PR, 2007. 560 pp.\n",
        "\n",
        "* M. A. McPeek. “Intraspecific density dependence and a guild of consumers coexisting\n",
        "on one resource”. In: Ecology 93.12 (2012), pp. 2728–2735.\n",
        "\n",
        "* D. Tilman. “Competition and Biodiversity in Spatially Structured Habitats”. In: Ecology 75.1 (1994), pp. 2–16.\n",
        "\n",
        "* G. STRANG. \"Differential equations and linear algebra\". Wellesley - Cambridge Press (2015).\n",
        "\n",
        "* \"Population demography\" , OpenStax College, Biology, CC BY 4.0. Acessado em: https://pt.khanacademy.org/science/biology/ecology/population-ecology/a/population-size-density-and-dispersal, 24/04/2023 às 17:23."
      ],
      "metadata": {
        "id": "go6CgFfbbXV7"
      }
    }
  ],
  "metadata": {
    "colab": {
      "collapsed_sections": [
        "Ilgs-j5MV7h-",
        "OXPV9QRpUo-p",
        "QnCs1EWvQIjt"
      ],
      "provenance": [],
      "include_colab_link": true
    },
    "kernelspec": {
      "display_name": "Python 3",
      "name": "python3"
    },
    "language_info": {
      "name": "python"
    }
  },
  "nbformat": 4,
  "nbformat_minor": 0
}